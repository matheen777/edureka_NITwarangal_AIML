{
 "cells": [
  {
   "cell_type": "markdown",
   "metadata": {},
   "source": [
    "Problem Statement:\n",
    "\n",
    "Define an eight - armed bandit  and compute the average rewards received by selecting the arms in a random manner. \n",
    "\n",
    "The probabilities of success for each of the arms are given below. ﻿\n",
    "﻿Note: The probabilities should sum up to one.\n",
    "             \n",
    "Carry out the following tasks:\n",
    " \n",
    "1.     Given a customized multi - armed bandit environment, create an eight - armed bandit.\n",
    "\n",
    "2.     Given the total number of episodes as  250 and total number of steps as \n",
    "\n",
    "150,  write the code to define the eight -  armed bandit.\n",
    "\n",
    "3.     Write the code  to compute the average rewards received by random selection of arms. Print the average rewards received towards the end.\n",
    "\n",
    "4.      Print your output to a csv file.\n",
    " \n",
    "Output Format:\n",
    "\n",
    "Write the average reward received towards the end in output.csv, which should be present at the location /code/output/output.csv\n",
    "\n",
    "Example:  output.csv will have data that looks as given below: ﻿\n"
   ]
  },
  {
   "cell_type": "code",
   "execution_count": 1,
   "metadata": {},
   "outputs": [
    {
     "name": "stdout",
     "output_type": "stream",
     "text": [
      "8\n"
     ]
    }
   ],
   "source": [
    "import gym\n",
    "import numpy as np\n",
    "import random\n",
    "from matplotlib import pyplot as plot\n",
    "import pandas as pd\n",
    "class MultiArmedBandit:\n",
    "    def __init__(self, reward_probability_dist=[0.3, 0.5, 0.8]):\n",
    "\n",
    "        self.reward_probability_dist = reward_probability_dist\n",
    "\n",
    "    def step(self, action):\n",
    "\n",
    "        if action > len(self.reward_probability_dist):\n",
    "            raise Exception(\"MULTI ARMED BANDIT][ERROR] the action\" + str(action) + \" is out of range, total actions: \" +\\\n",
    "                            str(len(self.reward_probability_dist)))\n",
    "        p = self.reward_probability_dist[action]\n",
    "        q = 1.0-p\n",
    "        return np.random.choice(2, p=[q, p])\n",
    "def create_bandit(reward_dist):\n",
    "    if abs(sum(reward_dist )-1 ) > 0.1e-2:\n",
    "        print(\"Adjust the reward distribution to sum to one..\")\n",
    "    env = MultiArmedBandit(reward_probability_dist=reward_distribution)\n",
    "    num_arms= len(reward_distribution)\n",
    "    return env,num_arms\n",
    "tot_episodes=250\n",
    "tot_steps =150\n",
    "reward_distribution = [0.1,0.06,0.06,0.4,0.3,0.02,0.03,0.03]\n",
    "env,tot_arms = create_bandit(reward_distribution)\n",
    "tot_arms = len(reward_distribution)\n",
    "print(tot_arms)\n",
    "def perform_random_multiarm_bandit():\n",
    "    average_value_function = np.zeros(tot_arms)\n",
    "    cumulated_reward_list = list()\n",
    "    for episode in range(tot_episodes):\n",
    "        cumulated_reward = 0\n",
    "        reward_counter_array = np.zeros(tot_arms)\n",
    "        action_counter_array = np.full(tot_arms, 1.0e-5)\n",
    "        for step in range(tot_steps):\n",
    "            action = np.random.randint(low=0, high=tot_arms)\n",
    "            reward = env.step(action)\n",
    "            reward_counter_array[action] += reward\n",
    "            action_counter_array[action] += 1\n",
    "            cumulated_reward += reward\n",
    "        cumulated_reward_list.append(cumulated_reward)\n",
    "        value_function = np.true_divide(reward_counter_array, action_counter_array)\n",
    "        average_value_function += value_function\n",
    "    return average_value_function,cumulated_reward_list,action_counter_array\n",
    "random_average_value_fn ,random_rewards,random_actions = perform_random_multiarm_bandit()\n",
    "data = {\"Average Reward\":np.mean(random_rewards)}\n",
    "result = pd.DataFrame(data,index=[0]) \n",
    "result.to_csv('output.csv', index=False)"
   ]
  },
  {
   "cell_type": "code",
   "execution_count": null,
   "metadata": {},
   "outputs": [],
   "source": []
  }
 ],
 "metadata": {
  "kernelspec": {
   "display_name": "Python 3",
   "language": "python",
   "name": "python3"
  },
  "language_info": {
   "codemirror_mode": {
    "name": "ipython",
    "version": 3
   },
   "file_extension": ".py",
   "mimetype": "text/x-python",
   "name": "python",
   "nbconvert_exporter": "python",
   "pygments_lexer": "ipython3",
   "version": "3.7.3"
  }
 },
 "nbformat": 4,
 "nbformat_minor": 2
}
