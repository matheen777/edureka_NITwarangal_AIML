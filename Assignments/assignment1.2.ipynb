{
 "cells": [
  {
   "cell_type": "code",
   "execution_count": 9,
   "metadata": {
    "scrolled": true
   },
   "outputs": [
    {
     "ename": "SyntaxError",
     "evalue": "EOL while scanning string literal (<ipython-input-9-cf29156c49af>, line 10)",
     "output_type": "error",
     "traceback": [
      "\u001b[1;36m  File \u001b[1;32m\"<ipython-input-9-cf29156c49af>\"\u001b[1;36m, line \u001b[1;32m10\u001b[0m\n\u001b[1;33m    df=pd.read_csv(quizfolder+\"\\\"+item)\u001b[0m\n\u001b[1;37m                                       ^\u001b[0m\n\u001b[1;31mSyntaxError\u001b[0m\u001b[1;31m:\u001b[0m EOL while scanning string literal\n"
     ]
    }
   ],
   "source": [
    "import os\n",
    "import pandas as pd\n",
    "quizfolder=\"C:\\\\Users\\\\hp\\\\edureka COURSE\\\\ML assignments\\\\quiz\"\n",
    "markssheetlist=os.listdir(quizfolder)\n",
    "\n",
    "\n",
    "listofdfofmarks=[]\n",
    "i=0\n",
    "for item in markssheetlist:\n",
    "    df=pd.read_csv(quizfolder+\"\\\\\"+item)\n",
    "    df=df[df['State']==\"Finished\"]\n",
    "    df[df.columns[10]]=pd.to_numeric(df[df.columns[10]])\n",
    "    columnlist=df.columns\n",
    "    selectedcolumnlist=[columnlist[1],columnlist[10]]\n",
    "    listofdfofmarks.append(df[selectedcolumnlist])\n",
    "    selectedcolumnlist=[\"studentname\", \"week\"+str(i+1)+selectedcolumnlist[1]]\n",
    "    listofdfofmarks[i].columns=selectedcolumnlist\n",
    "    i+=1\n",
    "    \n",
    "studentlist=\"studentlist.csv\"\n",
    "namedf = pd.read_csv(studentlist)\n",
    "\n",
    "for item in listofdfofmarks:\n",
    "    namedf=pd.merge(namedf,item,on=\"studentname\",how=\"left\")\n",
    "    #droping extra names\n",
    "    count=0\n",
    "    indexnumber=4\n",
    "    for item in namedf.enrollmentnumber.value_counts().index:\n",
    "        if(namedf.enrollmentnumber.value_counts()[item]>1):\n",
    "            count+=1\n",
    "            valno=1\n",
    "            maxvalue=namedf[namedf.enrollmentnumber==item][namedf.columns[indexnumber]].max()\n",
    "            for item2 in namedf[namedf.enrollmentnumber==item].index:\n",
    "                if valno==1:\n",
    "                    namedf.loc[item2,namedf.columns[indexnumber]]=maxvalue\n",
    "                    valno+=1\n",
    "                    continue\n",
    "                else:\n",
    "                    namedf.drop(item2,inplace=True)\n",
    "    indexnumber+=1\n",
    "\n",
    "\n",
    "namedf.reset_index(inplace=True)\n",
    "namedf.drop('index',axis=1,inplace=True)\n",
    "\n",
    "def statcalc(batchframe):\n",
    "    listofstatistics=[]\n",
    "    columnlist=batchframe.columns\n",
    "    columnlist=columnlist[4:]\n",
    "    for item in columnlist:\n",
    "        maxmarks=float(item[item.index(\"\\\\\")+1:])\n",
    "        noofpresent=batchframe[item].count()\n",
    "        lessthan50=batchframe[batchframe[item]<maxmarks/2][item].count()\n",
    "        between50and60=batchframe[(batchframe[item]>=maxmarks/2) & (batchframe[item]<maxmarks*.6)][item].count()\n",
    "        between60and70=batchframe[(batchframe[item]>=maxmarks*.6) & (batchframe[item]<maxmarks*.7)][item].count()\n",
    "        between70and80=batchframe[(batchframe[item]>=maxmarks*.7) & (batchframe[item]<maxmarks*.8)][item].count()\n",
    "        greaterthan80=batchframe[batchframe[item]>=maxmarks*.8][item].count()\n",
    "        dict1={\"noofpresent\": noofpresent,\"lessthan50\":lessthan50, \"between50and60\":between50and60,\"between60and70\":between60and70,\"between70and80\":between70and80, \"greaterthan80\":greaterthan80}\n",
    "        listofstatistics.append(dict1)\n",
    "    return listofstatistics\n",
    "\n",
    "columnlist=namedf.columns[4:]\n",
    "\n",
    "batchwisefolder=\"C:\\\\Users\\\\hp\\\\edureka COURSE\\\\ML assignments\\\\batchwiselist\"\n",
    "batchlist=os.listdir(batchwisefolder)\n",
    "batchwiselist = []\n",
    "for item in batchlist:\n",
    "    df=pd.read_csv(batchwisefolder+\"\\\\\"+item)\n",
    "    batchwiselist.append(df[['enrollmentNumber']])\n",
    "namedfcolumns=list(namedf.columns)\n",
    "namedfcolumns[0]='enrollmentNumber'\n",
    "namedf.columns=namedfcolumns\n",
    "batchwisemarks=[]\n",
    "batchwisestatistics=[]\n",
    "for item in batchwiselist:\n",
    "    batchop=pd.merge(item,namedf,on=\"enrollmentNumber\",how=\"left\")\n",
    "    batchwisemarks.append(batchop)\n",
    "    listofdict=statcalc(batchop)\n",
    "    batchwisestatistics.append(pd.DataFrame(listofdict))\n",
    "\n",
    "f = open(\"testcaseStudent.txt\")\n",
    "# ff = open(\"/code/output.txt\", \"w\")\n",
    "\n",
    "numberoftestcases=int(f.readline()[:-1])\n",
    "for item in range(numberoftestcases):\n",
    "    ff = open(\"output\"+str(item+1)+\".txt\", \"w\")\n",
    "    batchname=f.readline()[:-1]\n",
    "    # if item == numberoftestcases-1:\n",
    "    stattolook=f.readline()[:-1]\n",
    "    # else:\n",
    "    #     stattolook=f.readline()\n",
    "    batchindex=batchlist.index(batchname)\n",
    "    statval=batchwisestatistics[batchindex][stattolook].values\n",
    "    for item in statval:\n",
    "        # print >> ff, str(item)\n",
    "        ff.write(\"%s\\n\" % str(item))\n",
    "        #ff.write(str(item)+'\\n')\n",
    "ff.close()\n",
    "f.close()\n",
    "'''\n",
    "for item in batchwisestatistics:\n",
    "    print(item)\n",
    "\n",
    "writer = pd.ExcelWriter(\"Assesment.xls\", engine = 'xlsxwriter')\n",
    "for item in zip(batchwisemarks,batchlist):\n",
    "    print(type(item[0]))\n",
    "    item[0].to_excel(writer, sheet_name = str(item[1]))\n",
    "writer.save()\n",
    "writer.close()\n",
    "'''\n"
   ]
  },
  {
   "cell_type": "code",
   "execution_count": 7,
   "metadata": {},
   "outputs": [
    {
     "data": {
      "text/plain": [
       "['.ipynb_checkpoints', 'quiz1.csv', 'quiz2.csv']"
      ]
     },
     "execution_count": 7,
     "metadata": {},
     "output_type": "execute_result"
    }
   ],
   "source": [
    "#markssheetlist=os.listdir(quizfolder)\n",
    "os.listdir(quizfolder)"
   ]
  },
  {
   "cell_type": "code",
   "execution_count": 4,
   "metadata": {},
   "outputs": [],
   "source": [
    "batchwisefolder=\"C:\\\\Users\\\\hp\\\\edureka COURSE\\\\ML assignments\\\\batchwiselist\""
   ]
  },
  {
   "cell_type": "code",
   "execution_count": 5,
   "metadata": {},
   "outputs": [
    {
     "data": {
      "text/plain": [
       "['.ipynb_checkpoints',\n",
       " '1.csv',\n",
       " '10.csv',\n",
       " '11.csv',\n",
       " '12.csv',\n",
       " '13.csv',\n",
       " '14.csv',\n",
       " '15.csv',\n",
       " '16.csv',\n",
       " '17.csv',\n",
       " '18.csv',\n",
       " '19.csv',\n",
       " '2.csv',\n",
       " '3.csv',\n",
       " '4.csv',\n",
       " '5.csv',\n",
       " '6.csv',\n",
       " '7.csv',\n",
       " '8.csv',\n",
       " '9.csv']"
      ]
     },
     "execution_count": 5,
     "metadata": {},
     "output_type": "execute_result"
    }
   ],
   "source": [
    "os.listdir(batchwisefolder)"
   ]
  },
  {
   "cell_type": "code",
   "execution_count": 8,
   "metadata": {},
   "outputs": [
    {
     "data": {
      "text/plain": [
       "'C:\\\\Users\\\\hp\\\\edureka COURSE\\\\ML assignments'"
      ]
     },
     "execution_count": 8,
     "metadata": {},
     "output_type": "execute_result"
    }
   ],
   "source": [
    "os.getcwd()"
   ]
  },
  {
   "cell_type": "code",
   "execution_count": null,
   "metadata": {},
   "outputs": [],
   "source": []
  }
 ],
 "metadata": {
  "kernelspec": {
   "display_name": "Python 3",
   "language": "python",
   "name": "python3"
  },
  "language_info": {
   "codemirror_mode": {
    "name": "ipython",
    "version": 3
   },
   "file_extension": ".py",
   "mimetype": "text/x-python",
   "name": "python",
   "nbconvert_exporter": "python",
   "pygments_lexer": "ipython3",
   "version": "3.7.3"
  }
 },
 "nbformat": 4,
 "nbformat_minor": 2
}
