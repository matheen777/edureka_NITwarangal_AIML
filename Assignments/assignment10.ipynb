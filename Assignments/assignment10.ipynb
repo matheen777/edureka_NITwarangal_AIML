{
 "cells": [
  {
   "cell_type": "code",
   "execution_count": 41,
   "metadata": {},
   "outputs": [
    {
     "data": {
      "text/plain": [
       "'/home/edureka'"
      ]
     },
     "execution_count": 41,
     "metadata": {},
     "output_type": "execute_result"
    }
   ],
   "source": [
    "import os\n",
    "os.getcwd()"
   ]
  },
  {
   "cell_type": "code",
   "execution_count": 1,
   "metadata": {},
   "outputs": [
    {
     "name": "stdout",
     "output_type": "stream",
     "text": [
      "(10000, 8)\n"
     ]
    },
    {
     "data": {
      "text/html": [
       "<div>\n",
       "<style scoped>\n",
       "    .dataframe tbody tr th:only-of-type {\n",
       "        vertical-align: middle;\n",
       "    }\n",
       "\n",
       "    .dataframe tbody tr th {\n",
       "        vertical-align: top;\n",
       "    }\n",
       "\n",
       "    .dataframe thead th {\n",
       "        text-align: right;\n",
       "    }\n",
       "</style>\n",
       "<table border=\"1\" class=\"dataframe\">\n",
       "  <thead>\n",
       "    <tr style=\"text-align: right;\">\n",
       "      <th></th>\n",
       "      <th>asia</th>\n",
       "      <th>tub</th>\n",
       "      <th>smoke</th>\n",
       "      <th>lung</th>\n",
       "      <th>bronc</th>\n",
       "      <th>either</th>\n",
       "      <th>xray</th>\n",
       "      <th>dysp</th>\n",
       "    </tr>\n",
       "  </thead>\n",
       "  <tbody>\n",
       "    <tr>\n",
       "      <th>0</th>\n",
       "      <td>no</td>\n",
       "      <td>no</td>\n",
       "      <td>no</td>\n",
       "      <td>no</td>\n",
       "      <td>no</td>\n",
       "      <td>no</td>\n",
       "      <td>no</td>\n",
       "      <td>yes</td>\n",
       "    </tr>\n",
       "    <tr>\n",
       "      <th>1</th>\n",
       "      <td>no</td>\n",
       "      <td>no</td>\n",
       "      <td>yes</td>\n",
       "      <td>no</td>\n",
       "      <td>no</td>\n",
       "      <td>no</td>\n",
       "      <td>no</td>\n",
       "      <td>no</td>\n",
       "    </tr>\n",
       "    <tr>\n",
       "      <th>2</th>\n",
       "      <td>no</td>\n",
       "      <td>no</td>\n",
       "      <td>no</td>\n",
       "      <td>no</td>\n",
       "      <td>no</td>\n",
       "      <td>no</td>\n",
       "      <td>no</td>\n",
       "      <td>no</td>\n",
       "    </tr>\n",
       "    <tr>\n",
       "      <th>3</th>\n",
       "      <td>no</td>\n",
       "      <td>no</td>\n",
       "      <td>yes</td>\n",
       "      <td>no</td>\n",
       "      <td>no</td>\n",
       "      <td>no</td>\n",
       "      <td>no</td>\n",
       "      <td>no</td>\n",
       "    </tr>\n",
       "    <tr>\n",
       "      <th>4</th>\n",
       "      <td>no</td>\n",
       "      <td>no</td>\n",
       "      <td>yes</td>\n",
       "      <td>no</td>\n",
       "      <td>yes</td>\n",
       "      <td>no</td>\n",
       "      <td>no</td>\n",
       "      <td>yes</td>\n",
       "    </tr>\n",
       "  </tbody>\n",
       "</table>\n",
       "</div>"
      ],
      "text/plain": [
       "  asia tub smoke lung bronc either xray dysp\n",
       "0   no  no    no   no    no     no   no  yes\n",
       "1   no  no   yes   no    no     no   no   no\n",
       "2   no  no    no   no    no     no   no   no\n",
       "3   no  no   yes   no    no     no   no   no\n",
       "4   no  no   yes   no   yes     no   no  yes"
      ]
     },
     "execution_count": 1,
     "metadata": {},
     "output_type": "execute_result"
    }
   ],
   "source": [
    "import pandas as pd\n",
    "data = pd.read_csv('Data.csv')\n",
    "print(data.shape)\n",
    "data.head()"
   ]
  },
  {
   "cell_type": "code",
   "execution_count": 2,
   "metadata": {},
   "outputs": [],
   "source": [
    "from pgmpy.models import BayesianModel\n",
    "col_list = [('asia', 'tub'),('tub', 'either'),('either', 'xray'),('either', 'dysp'),\\\n",
    "            ('lung', 'either'),('smoke', 'lung'),('smoke', 'bronc'),('bronc', 'dysp')]\n",
    "model=BayesianModel(col_list)"
   ]
  },
  {
   "cell_type": "code",
   "execution_count": 3,
   "metadata": {},
   "outputs": [
    {
     "data": {
      "text/plain": [
       "NodeView(('asia', 'tub', 'either', 'xray', 'dysp', 'lung', 'smoke', 'bronc'))"
      ]
     },
     "execution_count": 3,
     "metadata": {},
     "output_type": "execute_result"
    }
   ],
   "source": [
    "model.nodes()"
   ]
  },
  {
   "cell_type": "code",
   "execution_count": 4,
   "metadata": {},
   "outputs": [
    {
     "data": {
      "text/plain": [
       "OutEdgeView([('asia', 'tub'), ('tub', 'either'), ('either', 'xray'), ('either', 'dysp'), ('lung', 'either'), ('smoke', 'lung'), ('smoke', 'bronc'), ('bronc', 'dysp')])"
      ]
     },
     "execution_count": 4,
     "metadata": {},
     "output_type": "execute_result"
    }
   ],
   "source": [
    "model.edges()"
   ]
  },
  {
   "cell_type": "code",
   "execution_count": 6,
   "metadata": {},
   "outputs": [
    {
     "data": {
      "image/png": "[encoded data removed]",
      "text/plain": [
       "<Figure size 432x288 with 1 Axes>"
      ]
     },
     "metadata": {},
     "output_type": "display_data"
    }
   ],
   "source": [
    "import warnings\n",
    "warnings.filterwarnings(\"ignore\")\n",
    "import matplotlib.pyplot as plt\n",
    "import networkx as nx\n",
    "nx.draw_networkx(model)\n",
    "plt.show()"
   ]
  },
  {
   "cell_type": "code",
   "execution_count": 7,
   "metadata": {},
   "outputs": [
    {
     "data": {
      "text/plain": [
       "[<TabularCPD representing P(asia:2) at 0x7f14845b0cc0>,\n",
       " <TabularCPD representing P(bronc:2 | smoke:2) at 0x7f1483de9550>,\n",
       " <TabularCPD representing P(dysp:2 | bronc:2, either:2) at 0x7f1483dc99b0>,\n",
       " <TabularCPD representing P(either:2 | lung:2, tub:2) at 0x7f1483d23f98>,\n",
       " <TabularCPD representing P(lung:2 | smoke:2) at 0x7f1483d9d5f8>,\n",
       " <TabularCPD representing P(smoke:2) at 0x7f1483d23f60>,\n",
       " <TabularCPD representing P(tub:2 | asia:2) at 0x7f1483d4c6a0>,\n",
       " <TabularCPD representing P(xray:2 | either:2) at 0x7f1483d4c0f0>]"
      ]
     },
     "execution_count": 7,
     "metadata": {},
     "output_type": "execute_result"
    }
   ],
   "source": [
    "from pgmpy.estimators import MaximumLikelihoodEstimator\n",
    "estimator =MaximumLikelihoodEstimator(model,data)\n",
    "estimator.get_parameters()"
   ]
  },
  {
   "cell_type": "code",
   "execution_count": 8,
   "metadata": {},
   "outputs": [
    {
     "data": {
      "text/plain": [
       "[<TabularCPD representing P(asia:2) at 0x7f1483d4cbe0>,\n",
       " <TabularCPD representing P(tub:2 | asia:2) at 0x7f14834d7ac8>,\n",
       " <TabularCPD representing P(smoke:2) at 0x7f1487118470>,\n",
       " <TabularCPD representing P(lung:2 | smoke:2) at 0x7f1484cffac8>,\n",
       " <TabularCPD representing P(bronc:2 | smoke:2) at 0x7f1483d23ef0>,\n",
       " <TabularCPD representing P(either:2 | lung:2, tub:2) at 0x7f1484d0a4a8>,\n",
       " <TabularCPD representing P(xray:2 | either:2) at 0x7f1484cffa90>,\n",
       " <TabularCPD representing P(dysp:2 | bronc:2, either:2) at 0x7f14f6da34e0>]"
      ]
     },
     "execution_count": 8,
     "metadata": {},
     "output_type": "execute_result"
    }
   ],
   "source": [
    "cpd_A =estimator.estimate_cpd('asia')\n",
    "cpd_t =estimator.estimate_cpd('tub')\n",
    "cpd_s =estimator.estimate_cpd('smoke')\n",
    "cpd_l =estimator.estimate_cpd('lung')\n",
    "cpd_b =estimator.estimate_cpd('bronc')\n",
    "cpd_e =estimator.estimate_cpd('either')\n",
    "cpd_x =estimator.estimate_cpd('xray')\n",
    "cpd_d =estimator.estimate_cpd('dysp')\n",
    "#print(cpd_A)\n",
    "\n",
    "model.add_cpds(cpd_A,cpd_t,cpd_s,cpd_l,cpd_b,cpd_e ,cpd_x ,cpd_d)\n",
    "model.get_cpds()"
   ]
  },
  {
   "cell_type": "code",
   "execution_count": 9,
   "metadata": {},
   "outputs": [
    {
     "name": "stdout",
     "output_type": "stream",
     "text": [
      "+-----------+--------+\n",
      "| asia(no)  | 0.9908 |\n",
      "+-----------+--------+\n",
      "| asia(yes) | 0.0092 |\n",
      "+-----------+--------+\n",
      "+----------+----------------------+----------------------+\n",
      "| asia     | asia(no)             | asia(yes)            |\n",
      "+----------+----------------------+----------------------+\n",
      "| tub(no)  | 0.9901090028259992   | 0.9565217391304348   |\n",
      "+----------+----------------------+----------------------+\n",
      "| tub(yes) | 0.009890997174000807 | 0.043478260869565216 |\n",
      "+----------+----------------------+----------------------+\n",
      "+------------+--------+\n",
      "| smoke(no)  | 0.5046 |\n",
      "+------------+--------+\n",
      "| smoke(yes) | 0.4954 |\n",
      "+------------+--------+\n",
      "+-----------+---------------------+---------------------+\n",
      "| smoke     | smoke(no)           | smoke(yes)          |\n",
      "+-----------+---------------------+---------------------+\n",
      "| lung(no)  | 0.9892984542211652  | 0.9027048849414614  |\n",
      "+-----------+---------------------+---------------------+\n",
      "| lung(yes) | 0.01070154577883472 | 0.09729511505853855 |\n",
      "+-----------+---------------------+---------------------+\n",
      "+------------+--------------------+---------------------+\n",
      "| smoke      | smoke(no)          | smoke(yes)          |\n",
      "+------------+--------------------+---------------------+\n",
      "| bronc(no)  | 0.702140309155767  | 0.40230117077109406 |\n",
      "+------------+--------------------+---------------------+\n",
      "| bronc(yes) | 0.2978596908442331 | 0.5976988292289059  |\n",
      "+------------+--------------------+---------------------+\n",
      "+-------------+----------+----------+-----------+-----------+\n",
      "| lung        | lung(no) | lung(no) | lung(yes) | lung(yes) |\n",
      "+-------------+----------+----------+-----------+-----------+\n",
      "| tub         | tub(no)  | tub(yes) | tub(no)   | tub(yes)  |\n",
      "+-------------+----------+----------+-----------+-----------+\n",
      "| either(no)  | 1.0      | 0.0      | 0.0       | 0.0       |\n",
      "+-------------+----------+----------+-----------+-----------+\n",
      "| either(yes) | 0.0      | 1.0      | 1.0       | 1.0       |\n",
      "+-------------+----------+----------+-----------+-----------+\n",
      "+-----------+----------------------+--------------------+\n",
      "| either    | either(no)           | either(yes)        |\n",
      "+-----------+----------------------+--------------------+\n",
      "| xray(no)  | 0.9485482493595218   | 0.0189873417721519 |\n",
      "+-----------+----------------------+--------------------+\n",
      "| xray(yes) | 0.051451750640478223 | 0.9810126582278481 |\n",
      "+-----------+----------------------+--------------------+\n",
      "+-----------+---------------------+--------------------+---------------------+--------------------+\n",
      "| bronc     | bronc(no)           | bronc(no)          | bronc(yes)          | bronc(yes)         |\n",
      "+-----------+---------------------+--------------------+---------------------+--------------------+\n",
      "| either    | either(no)          | either(yes)        | either(no)          | either(yes)        |\n",
      "+-----------+---------------------+--------------------+---------------------+--------------------+\n",
      "| dysp(no)  | 0.9047619047619048  | 0.2902097902097902 | 0.18698397280233123 | 0.0953757225433526 |\n",
      "+-----------+---------------------+--------------------+---------------------+--------------------+\n",
      "| dysp(yes) | 0.09523809523809523 | 0.7097902097902098 | 0.8130160271976687  | 0.9046242774566474 |\n",
      "+-----------+---------------------+--------------------+---------------------+--------------------+\n"
     ]
    }
   ],
   "source": [
    "for cpd in model.get_cpds():\n",
    "    print(cpd)"
   ]
  },
  {
   "cell_type": "code",
   "execution_count": 10,
   "metadata": {},
   "outputs": [],
   "source": [
    "from pgmpy.inference import VariableElimination\n",
    "infer = VariableElimination(model)"
   ]
  },
  {
   "cell_type": "code",
   "execution_count": 11,
   "metadata": {},
   "outputs": [
    {
     "name": "stderr",
     "output_type": "stream",
     "text": [
      "Finding Elimination Order: : 100%|██████████| 5/5 [00:00<00:00, 25.81it/s]\n",
      "Eliminating: asia: 100%|██████████| 5/5 [00:00<00:00, 48.86it/s]\n",
      "Finding Elimination Order: : 100%|██████████| 5/5 [00:00<00:00, 4486.85it/s]\n",
      "Eliminating: dysp:   0%|          | 0/5 [00:00<?, ?it/s] "
     ]
    },
    {
     "name": "stdout",
     "output_type": "stream",
     "text": [
      "+----------+------------+\n",
      "| tub      |   phi(tub) |\n",
      "+==========+============+\n",
      "| tub(no)  |     0.9960 |\n",
      "+----------+------------+\n",
      "| tub(yes) |     0.0040 |\n",
      "+----------+------------+\n"
     ]
    },
    {
     "name": "stderr",
     "output_type": "stream",
     "text": [
      "Eliminating: either: 100%|██████████| 5/5 [00:00<00:00, 25.20it/s]\n",
      "Finding Elimination Order: : 100%|██████████| 4/4 [00:00<00:00, 2863.98it/s]\n",
      "Eliminating: smoke: 100%|██████████| 4/4 [00:00<00:00, 39.90it/s]"
     ]
    },
    {
     "name": "stdout",
     "output_type": "stream",
     "text": [
      "+-----------+-------------+\n",
      "| xray      |   phi(xray) |\n",
      "+===========+=============+\n",
      "| xray(no)  |      0.0190 |\n",
      "+-----------+-------------+\n",
      "| xray(yes) |      0.9810 |\n",
      "+-----------+-------------+\n",
      "+------------+--------------+\n",
      "| bronc      |   phi(bronc) |\n",
      "+============+==============+\n",
      "| bronc(no)  |       0.1300 |\n",
      "+------------+--------------+\n",
      "| bronc(yes) |       0.8700 |\n",
      "+------------+--------------+\n"
     ]
    },
    {
     "name": "stderr",
     "output_type": "stream",
     "text": [
      "\n"
     ]
    }
   ],
   "source": [
    "#query 1\n",
    "print(infer.query(['tub'],evidence={'smoke': 'yes', 'dysp': 'no'}))\n",
    "#query 2\n",
    "print(infer.query(['xray'],evidence={'lung': 'yes', 'asia': 'yes'}))\n",
    "#query 3\n",
    "print(infer.query(['bronc'],evidence={'dysp': 'yes', 'asia': 'yes','either':'no'}))"
   ]
  },
  {
   "cell_type": "code",
   "execution_count": 12,
   "metadata": {},
   "outputs": [
    {
     "name": "stderr",
     "output_type": "stream",
     "text": [
      "Finding Elimination Order: : 100%|██████████| 5/5 [00:00<00:00, 3257.46it/s]\n",
      "Eliminating: asia: 100%|██████████| 5/5 [00:00<00:00, 25.36it/s]  \n",
      "Finding Elimination Order: : 100%|██████████| 5/5 [00:00<00:00, 4242.67it/s]\n",
      "Eliminating: smoke:  20%|██        | 1/5 [00:00<00:00,  9.98it/s]"
     ]
    },
    {
     "name": "stdout",
     "output_type": "stream",
     "text": [
      "{'tub': 'no'}\n"
     ]
    },
    {
     "name": "stderr",
     "output_type": "stream",
     "text": [
      "Eliminating: either: 100%|██████████| 5/5 [00:00<00:00, 16.69it/s]\n",
      "Finding Elimination Order: : 100%|██████████| 4/4 [00:00<00:00, 5375.59it/s]\n",
      "Eliminating: smoke: 100%|██████████| 4/4 [00:00<00:00, 40.44it/s]\n"
     ]
    },
    {
     "name": "stdout",
     "output_type": "stream",
     "text": [
      "{'xray': 'yes'}\n",
      "{'bronc': 'yes'}\n"
     ]
    }
   ],
   "source": [
    "# Map query\n",
    "print(infer.map_query(['tub'],evidence={'smoke':'yes','dysp':'no'}))\n",
    "print(infer.map_query(['xray'],evidence={'asia':'yes','lung':'yes'}))\n",
    "print(infer.map_query(['bronc'],evidence={'dysp':'yes','asia':'yes','either':'no'}))"
   ]
  },
  {
   "cell_type": "code",
   "execution_count": null,
   "metadata": {},
   "outputs": [],
   "source": []
  }
 ],
 "metadata": {
  "kernelspec": {
   "display_name": "Python 3",
   "language": "python",
   "name": "python3"
  },
  "language_info": {
   "codemirror_mode": {
    "name": "ipython",
    "version": 3
   },
   "file_extension": ".py",
   "mimetype": "text/x-python",
   "name": "python",
   "nbconvert_exporter": "python",
   "pygments_lexer": "ipython3",
   "version": "3.7.3"
  }
 },
 "nbformat": 4,
 "nbformat_minor": 2
}
