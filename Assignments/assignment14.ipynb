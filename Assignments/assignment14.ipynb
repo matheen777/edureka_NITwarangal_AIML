{
 "cells": [
  {
   "cell_type": "code",
   "execution_count": 1,
   "metadata": {},
   "outputs": [
    {
     "name": "stdout",
     "output_type": "stream",
     "text": [
      "(1103663, 2)\n"
     ]
    },
    {
     "data": {
      "text/html": [
       "<div>\n",
       "<style scoped>\n",
       "    .dataframe tbody tr th:only-of-type {\n",
       "        vertical-align: middle;\n",
       "    }\n",
       "\n",
       "    .dataframe tbody tr th {\n",
       "        vertical-align: top;\n",
       "    }\n",
       "\n",
       "    .dataframe thead th {\n",
       "        text-align: right;\n",
       "    }\n",
       "</style>\n",
       "<table border=\"1\" class=\"dataframe\">\n",
       "  <thead>\n",
       "    <tr style=\"text-align: right;\">\n",
       "      <th></th>\n",
       "      <th>publish_date</th>\n",
       "      <th>headline_text</th>\n",
       "    </tr>\n",
       "  </thead>\n",
       "  <tbody>\n",
       "    <tr>\n",
       "      <th>0</th>\n",
       "      <td>2003-02-19</td>\n",
       "      <td>aba decides against community broadcasting lic...</td>\n",
       "    </tr>\n",
       "    <tr>\n",
       "      <th>1</th>\n",
       "      <td>2003-02-19</td>\n",
       "      <td>act fire witnesses must be aware of defamation</td>\n",
       "    </tr>\n",
       "    <tr>\n",
       "      <th>2</th>\n",
       "      <td>2003-02-19</td>\n",
       "      <td>a g calls for infrastructure protection summit</td>\n",
       "    </tr>\n",
       "    <tr>\n",
       "      <th>3</th>\n",
       "      <td>2003-02-19</td>\n",
       "      <td>air nz staff in aust strike for pay rise</td>\n",
       "    </tr>\n",
       "    <tr>\n",
       "      <th>4</th>\n",
       "      <td>2003-02-19</td>\n",
       "      <td>air nz strike to affect australian travellers</td>\n",
       "    </tr>\n",
       "  </tbody>\n",
       "</table>\n",
       "</div>"
      ],
      "text/plain": [
       "  publish_date                                      headline_text\n",
       "0   2003-02-19  aba decides against community broadcasting lic...\n",
       "1   2003-02-19     act fire witnesses must be aware of defamation\n",
       "2   2003-02-19     a g calls for infrastructure protection summit\n",
       "3   2003-02-19           air nz staff in aust strike for pay rise\n",
       "4   2003-02-19      air nz strike to affect australian travellers"
      ]
     },
     "execution_count": 1,
     "metadata": {},
     "output_type": "execute_result"
    }
   ],
   "source": [
    "import pandas as pd\n",
    "df = pd.read_csv(r\"C:\\Users\\hp\\Desktop\\edureka\\assignments\\assignment14\\training-abcnews-date-text\\abcnews-date-text.csv\", parse_dates=['publish_date'],error_bad_lines=False)\n",
    "print(df.shape)\n",
    "df.head()"
   ]
  },
  {
   "cell_type": "code",
   "execution_count": 4,
   "metadata": {},
   "outputs": [
    {
     "data": {
      "text/plain": [
       "publish_date        5422\n",
       "headline_text    1076219\n",
       "dtype: int64"
      ]
     },
     "execution_count": 4,
     "metadata": {},
     "output_type": "execute_result"
    }
   ],
   "source": [
    "df.nunique()"
   ]
  },
  {
   "cell_type": "code",
   "execution_count": 5,
   "metadata": {},
   "outputs": [
    {
     "name": "stdout",
     "output_type": "stream",
     "text": [
      "<class 'pandas.core.frame.DataFrame'>\n",
      "RangeIndex: 1103663 entries, 0 to 1103662\n",
      "Data columns (total 2 columns):\n",
      "publish_date     1103663 non-null datetime64[ns]\n",
      "headline_text    1103663 non-null object\n",
      "dtypes: datetime64[ns](1), object(1)\n",
      "memory usage: 16.8+ MB\n"
     ]
    }
   ],
   "source": [
    "df.info()"
   ]
  },
  {
   "cell_type": "code",
   "execution_count": 7,
   "metadata": {},
   "outputs": [],
   "source": [
    "data_text = df[['headline_text']]\n",
    "data_text['index'] = data_text.index\n",
    "doc = data_text"
   ]
  },
  {
   "cell_type": "code",
   "execution_count": 9,
   "metadata": {},
   "outputs": [
    {
     "name": "stdout",
     "output_type": "stream",
     "text": [
      "<class 'pandas.core.frame.DataFrame'>\n",
      "RangeIndex: 1103663 entries, 0 to 1103662\n",
      "Data columns (total 2 columns):\n",
      "headline_text    1103663 non-null object\n",
      "index            1103663 non-null int64\n",
      "dtypes: int64(1), object(1)\n",
      "memory usage: 16.8+ MB\n"
     ]
    }
   ],
   "source": [
    "doc.info()"
   ]
  },
  {
   "cell_type": "code",
   "execution_count": 11,
   "metadata": {},
   "outputs": [],
   "source": [
    "data_text['headline_text'] = data_text['headline_text'].str.replace(\"[^a-zA-Z]+\", \" \")"
   ]
  },
  {
   "cell_type": "code",
   "execution_count": 12,
   "metadata": {},
   "outputs": [
    {
     "data": {
      "text/html": [
       "<div>\n",
       "<style scoped>\n",
       "    .dataframe tbody tr th:only-of-type {\n",
       "        vertical-align: middle;\n",
       "    }\n",
       "\n",
       "    .dataframe tbody tr th {\n",
       "        vertical-align: top;\n",
       "    }\n",
       "\n",
       "    .dataframe thead th {\n",
       "        text-align: right;\n",
       "    }\n",
       "</style>\n",
       "<table border=\"1\" class=\"dataframe\">\n",
       "  <thead>\n",
       "    <tr style=\"text-align: right;\">\n",
       "      <th></th>\n",
       "      <th>headline_text</th>\n",
       "      <th>index</th>\n",
       "    </tr>\n",
       "  </thead>\n",
       "  <tbody>\n",
       "    <tr>\n",
       "      <th>0</th>\n",
       "      <td>aba decides against community broadcasting lic...</td>\n",
       "      <td>0</td>\n",
       "    </tr>\n",
       "    <tr>\n",
       "      <th>1</th>\n",
       "      <td>act fire witnesses must be aware of defamation</td>\n",
       "      <td>1</td>\n",
       "    </tr>\n",
       "    <tr>\n",
       "      <th>2</th>\n",
       "      <td>a g calls for infrastructure protection summit</td>\n",
       "      <td>2</td>\n",
       "    </tr>\n",
       "    <tr>\n",
       "      <th>3</th>\n",
       "      <td>air nz staff in aust strike for pay rise</td>\n",
       "      <td>3</td>\n",
       "    </tr>\n",
       "    <tr>\n",
       "      <th>4</th>\n",
       "      <td>air nz strike to affect australian travellers</td>\n",
       "      <td>4</td>\n",
       "    </tr>\n",
       "  </tbody>\n",
       "</table>\n",
       "</div>"
      ],
      "text/plain": [
       "                                       headline_text  index\n",
       "0  aba decides against community broadcasting lic...      0\n",
       "1     act fire witnesses must be aware of defamation      1\n",
       "2     a g calls for infrastructure protection summit      2\n",
       "3           air nz staff in aust strike for pay rise      3\n",
       "4      air nz strike to affect australian travellers      4"
      ]
     },
     "execution_count": 12,
     "metadata": {},
     "output_type": "execute_result"
    }
   ],
   "source": [
    "data_text.head()"
   ]
  },
  {
   "cell_type": "code",
   "execution_count": 16,
   "metadata": {},
   "outputs": [],
   "source": [
    "from sklearn.feature_extraction.text import CountVectorizer\n",
    "vect = CountVectorizer(max_df=0.95, min_df=2,max_features=1000,ngram_range = (1,2),stop_words='english')\n",
    "vect_text = vect.fit_transform(data_text['headline_text'])"
   ]
  },
  {
   "cell_type": "code",
   "execution_count": 17,
   "metadata": {},
   "outputs": [
    {
     "data": {
      "text/plain": [
       "<1103663x1000 sparse matrix of type '<class 'numpy.int64'>'\n",
       "\twith 2832986 stored elements in Compressed Sparse Row format>"
      ]
     },
     "execution_count": 17,
     "metadata": {},
     "output_type": "execute_result"
    }
   ],
   "source": [
    "vect_text"
   ]
  },
  {
   "cell_type": "code",
   "execution_count": 20,
   "metadata": {},
   "outputs": [
    {
     "data": {
      "text/plain": [
       "array([[0.1008043 , 0.10000001, 0.10100984, 0.5979287 , 0.10025716],\n",
       "       [0.10000014, 0.1       , 0.10000002, 0.10000031, 0.59999952],\n",
       "       [0.06666668, 0.06666673, 0.06666667, 0.73333325, 0.06666667],\n",
       "       ...,\n",
       "       [0.39807424, 0.40182549, 0.06666679, 0.06666678, 0.06676669],\n",
       "       [0.10000125, 0.10000001, 0.10153724, 0.10352136, 0.59494014],\n",
       "       [0.06799694, 0.06756398, 0.73065257, 0.06710225, 0.06668426]])"
      ]
     },
     "execution_count": 20,
     "metadata": {},
     "output_type": "execute_result"
    }
   ],
   "source": [
    "from sklearn.decomposition import LatentDirichletAllocation\n",
    "lda = LatentDirichletAllocation(n_components=5)\n",
    "lda_text = lda.fit_transform(vect_text)\n",
    "lda_text"
   ]
  },
  {
   "cell_type": "code",
   "execution_count": 21,
   "metadata": {},
   "outputs": [
    {
     "data": {
      "text/plain": [
       "array([[2.01109206e-01, 2.01418073e-01, 2.01423029e-01, ...,\n",
       "        2.02117121e-01, 2.00555932e-01, 3.22416065e+01],\n",
       "       [2.01065865e-01, 2.00663508e-01, 2.01231332e-01, ...,\n",
       "        2.55636168e+03, 1.22519791e+03, 9.28543063e+02],\n",
       "       [2.90519543e+03, 6.20819685e+03, 2.41111004e+03, ...,\n",
       "        2.01606101e-01, 2.00573890e-01, 6.35099248e-01],\n",
       "       [2.01567940e-01, 2.00579426e-01, 2.86013140e-01, ...,\n",
       "        8.03293250e+00, 2.00304941e-01, 1.93815082e+01],\n",
       "       [2.00829916e-01, 2.00484350e-01, 2.01290041e-01, ...,\n",
       "        2.01666902e-01, 2.00659689e-01, 2.04198723e+02]])"
      ]
     },
     "execution_count": 21,
     "metadata": {},
     "output_type": "execute_result"
    }
   ],
   "source": [
    "lda.components_"
   ]
  },
  {
   "cell_type": "code",
   "execution_count": 25,
   "metadata": {},
   "outputs": [
    {
     "name": "stdout",
     "output_type": "stream",
     "text": [
      "topic 0       topic 1       topic 2       topic 3       topic 4       \n",
      "--------      --------      --------      --------      --------      \n",
      "interview     new           court         council       sydney        \n",
      "wins          man           australian    plan          day           \n",
      "help          police        murder        water         govt          \n",
      "open          says          accused       health        coast         \n",
      "year          australia     police        charged       set           \n",
      "fears         qld           face          report        dies          \n",
      "claims        crash         pm            govt          north         \n",
      "national      death         nt            calls         gold          \n",
      "police        world         trial         boost         house         \n",
      "probe         killed        woman         funding       act           \n",
      "rural         government    abc           group         south         \n",
      "record        car           budget        hospital      ban           \n",
      "mayor         cup           work          indigenous    west          \n",
      "bid           attack        adelaide      rise          test          \n",
      "warning       talks         business      public        residents     \n",
      "weather       school        defends       minister      labor         \n",
      "park          sex           change        support       china         \n",
      "injured       home          tax           fight         big           \n",
      "case          nsw           farmers       gets          canberra      \n",
      "hits          charges       say           guilty        urged         \n",
      "abuse         iraq          end           backs         market        \n",
      "job           country       mining        mp            perth         \n",
      "body          drug          return        service       pay           \n",
      "gas           opposition    election      push          queensland    \n",
      "make          road          says          funds         concerns      \n",
      "\n",
      "\n"
     ]
    }
   ],
   "source": [
    "import numpy as np\n",
    "import mglearn as mg  \n",
    "sorting = np.argsort(lda.components_)[:,::-1] \n",
    "features = np.array(vect.get_feature_names()) \n",
    "mg.tools.print_topics(topics=range(5), feature_names=features, sorting=sorting, topics_per_chunk=5, n_words=25)"
   ]
  },
  {
   "cell_type": "code",
   "execution_count": null,
   "metadata": {},
   "outputs": [],
   "source": []
  }
 ],
 "metadata": {
  "kernelspec": {
   "display_name": "Python 3",
   "language": "python",
   "name": "python3"
  },
  "language_info": {
   "codemirror_mode": {
    "name": "ipython",
    "version": 3
   },
   "file_extension": ".py",
   "mimetype": "text/x-python",
   "name": "python",
   "nbconvert_exporter": "python",
   "pygments_lexer": "ipython3",
   "version": "3.7.3"
  }
 },
 "nbformat": 4,
 "nbformat_minor": 2
}
