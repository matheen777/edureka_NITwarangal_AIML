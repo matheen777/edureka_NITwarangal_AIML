{
 "cells": [
  {
   "cell_type": "code",
   "execution_count": 3,
   "metadata": {},
   "outputs": [
    {
     "ename": "NameError",
     "evalue": "name 'corr' is not defined",
     "output_type": "error",
     "traceback": [
      "\u001b[1;31m---------------------------------------------------------------------------\u001b[0m",
      "\u001b[1;31mNameError\u001b[0m                                 Traceback (most recent call last)",
      "\u001b[1;32m<ipython-input-3-5afa804bd744>\u001b[0m in \u001b[0;36m<module>\u001b[1;34m\u001b[0m\n\u001b[0;32m      1\u001b[0m \u001b[1;32mimport\u001b[0m \u001b[0mpandas\u001b[0m \u001b[1;32mas\u001b[0m \u001b[0mpd\u001b[0m\u001b[1;33m\u001b[0m\u001b[1;33m\u001b[0m\u001b[0m\n\u001b[0;32m      2\u001b[0m \u001b[1;33m\u001b[0m\u001b[0m\n\u001b[1;32m----> 3\u001b[1;33m \u001b[0mhelp\u001b[0m\u001b[1;33m(\u001b[0m\u001b[0mcorr\u001b[0m\u001b[1;33m)\u001b[0m\u001b[1;33m\u001b[0m\u001b[1;33m\u001b[0m\u001b[0m\n\u001b[0m",
      "\u001b[1;31mNameError\u001b[0m: name 'corr' is not defined"
     ]
    }
   ],
   "source": [
    "import pandas as pd\n",
    "\n",
    "help(corr)"
   ]
  },
  {
   "cell_type": "code",
   "execution_count": null,
   "metadata": {},
   "outputs": [],
   "source": []
  },
  {
   "cell_type": "code",
   "execution_count": null,
   "metadata": {},
   "outputs": [],
   "source": []
  },
  {
   "cell_type": "code",
   "execution_count": null,
   "metadata": {},
   "outputs": [],
   "source": []
  },
  {
   "cell_type": "code",
   "execution_count": null,
   "metadata": {},
   "outputs": [],
   "source": []
  },
  {
   "cell_type": "code",
   "execution_count": 61,
   "metadata": {
    "scrolled": true
   },
   "outputs": [],
   "source": [
    "#q1\n",
    "import pandas as pd\n",
    "import numpy as np\n",
    "data=np.loadtxt(\"iqdata.csv\")\n",
    "data=np.sort(data)\n",
    "df1=pd.read_csv('iqdata.csv',header=None)\n",
    "df1=df.sort_values(0)\n",
    "pop_mean=round(np.mean(data),2)\n",
    "pop_stdev=round(np.std(data),2)\n",
    "\n",
    "def prob_percentage():\n",
    "    t1=[]\n",
    "    t2=[]\n",
    "    for i in df1[0]:\n",
    "        if i>=lower:\n",
    "            t1.append(i)\n",
    "        if i<=upper:\n",
    "            t2.append(i)\n",
    "    prop_lower=len(t1)/len(df1)\n",
    "    prop_upper=len(t2)/len(df1)\n",
    "    teststats=abs(prop_upper-prop_lower)*100\n",
    "    percent=round(teststats,3)\n",
    "    return percent\n",
    "    \n",
    "import csv\n",
    "from scipy import stats\n",
    "with open(\"testcaseiq.txt\", \"r\") as fd:\n",
    "    f = fd.read().splitlines()\n",
    "nfiles=f[0]\n",
    "flist=f[1:]\n",
    "flist=list(zip(*[iter(flist)]*3))\n",
    "index=1\n",
    "for i in flist:\n",
    "    lower=int(i[0])\n",
    "    upper=int(i[1])\n",
    "    s1=pd.read_csv('{}.csv'.format(i[2]),header=None)\n",
    "    test=stats.ttest_1samp(s1,0)\n",
    "    pvalue=test[1]*100\n",
    "    \n",
    "    with open(\"output\"+str(index)+\".csv\", \"w\") as out:\n",
    "        writer = csv.writer(out, delimiter=\",\")\n",
    "        writer.writerow([pop_mean])\n",
    "        writer.writerow([pop_stdev])\n",
    "        writer.writerow([prob_percentage()])\n",
    "        if pvalue<0.005:\n",
    "            writer.writerow([str('Reject')])\n",
    "        else:\n",
    "            writer.writerow([str('Accept')])\n",
    "    index=index+1"
   ]
  },
  {
   "cell_type": "code",
   "execution_count": null,
   "metadata": {},
   "outputs": [],
   "source": [
    "#q3\n",
    "from sklearn import datasets\n",
    "import numpy as np\n",
    "import csv\n",
    "import warnings\n",
    "warnings.filterwarnings(\"ignore\")\n",
    "iris = datasets.load_iris()\n",
    "x = iris.data\n",
    "y = iris.target\n",
    "from sklearn.linear_model import LogisticRegression\n",
    "from sklearn.model_selection import cross_val_score\n",
    "clf = LogisticRegression()\n",
    "scores = cross_val_score(clf, iris.data, iris.target, cv=5,scoring=\"accuracy\")\n",
    "with open(\"/code/output/output.csv\", \"w\") as out:\n",
    "    writer = csv.writer(out, delimiter=\",\")\n",
    "    writer.writerow([str(round(np.mean(scores),4))])"
   ]
  },
  {
   "cell_type": "code",
   "execution_count": null,
   "metadata": {},
   "outputs": [],
   "source": [
    "#q4\n",
    "import numpy as np\n",
    "import pandas as pd\n",
    "import csv\n",
    "from sklearn.linear_model import Lasso,Ridge\n",
    "from sklearn.model_selection import cross_validate\n",
    "df = pd.read_csv(\"/data/training/mtcars.csv\")\n",
    "x = df.loc[:, 'cyl':'carb']\n",
    "y = df.loc[:, 'mpg']\n",
    "rr = Ridge(alpha=1.0)\n",
    "lasso = Lasso(alpha=1.0)\n",
    "scores_lasso = cross_validate(rr, x, y, cv=10)\n",
    "scores_ridge = cross_validate(lasso, x, y, cv=10)\n",
    "with open(\"/code/output/output.csv\", \"w\") as out:\n",
    "    writer = csv.writer(out, delimiter=\",\")\n",
    "    writer.writerow([str(round(np.mean(scores_ridge['test_score'])-np.mean(scores_lasso['test_score']),2))])"
   ]
  },
  {
   "cell_type": "code",
   "execution_count": 2,
   "metadata": {},
   "outputs": [],
   "source": [
    "#q2\n",
    "import pandas as pd\n",
    "import numpy as np\n",
    "import csv\n",
    "df=pd.read_csv(r'C:\\Users\\hp\\Desktop\\edureka\\assignments\\assg4_q2\\bottle.csv')\n",
    "df=df[['T_degC','Salnty']]\n",
    "df=df[0:1000]\n",
    "from sklearn.impute import SimpleImputer\n",
    "imputer = SimpleImputer(missing_values=np.nan, strategy='mean')\n",
    "imputer.fit(df)\n",
    "imputed_data = imputer.transform(df.values)\n",
    "df=pd.DataFrame(imputed_data,columns=['T_degC','Salnty'])\n",
    "x = df['Salnty'].values.reshape(-1,1)\n",
    "y = df['T_degC'].values.reshape(-1,1)\n",
    "from sklearn.model_selection import train_test_split\n",
    "X_train,X_test,y_train,y_test = train_test_split(x,y,test_size=0.3,random_state=1)\n",
    "from sklearn.linear_model import LinearRegression\n",
    "lm = LinearRegression()\n",
    "reg = lm.fit(X_train,y_train)\n",
    "y_pred = reg.predict(X_test)\n",
    "\n",
    "with open(\"output1.csv\",\"w\") as out:\n",
    "    writer = csv.writer(out, delimiter=\",\")\n",
    "    writer.writerow([str(X_train.shape[0])])\n",
    "    writer.writerow([str(X_test.shape[0])])\n",
    "    writer.writerow([np.round(reg.coef_,3).tolist()])\n",
    "    writer.writerow([np.round(reg.intercept_,3).tolist()])\n",
    "\n",
    "from sklearn.metrics import mean_squared_error,r2_score\n",
    "from sklearn.model_selection import KFold,cross_validate\n",
    "\n",
    "kf = KFold(n_splits=5)\n",
    "scores = cross_validate(lm, x, y, cv=kf, scoring='neg_mean_squared_error')\n",
    "with open(\"output2.csv\", \"w\") as out:\n",
    "    writer = csv.writer(out, delimiter=',')\n",
    "    writer.writerow([str(round(mean_squared_error(y_test,y_pred),3))])\n",
    "    writer.writerow([str(round(r2_score(y_test,y_pred),3))])\n",
    "    writer.writerow([str(round(np.mean(np.sqrt(np.abs(scores['test_score']))),3))])"
   ]
  },
  {
   "cell_type": "code",
   "execution_count": null,
   "metadata": {},
   "outputs": [],
   "source": []
  },
  {
   "cell_type": "code",
   "execution_count": null,
   "metadata": {},
   "outputs": [],
   "source": []
  },
  {
   "cell_type": "code",
   "execution_count": null,
   "metadata": {},
   "outputs": [],
   "source": []
  },
  {
   "cell_type": "code",
   "execution_count": 1,
   "metadata": {},
   "outputs": [],
   "source": [
    "#q2 from team mates\n",
    "import pandas as pd\n",
    "import numpy as np\n",
    "import csv\n",
    "\n",
    "df_all = pd.read_csv(r'C:\\Users\\hp\\Desktop\\edureka\\assignments\\assg4_q2\\bottle.csv', nrows=1000)\n",
    "df = df_all.loc[:,['Salnty','T_degC']]\n",
    "df.fillna(df.mean(),inplace=True)\n",
    "x = df['Salnty'].values.reshape(-1,1)\n",
    "y = df['T_degC'].values.reshape(-1,1)\n",
    "from sklearn.model_selection import train_test_split\n",
    "X_train,X_test,y_train,y_test = train_test_split(x,y,test_size=0.3,random_state=1)\n",
    "from sklearn.linear_model import LinearRegression\n",
    "lm = LinearRegression()\n",
    "reg = lm.fit(X_train,y_train)\n",
    "y_pred = reg.predict(X_test)\n",
    "\n",
    "with open(\"output1.csv\", \"w\") as out:\n",
    "    writer = csv.writer(out, delimiter=\",\")\n",
    "    writer.writerow([str(X_train.shape[0])])\n",
    "    writer.writerow([str(X_test.shape[0])])\n",
    "    writer.writerow([np.round(reg.coef_,3).tolist()])\n",
    "    writer.writerow([np.round(reg.intercept_,3).tolist()])\n",
    "\n",
    "from sklearn.metrics import mean_squared_error,r2_score\n",
    "from sklearn.model_selection import KFold,cross_validate\n",
    "\n",
    "kf = KFold(n_splits=5)\n",
    "scores = cross_validate(lm, x, y, cv=kf, scoring='neg_mean_squared_error')\n",
    "with open(\"output2.csv\", \"w\") as out:\n",
    "    writer = csv.writer(out, delimiter=',')\n",
    "    writer.writerow([str(round(mean_squared_error(y_test,y_pred),3))])\n",
    "    writer.writerow([str(round(r2_score(y_test,y_pred),3))])\n",
    "    writer.writerow([str(round(np.mean(np.sqrt(np.abs(scores['test_score']))),3))])\n"
   ]
  },
  {
   "cell_type": "code",
   "execution_count": null,
   "metadata": {},
   "outputs": [],
   "source": []
  },
  {
   "cell_type": "code",
   "execution_count": null,
   "metadata": {},
   "outputs": [],
   "source": []
  },
  {
   "cell_type": "code",
   "execution_count": 84,
   "metadata": {},
   "outputs": [
    {
     "data": {
      "text/plain": [
       "(1000, 2)"
      ]
     },
     "execution_count": 84,
     "metadata": {},
     "output_type": "execute_result"
    }
   ],
   "source": [
    "df.shape"
   ]
  },
  {
   "cell_type": "code",
   "execution_count": null,
   "metadata": {},
   "outputs": [],
   "source": [
    "[Century]-[YY][MM][ShipCode]-[CastType][Julian Day]-[CastTime]-[Line][Sta][Depth][Bottle]-[Rec_Ind]"
   ]
  },
  {
   "cell_type": "code",
   "execution_count": 85,
   "metadata": {
    "scrolled": true
   },
   "outputs": [
    {
     "data": {
      "text/plain": [
       "T_degC    False\n",
       "Salnty    False\n",
       "dtype: bool"
      ]
     },
     "execution_count": 85,
     "metadata": {},
     "output_type": "execute_result"
    }
   ],
   "source": [
    "df.isnull().any()"
   ]
  },
  {
   "cell_type": "code",
   "execution_count": 86,
   "metadata": {},
   "outputs": [
    {
     "data": {
      "text/html": [
       "<div>\n",
       "<style scoped>\n",
       "    .dataframe tbody tr th:only-of-type {\n",
       "        vertical-align: middle;\n",
       "    }\n",
       "\n",
       "    .dataframe tbody tr th {\n",
       "        vertical-align: top;\n",
       "    }\n",
       "\n",
       "    .dataframe thead th {\n",
       "        text-align: right;\n",
       "    }\n",
       "</style>\n",
       "<table border=\"1\" class=\"dataframe\">\n",
       "  <thead>\n",
       "    <tr style=\"text-align: right;\">\n",
       "      <th></th>\n",
       "      <th>T_degC</th>\n",
       "      <th>Salnty</th>\n",
       "    </tr>\n",
       "  </thead>\n",
       "  <tbody>\n",
       "    <tr>\n",
       "      <th>count</th>\n",
       "      <td>1000.000000</td>\n",
       "      <td>1000.000000</td>\n",
       "    </tr>\n",
       "    <tr>\n",
       "      <th>mean</th>\n",
       "      <td>8.983136</td>\n",
       "      <td>33.791437</td>\n",
       "    </tr>\n",
       "    <tr>\n",
       "      <th>std</th>\n",
       "      <td>4.160246</td>\n",
       "      <td>0.547293</td>\n",
       "    </tr>\n",
       "    <tr>\n",
       "      <th>min</th>\n",
       "      <td>1.930000</td>\n",
       "      <td>30.370000</td>\n",
       "    </tr>\n",
       "    <tr>\n",
       "      <th>25%</th>\n",
       "      <td>5.387500</td>\n",
       "      <td>33.460000</td>\n",
       "    </tr>\n",
       "    <tr>\n",
       "      <th>50%</th>\n",
       "      <td>8.375000</td>\n",
       "      <td>33.889000</td>\n",
       "    </tr>\n",
       "    <tr>\n",
       "      <th>75%</th>\n",
       "      <td>12.257500</td>\n",
       "      <td>34.264250</td>\n",
       "    </tr>\n",
       "    <tr>\n",
       "      <th>max</th>\n",
       "      <td>19.300000</td>\n",
       "      <td>34.600000</td>\n",
       "    </tr>\n",
       "  </tbody>\n",
       "</table>\n",
       "</div>"
      ],
      "text/plain": [
       "            T_degC       Salnty\n",
       "count  1000.000000  1000.000000\n",
       "mean      8.983136    33.791437\n",
       "std       4.160246     0.547293\n",
       "min       1.930000    30.370000\n",
       "25%       5.387500    33.460000\n",
       "50%       8.375000    33.889000\n",
       "75%      12.257500    34.264250\n",
       "max      19.300000    34.600000"
      ]
     },
     "execution_count": 86,
     "metadata": {},
     "output_type": "execute_result"
    }
   ],
   "source": [
    "df.describe()"
   ]
  },
  {
   "cell_type": "code",
   "execution_count": 2,
   "metadata": {},
   "outputs": [
    {
     "data": {
      "text/plain": [
       "<matplotlib.collections.PathCollection at 0x1c316cd44e0>"
      ]
     },
     "execution_count": 2,
     "metadata": {},
     "output_type": "execute_result"
    },
    {
     "data": {
      "image/png": "[encoded data removed]",
      "text/plain": [
       "<Figure size 432x288 with 1 Axes>"
      ]
     },
     "metadata": {
      "needs_background": "light"
     },
     "output_type": "display_data"
    }
   ],
   "source": [
    "import matplotlib.pyplot as plt\n",
    "%matplotlib inline\n",
    "plt.scatter(df['T_degC'],df['Salnty'])\n",
    "#plt.show()"
   ]
  },
  {
   "cell_type": "code",
   "execution_count": 3,
   "metadata": {},
   "outputs": [
    {
     "data": {
      "text/plain": [
       "[<matplotlib.lines.Line2D at 0x1c317387e10>]"
      ]
     },
     "execution_count": 3,
     "metadata": {},
     "output_type": "execute_result"
    },
    {
     "data": {
      "image/png": "[encoded data removed]",
      "text/plain": [
       "<Figure size 432x288 with 1 Axes>"
      ]
     },
     "metadata": {
      "needs_background": "light"
     },
     "output_type": "display_data"
    }
   ],
   "source": [
    "plt.plot(df['T_degC'],df['Salnty'],'o')"
   ]
  },
  {
   "cell_type": "code",
   "execution_count": 5,
   "metadata": {},
   "outputs": [],
   "source": [
    "x=df['T_degC']\n",
    "y=df['Salnty']\n",
    "from sklearn.model_selection import train_test_split\n",
    "import sklearn\n",
    "x_train, x_test, y_train, y_test = train_test_split(x,y,test_size=0.3)"
   ]
  },
  {
   "cell_type": "code",
   "execution_count": 6,
   "metadata": {},
   "outputs": [],
   "source": [
    "from sklearn.linear_model import LinearRegression\n",
    "clf=LinearRegression()"
   ]
  },
  {
   "cell_type": "code",
   "execution_count": null,
   "metadata": {},
   "outputs": [],
   "source": []
  },
  {
   "cell_type": "code",
   "execution_count": 126,
   "metadata": {},
   "outputs": [
    {
     "name": "stdout",
     "output_type": "stream",
     "text": [
      "Coefficients: \n",
      " [938.23786125]\n",
      "Mean squared error: 2548.07\n",
      "Variance score: 0.47\n"
     ]
    },
    {
     "data": {
      "image/png": "[encoded data removed]",
      "text/plain": [
       "<Figure size 432x288 with 1 Axes>"
      ]
     },
     "metadata": {},
     "output_type": "display_data"
    }
   ],
   "source": [
    "\n",
    "import matplotlib.pyplot as plt\n",
    "import numpy as np\n",
    "from sklearn import datasets, linear_model\n",
    "from sklearn.metrics import mean_squared_error, r2_score\n",
    "\n",
    "# Load the diabetes dataset\n",
    "diabetes = datasets.load_diabetes()\n",
    "\n",
    "\n",
    "# Use only one feature\n",
    "diabetes_X = diabetes.data[:, np.newaxis, 2]\n",
    "\n",
    "# Split the data into training/testing sets\n",
    "diabetes_X_train = diabetes_X[:-20]\n",
    "diabetes_X_test = diabetes_X[-20:]\n",
    "\n",
    "# Split the targets into training/testing sets\n",
    "diabetes_y_train = diabetes.target[:-20]\n",
    "diabetes_y_test = diabetes.target[-20:]\n",
    "\n",
    "# Create linear regression object\n",
    "regr = linear_model.LinearRegression()\n",
    "\n",
    "# Train the model using the training sets\n",
    "regr.fit(diabetes_X_train, diabetes_y_train)\n",
    "\n",
    "# Make predictions using the testing set\n",
    "diabetes_y_pred = regr.predict(diabetes_X_test)\n",
    "\n",
    "# The coefficients\n",
    "print('Coefficients: \\n', regr.coef_)\n",
    "# The mean squared error\n",
    "print(\"Mean squared error: %.2f\"\n",
    "      % mean_squared_error(diabetes_y_test, diabetes_y_pred))\n",
    "# Explained variance score: 1 is perfect prediction\n",
    "print('Variance score: %.2f' % r2_score(diabetes_y_test, diabetes_y_pred))\n",
    "\n",
    "# Plot outputs\n",
    "plt.scatter(diabetes_X_test, diabetes_y_test,  color='black')\n",
    "plt.plot(diabetes_X_test, diabetes_y_pred, color='blue', linewidth=3)\n",
    "\n",
    "plt.xticks(())\n",
    "plt.yticks(())\n",
    "\n",
    "plt.show()"
   ]
  },
  {
   "cell_type": "code",
   "execution_count": null,
   "metadata": {},
   "outputs": [],
   "source": []
  },
  {
   "cell_type": "code",
   "execution_count": null,
   "metadata": {},
   "outputs": [],
   "source": []
  },
  {
   "cell_type": "code",
   "execution_count": null,
   "metadata": {},
   "outputs": [],
   "source": [
    "import pandas as pd\n",
    "import numpy as np\n",
    "import csv\n",
    "\n",
    "\"\"\"\n",
    "I.Load 1000 rows from the dataset from the file bottle.csv.\n",
    "\"\"\"\n",
    "\n",
    "df_all = pd.read_csv(\"/data/training/bottle.csv\", nrows=1000)\n",
    "df = df_all.loc[:,['Salnty','T_degC']]\n",
    "df.fillna(df.mean(),inplace=True)\n",
    "x = df['Salnty'].values.reshape(-1,1)\n",
    "y = df['T_degC'].values.reshape(-1,1)\n",
    "from sklearn.model_selection import train_test_split\n",
    "X_train,X_test,y_train,y_test = train_test_split(x,y,test_size=0.3,random_state=1)\n",
    "from sklearn.linear_model import LinearRegression\n",
    "lm = LinearRegression()\n",
    "reg = lm.fit(X_train,y_train)\n",
    "y_pred = reg.predict(X_test)\n",
    "\n",
    "with open(\"/code/output/output1.csv\", \"w\") as out:\n",
    "    writer = csv.writer(out, delimiter=\",\")\n",
    "    writer.writerow([str(X_train.shape[0])])\n",
    "    writer.writerow([str(X_test.shape[0])])\n",
    "    writer.writerow([np.round(reg.coef_,3).tolist()])\n",
    "    writer.writerow([np.round(reg.intercept_,3).tolist()])\n",
    "\n",
    "from sklearn.metrics import mean_squared_error,r2_score\n",
    "from sklearn.model_selection import KFold,cross_validate\n",
    "\n",
    "kf = KFold(n_splits=5)\n",
    "scores = cross_validate(lm, x, y, cv=kf, scoring='neg_mean_squared_error')\n",
    "with open(\"/code/output/output2.csv\", \"w\") as out:\n",
    "    writer = csv.writer(out, delimiter=',')\n",
    "    writer.writerow([str(round(mean_squared_error(y_test,y_pred),3))])\n",
    "    writer.writerow([str(round(r2_score(y_test,y_pred),3))])\n",
    "    writer.writerow([str(round(np.mean(np.sqrt(np.abs(scores['test_score']))),3))])\n"
   ]
  },
  {
   "cell_type": "code",
   "execution_count": null,
   "metadata": {},
   "outputs": [],
   "source": []
  },
  {
   "cell_type": "code",
   "execution_count": null,
   "metadata": {},
   "outputs": [],
   "source": []
  }
 ],
 "metadata": {
  "kernelspec": {
   "display_name": "Python 3",
   "language": "python",
   "name": "python3"
  },
  "language_info": {
   "codemirror_mode": {
    "name": "ipython",
    "version": 3
   },
   "file_extension": ".py",
   "mimetype": "text/x-python",
   "name": "python",
   "nbconvert_exporter": "python",
   "pygments_lexer": "ipython3",
   "version": "3.7.3"
  }
 },
 "nbformat": 4,
 "nbformat_minor": 2
}
