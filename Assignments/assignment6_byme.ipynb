{
 "cells": [
  {
   "cell_type": "code",
   "execution_count": 1,
   "metadata": {},
   "outputs": [],
   "source": [
    "import warnings \n",
    "warnings.filterwarnings(\"ignore\") \n",
    "\n",
    "import seaborn as sns\n",
    "import numpy as np\n",
    "import pandas as pd\n",
    "train=pd.read_csv(r'C:\\Users\\hp\\Desktop\\edureka\\assignments\\training-Pacific_train\\Pacific_train.csv')\n",
    "test=pd.read_csv(r'C:\\Users\\hp\\Desktop\\edureka\\assignments\\training-Pacific_train\\Pacific_test.csv')\n",
    "\n",
    "#set(train['Status'])\n",
    "\n",
    "#f.head(2)"
   ]
  },
  {
   "cell_type": "code",
   "execution_count": 5,
   "metadata": {},
   "outputs": [],
   "source": [
    "#https://scikit-learn.org/stable/modules/generated/sklearn.metrics.recall_score.html"
   ]
  },
  {
   "cell_type": "code",
   "execution_count": 8,
   "metadata": {},
   "outputs": [],
   "source": [
    "f=train.select_dtypes(include=['int64'])"
   ]
  },
  {
   "cell_type": "code",
   "execution_count": 7,
   "metadata": {},
   "outputs": [
    {
     "name": "stdout",
     "output_type": "stream",
     "text": [
      "all these 16 are strongly correlated values with Maximum Wind:\n",
      "Maximum Wind        1.000000\n",
      "Time               -0.003257\n",
      "Minimum Pressure   -0.050730\n",
      "Low Wind NE        -0.083837\n",
      "Low Wind SE        -0.085763\n",
      "Low Wind NW        -0.086191\n",
      "Low Wind SW        -0.089288\n",
      "Moderate Wind NE   -0.093524\n",
      "Moderate Wind NW   -0.094815\n",
      "Moderate Wind SE   -0.094988\n",
      "Moderate Wind SW   -0.096661\n",
      "High Wind NE       -0.099167\n",
      "High Wind NW       -0.099882\n",
      "High Wind SE       -0.100023\n",
      "Date               -0.100092\n",
      "High Wind SW       -0.101078\n",
      "Name: Maximum Wind, dtype: float64\n"
     ]
    }
   ],
   "source": [
    "df_corr = f.corr()['Maximum Wind']\n",
    "features_list = df_corr.sort_values(ascending=False)\n",
    "print(\"all these {} are strongly correlated values with Maximum Wind:\\n{}\".format(len(features_list), features_list))"
   ]
  },
  {
   "cell_type": "code",
   "execution_count": 9,
   "metadata": {},
   "outputs": [],
   "source": [
    "numeric_features=train.select_dtypes(include=['int64']).columns.tolist()"
   ]
  },
  {
   "cell_type": "code",
   "execution_count": 10,
   "metadata": {},
   "outputs": [
    {
     "data": {
      "text/plain": [
       "<matplotlib.axes._subplots.AxesSubplot at 0x1baa7471160>"
      ]
     },
     "execution_count": 10,
     "metadata": {},
     "output_type": "execute_result"
    },
    {
     "data": {
      "image/png": "[encoded data removed]",
      "text/plain": [
       "<Figure size 432x288 with 2 Axes>"
      ]
     },
     "metadata": {
      "needs_background": "light"
     },
     "output_type": "display_data"
    }
   ],
   "source": [
    "sns.heatmap(train[numeric_features].corr())\n",
    "#Since Most of the features looks correlated so let's drop them and use which are different coloured."
   ]
  },
  {
   "cell_type": "code",
   "execution_count": 8,
   "metadata": {},
   "outputs": [],
   "source": [
    "from sklearn.metrics import confusion_matrix\n",
    "from sklearn.metrics import precision_score\n",
    "from sklearn.metrics import recall_score"
   ]
  },
  {
   "cell_type": "code",
   "execution_count": 13,
   "metadata": {},
   "outputs": [
    {
     "name": "stdout",
     "output_type": "stream",
     "text": [
      "cross value score of Decision tree: 0.9641022203603529\n",
      "precision score: 0.9667144906743185\n",
      "recall score: 0.9667144906743185\n"
     ]
    }
   ],
   "source": [
    "features_selected=['Date', 'Time','Maximum Wind','Minimum Pressure','Low Wind NE']\n",
    "label='Status'\n",
    "X_train=train[features_selected]\n",
    "y_train=train[label]\n",
    "X_test=test[features_selected]\n",
    "y_test=test[label]\n",
    "\n",
    "#Decision Tree \n",
    "from sklearn.tree import DecisionTreeClassifier\n",
    "from sklearn.model_selection import cross_val_score\n",
    "model_DT = DecisionTreeClassifier()\n",
    "model_DT.fit(X_train,y_train)\n",
    "pred_DT=model_DT.predict(X_test)\n",
    "confusion_matrix_DT=confusion_matrix(y_test,pred_DT)\n",
    "print('cross value score of Decision tree:',cross_val_score(model_DT, X_train, y_train, cv=10).mean())\n",
    "print('precision score:',precision_score(y_test,pred_DT,pos_label='positive',average='micro'))\n",
    "print('recall score:',recall_score(y_test,pred_DT,pos_label='positive',average='micro'))"
   ]
  },
  {
   "cell_type": "code",
   "execution_count": 14,
   "metadata": {},
   "outputs": [
    {
     "name": "stdout",
     "output_type": "stream",
     "text": [
      "cross value score of Random Forest: 0.9595735605075303\n",
      "precision score: 0.9611669057867049\n",
      "recall score: 0.9611669057867049\n"
     ]
    }
   ],
   "source": [
    "#Random Forests \n",
    "from sklearn.ensemble import RandomForestClassifier\n",
    "from sklearn.model_selection import cross_val_score\n",
    "model_RF = RandomForestClassifier(n_estimators=200)\n",
    "model_RF.fit(X_train,y_train)\n",
    "pred_RF=model_RF.predict(X_test)\n",
    "print('cross value score of Random Forest:',cross_val_score(model_RF, X_train, y_train, cv=10).mean())\n",
    "confusion_matrix_RF=confusion_matrix(y_test,pred_RF)\n",
    "print('precision score:',precision_score(y_test,pred_RF,pos_label='positive',average='micro'))\n",
    "print('recall score:',recall_score(y_test,pred_RF,pos_label='positive',average='micro'))"
   ]
  },
  {
   "cell_type": "code",
   "execution_count": 15,
   "metadata": {},
   "outputs": [
    {
     "name": "stdout",
     "output_type": "stream",
     "text": [
      "cross value score of Naive Bayes: 0.5647022285047114\n",
      "precision score: 0.567479674796748\n",
      "recall score: 0.567479674796748\n"
     ]
    }
   ],
   "source": [
    "#Naive Bayes \n",
    "from sklearn.naive_bayes import GaussianNB\n",
    "from sklearn.model_selection import cross_val_score\n",
    "model_NB = GaussianNB()\n",
    "model_NB.fit(X_train,y_train)\n",
    "pred_NB=model_NB.predict(X_test)\n",
    "print('cross value score of Naive Bayes:',cross_val_score(model_NB, X_train, y_train, cv=10).mean())\n",
    "confusion_matrix_NB=confusion_matrix(y_test,pred_NB)\n",
    "print('precision score:',precision_score(y_test,pred_NB,pos_label='positive',average='micro'))\n",
    "print('recall score:',recall_score(y_test,pred_NB,pos_label='positive',average='micro'))"
   ]
  },
  {
   "cell_type": "code",
   "execution_count": 16,
   "metadata": {},
   "outputs": [
    {
     "name": "stdout",
     "output_type": "stream",
     "text": [
      "cross value score of SVM: 0.5474149429947524\n",
      "precision score: 0.5651841224294596\n",
      "recall score: 0.5651841224294596\n"
     ]
    }
   ],
   "source": [
    "#SVM\n",
    "from sklearn.svm import SVC\n",
    "from sklearn.model_selection import cross_val_score\n",
    "model_svc = SVC(gamma='auto')\n",
    "model_svc.fit(X_train,y_train)\n",
    "pred_SVC=model_svc.predict(X_test)\n",
    "print('cross value score of SVM:',cross_val_score(model_svc, X_train, y_train, cv=10).mean())\n",
    "confusion_matrix_NB=confusion_matrix(y_test,pred_SVC)\n",
    "print('precision score:',precision_score(y_test,pred_SVC,pos_label='positive',average='micro'))\n",
    "print('recall score:',recall_score(y_test,pred_SVC,pos_label='positive',average='micro'))"
   ]
  },
  {
   "cell_type": "code",
   "execution_count": 18,
   "metadata": {},
   "outputs": [],
   "source": [
    "result=['RandomForestClassifier', 0.96]\n",
    "result=pd.DataFrame(result)\n",
    "#writing output to output.csv\n",
    "result.to_csv('output.csv', header=False, index=False)"
   ]
  },
  {
   "cell_type": "code",
   "execution_count": null,
   "metadata": {},
   "outputs": [],
   "source": []
  }
 ],
 "metadata": {
  "kernelspec": {
   "display_name": "Python 3",
   "language": "python",
   "name": "python3"
  },
  "language_info": {
   "codemirror_mode": {
    "name": "ipython",
    "version": 3
   },
   "file_extension": ".py",
   "mimetype": "text/x-python",
   "name": "python",
   "nbconvert_exporter": "python",
   "pygments_lexer": "ipython3",
   "version": "3.7.3"
  }
 },
 "nbformat": 4,
 "nbformat_minor": 2
}
