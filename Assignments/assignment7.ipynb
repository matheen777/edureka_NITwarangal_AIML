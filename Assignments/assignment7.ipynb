{
 "cells": [
  {
   "cell_type": "code",
   "execution_count": 106,
   "metadata": {},
   "outputs": [
    {
     "name": "stdout",
     "output_type": "stream",
     "text": [
      "(179, 3)\n"
     ]
    },
    {
     "data": {
      "text/html": [
       "<div>\n",
       "<style scoped>\n",
       "    .dataframe tbody tr th:only-of-type {\n",
       "        vertical-align: middle;\n",
       "    }\n",
       "\n",
       "    .dataframe tbody tr th {\n",
       "        vertical-align: top;\n",
       "    }\n",
       "\n",
       "    .dataframe thead th {\n",
       "        text-align: right;\n",
       "    }\n",
       "</style>\n",
       "<table border=\"1\" class=\"dataframe\">\n",
       "  <thead>\n",
       "    <tr style=\"text-align: right;\">\n",
       "      <th></th>\n",
       "      <th>Article</th>\n",
       "      <th>Preprocessed-Article</th>\n",
       "      <th>Vector</th>\n",
       "    </tr>\n",
       "  </thead>\n",
       "  <tbody>\n",
       "    <tr>\n",
       "      <th>0</th>\n",
       "      <td>Musical treatment for Capra film\\n\\nThe classi...</td>\n",
       "      <td>Musical treatment Capra film The classic film ...</td>\n",
       "      <td>[0.0, 0.0, 0.0, 0.0, 0.0, 0.0, 0.0, 0.0, 0.0, ...</td>\n",
       "    </tr>\n",
       "    <tr>\n",
       "      <th>1</th>\n",
       "      <td>Spark heads world Booker list\\n\\nDame Muriel S...</td>\n",
       "      <td>Spark heads world Booker list Dame Muriel Spar...</td>\n",
       "      <td>[0.0, 0.0, 0.0, 0.0, 0.0, 0.0, 0.0, 0.0, 0.0, ...</td>\n",
       "    </tr>\n",
       "    <tr>\n",
       "      <th>10</th>\n",
       "      <td>Artists' secret postcards on sale\\n\\nPostcards...</td>\n",
       "      <td>Artists  secret postcards sale Postcards artis...</td>\n",
       "      <td>[0.0, 0.0, 0.0, 0.0, 0.0, 0.0, 0.0, 0.0, 0.0, ...</td>\n",
       "    </tr>\n",
       "    <tr>\n",
       "      <th>100</th>\n",
       "      <td>Chepkemei joins Edinburgh line-up\\n\\nSusan Che...</td>\n",
       "      <td>Chepkemei joins Edinburgh lineup Susan Chepkem...</td>\n",
       "      <td>[0.0, 0.0, 0.0, 0.0, 0.0, 0.0, 0.0, 0.0, 0.0, ...</td>\n",
       "    </tr>\n",
       "    <tr>\n",
       "      <th>101</th>\n",
       "      <td>El Guerrouj targets cross country\\n\\nDouble Ol...</td>\n",
       "      <td>El Guerrouj targets cross country Double Olymp...</td>\n",
       "      <td>[0.0, 0.0, 0.0, 0.0, 0.0, 0.0, 0.0, 0.0, 0.0, ...</td>\n",
       "    </tr>\n",
       "  </tbody>\n",
       "</table>\n",
       "</div>"
      ],
      "text/plain": [
       "                                               Article  \\\n",
       "0    Musical treatment for Capra film\\n\\nThe classi...   \n",
       "1    Spark heads world Booker list\\n\\nDame Muriel S...   \n",
       "10   Artists' secret postcards on sale\\n\\nPostcards...   \n",
       "100  Chepkemei joins Edinburgh line-up\\n\\nSusan Che...   \n",
       "101  El Guerrouj targets cross country\\n\\nDouble Ol...   \n",
       "\n",
       "                                  Preprocessed-Article  \\\n",
       "0    Musical treatment Capra film The classic film ...   \n",
       "1    Spark heads world Booker list Dame Muriel Spar...   \n",
       "10   Artists  secret postcards sale Postcards artis...   \n",
       "100  Chepkemei joins Edinburgh lineup Susan Chepkem...   \n",
       "101  El Guerrouj targets cross country Double Olymp...   \n",
       "\n",
       "                                                Vector  \n",
       "0    [0.0, 0.0, 0.0, 0.0, 0.0, 0.0, 0.0, 0.0, 0.0, ...  \n",
       "1    [0.0, 0.0, 0.0, 0.0, 0.0, 0.0, 0.0, 0.0, 0.0, ...  \n",
       "10   [0.0, 0.0, 0.0, 0.0, 0.0, 0.0, 0.0, 0.0, 0.0, ...  \n",
       "100  [0.0, 0.0, 0.0, 0.0, 0.0, 0.0, 0.0, 0.0, 0.0, ...  \n",
       "101  [0.0, 0.0, 0.0, 0.0, 0.0, 0.0, 0.0, 0.0, 0.0, ...  "
      ]
     },
     "execution_count": 106,
     "metadata": {},
     "output_type": "execute_result"
    }
   ],
   "source": [
    "import numpy as np\n",
    "import pandas as pd\n",
    "df=pd.read_json(r'C:\\Users\\hp\\Desktop\\edureka\\assignments\\training-NewsArticles\\NewsArticles.json')\n",
    "print(df.shape)\n",
    "df.head()"
   ]
  },
  {
   "cell_type": "code",
   "execution_count": 107,
   "metadata": {},
   "outputs": [],
   "source": [
    "#df.select_dtypes(include=['int64'])"
   ]
  },
  {
   "cell_type": "code",
   "execution_count": 108,
   "metadata": {},
   "outputs": [
    {
     "data": {
      "text/plain": [
       "'Musical treatment for Capra film\\n\\nThe classic film It\\'s A Wonderful Life is to be turned into a musical by the producer of the controversial hit show Jerry Springer - The Opera.\\n\\nFrank Capra\\'s 1946 movie starring James Stewart, is being turned into a £7m musical by producer Jon Thoday. He is working with Steve Brown, who wrote the award-winning musical Spend Spend Spend. A spokeswoman said the plans were in the \"very early stages\", with no cast, opening date or theatre announced.\\n\\nA series of workshops have been held in London, and on Wednesday a cast of singers unveiled the musical to a select group of potential investors. Mr Thoday said the idea of turning the film into a musical had been an ambition of his for almost 20 years. It\\'s a Wonderful Life was based on a short story, The Greatest Gift, by Philip van Doren Stern. Mr Thoday managed to buy the rights to the story from Van Doren Stern\\'s family in 1999, following Mr Brown\\'s success with Spend Spend Spend. He later secured the film rights from Paramount, enabling them to use the title It\\'s A Wonderful Life.\\n'"
      ]
     },
     "execution_count": 108,
     "metadata": {},
     "output_type": "execute_result"
    }
   ],
   "source": [
    "df.iloc[0,0]"
   ]
  },
  {
   "cell_type": "code",
   "execution_count": 109,
   "metadata": {},
   "outputs": [
    {
     "data": {
      "text/plain": [
       "'Musical treatment Capra film The classic film It A Wonderful Life turned musical producer controversial hit show Jerry Springer  The Opera  Frank Capra 1946 movie starring James Stewart  turned £7m musical producer Jon Thoday  He working Steve Brown  wrote awardwinning musical Spend Spend Spend  A spokeswoman said plans  early stages   cast  opening date theatre announced  A series workshops held London  Wednesday cast singers unveiled musical select group potential investors  Mr Thoday said idea turning film musical ambition almost 20 years  It Wonderful Life based short story  The Greatest Gift  Philip van Doren Stern  Mr Thoday managed buy rights story Van Doren Stern family 1999  following Mr Brown success Spend Spend Spend  He later secured film rights Paramount  enabling use title It A Wonderful Life '"
      ]
     },
     "execution_count": 109,
     "metadata": {},
     "output_type": "execute_result"
    }
   ],
   "source": [
    "df.iloc[0,1]"
   ]
  },
  {
   "cell_type": "code",
   "execution_count": 110,
   "metadata": {},
   "outputs": [
    {
     "data": {
      "text/plain": [
       "Counter({0.0: 8785,\n",
       "         0.0876407994: 10,\n",
       "         0.0730394847: 8,\n",
       "         0.051765919300000005: 2,\n",
       "         0.0501710651: 2,\n",
       "         0.052627493500000004: 1,\n",
       "         0.1132644996: 1,\n",
       "         0.057813178300000004: 2,\n",
       "         0.1752815989: 3,\n",
       "         0.14026829300000002: 1,\n",
       "         0.0811796147: 2,\n",
       "         0.0604752256: 2,\n",
       "         0.0535383267: 2,\n",
       "         0.0509485482: 3,\n",
       "         0.0555328317: 2,\n",
       "         0.1895708065: 1,\n",
       "         0.0545043947: 3,\n",
       "         0.0676777181: 2,\n",
       "         0.048721407800000005: 2,\n",
       "         0.0690826267: 1,\n",
       "         0.0636729618: 2,\n",
       "         0.0735728462: 1,\n",
       "         0.065549863: 1,\n",
       "         0.1665984951: 1,\n",
       "         0.0399030799: 1,\n",
       "         0.0765953312: 3,\n",
       "         0.061994016400000004: 3,\n",
       "         0.101946374: 1,\n",
       "         0.4208048789: 1,\n",
       "         0.07013414650000001: 3,\n",
       "         0.0467677101: 1,\n",
       "         0.1353554361: 1,\n",
       "         0.1070766534: 1,\n",
       "         0.0360251788: 1,\n",
       "         0.0566322498: 2,\n",
       "         0.3719640985: 1,\n",
       "         0.0590886782: 1,\n",
       "         0.11817735650000001: 1,\n",
       "         0.0497019532: 1,\n",
       "         0.2629223983: 1,\n",
       "         0.1209504512: 1,\n",
       "         0.0387506327: 1,\n",
       "         0.1460789693: 1,\n",
       "         0.21911845400000002: 1,\n",
       "         0.0342592663: 1})"
      ]
     },
     "execution_count": 110,
     "metadata": {},
     "output_type": "execute_result"
    }
   ],
   "source": [
    "from collections import Counter\n",
    "l=df.iloc[0,2]\n",
    "Counter(l)"
   ]
  },
  {
   "cell_type": "code",
   "execution_count": 111,
   "metadata": {},
   "outputs": [
    {
     "data": {
      "text/html": [
       "<div>\n",
       "<style scoped>\n",
       "    .dataframe tbody tr th:only-of-type {\n",
       "        vertical-align: middle;\n",
       "    }\n",
       "\n",
       "    .dataframe tbody tr th {\n",
       "        vertical-align: top;\n",
       "    }\n",
       "\n",
       "    .dataframe thead th {\n",
       "        text-align: right;\n",
       "    }\n",
       "</style>\n",
       "<table border=\"1\" class=\"dataframe\">\n",
       "  <thead>\n",
       "    <tr style=\"text-align: right;\">\n",
       "      <th></th>\n",
       "      <th>Article</th>\n",
       "      <th>Preprocessed-Article</th>\n",
       "      <th>Vector</th>\n",
       "    </tr>\n",
       "  </thead>\n",
       "  <tbody>\n",
       "    <tr>\n",
       "      <th>count</th>\n",
       "      <td>179</td>\n",
       "      <td>179</td>\n",
       "      <td>179</td>\n",
       "    </tr>\n",
       "    <tr>\n",
       "      <th>unique</th>\n",
       "      <td>177</td>\n",
       "      <td>177</td>\n",
       "      <td>177</td>\n",
       "    </tr>\n",
       "    <tr>\n",
       "      <th>top</th>\n",
       "      <td>Edwards tips Idowu for Euro gold\\n\\nWorld outd...</td>\n",
       "      <td>Microsoft seeking spyware trojan Microsoft inv...</td>\n",
       "      <td>[0.0, 0.0, 0.0, 0.0, 0.0, 0.0, 0.0, 0.0, 0.0, ...</td>\n",
       "    </tr>\n",
       "    <tr>\n",
       "      <th>freq</th>\n",
       "      <td>2</td>\n",
       "      <td>2</td>\n",
       "      <td>2</td>\n",
       "    </tr>\n",
       "  </tbody>\n",
       "</table>\n",
       "</div>"
      ],
      "text/plain": [
       "                                                  Article  \\\n",
       "count                                                 179   \n",
       "unique                                                177   \n",
       "top     Edwards tips Idowu for Euro gold\\n\\nWorld outd...   \n",
       "freq                                                    2   \n",
       "\n",
       "                                     Preprocessed-Article  \\\n",
       "count                                                 179   \n",
       "unique                                                177   \n",
       "top     Microsoft seeking spyware trojan Microsoft inv...   \n",
       "freq                                                    2   \n",
       "\n",
       "                                                   Vector  \n",
       "count                                                 179  \n",
       "unique                                                177  \n",
       "top     [0.0, 0.0, 0.0, 0.0, 0.0, 0.0, 0.0, 0.0, 0.0, ...  \n",
       "freq                                                    2  "
      ]
     },
     "execution_count": 111,
     "metadata": {},
     "output_type": "execute_result"
    }
   ],
   "source": [
    "df.describe()"
   ]
  },
  {
   "cell_type": "code",
   "execution_count": 112,
   "metadata": {},
   "outputs": [
    {
     "data": {
      "text/plain": [
       "Article                 object\n",
       "Preprocessed-Article    object\n",
       "Vector                  object\n",
       "dtype: object"
      ]
     },
     "execution_count": 112,
     "metadata": {},
     "output_type": "execute_result"
    }
   ],
   "source": [
    "df.dtypes"
   ]
  },
  {
   "cell_type": "code",
   "execution_count": 113,
   "metadata": {
    "scrolled": false
   },
   "outputs": [
    {
     "name": "stdout",
     "output_type": "stream",
     "text": [
      "<class 'pandas.core.frame.DataFrame'>\n",
      "Int64Index: 179 entries, 0 to 99\n",
      "Data columns (total 3 columns):\n",
      "Article                 179 non-null object\n",
      "Preprocessed-Article    179 non-null object\n",
      "Vector                  179 non-null object\n",
      "dtypes: object(3)\n",
      "memory usage: 10.6+ KB\n"
     ]
    }
   ],
   "source": [
    "df.info()"
   ]
  },
  {
   "cell_type": "code",
   "execution_count": 114,
   "metadata": {},
   "outputs": [
    {
     "data": {
      "text/plain": [
       "Index(['Article', 'Preprocessed-Article', 'Vector'], dtype='object')"
      ]
     },
     "execution_count": 114,
     "metadata": {},
     "output_type": "execute_result"
    }
   ],
   "source": [
    "df.columns"
   ]
  },
  {
   "cell_type": "code",
   "execution_count": 115,
   "metadata": {},
   "outputs": [
    {
     "data": {
      "text/plain": [
       "8868"
      ]
     },
     "execution_count": 115,
     "metadata": {},
     "output_type": "execute_result"
    }
   ],
   "source": [
    "len(df.iloc[0,2])"
   ]
  },
  {
   "cell_type": "code",
   "execution_count": 116,
   "metadata": {},
   "outputs": [
    {
     "data": {
      "text/plain": [
       "array([8868])"
      ]
     },
     "execution_count": 116,
     "metadata": {},
     "output_type": "execute_result"
    }
   ],
   "source": [
    "np.unique(list(map(len,df['Vector'])))"
   ]
  },
  {
   "cell_type": "code",
   "execution_count": 118,
   "metadata": {},
   "outputs": [],
   "source": [
    "#x=np.array(df['Vector'].astype(float))"
   ]
  },
  {
   "cell_type": "code",
   "execution_count": null,
   "metadata": {},
   "outputs": [],
   "source": []
  },
  {
   "cell_type": "code",
   "execution_count": 18,
   "metadata": {},
   "outputs": [
    {
     "ename": "ValueError",
     "evalue": "setting an array element with a sequence.",
     "output_type": "error",
     "traceback": [
      "\u001b[1;31m---------------------------------------------------------------------------\u001b[0m",
      "\u001b[1;31mValueError\u001b[0m                                Traceback (most recent call last)",
      "\u001b[1;32m<ipython-input-18-8c6f9c7954cc>\u001b[0m in \u001b[0;36m<module>\u001b[1;34m\u001b[0m\n\u001b[0;32m      1\u001b[0m \u001b[1;32mfrom\u001b[0m \u001b[0msklearn\u001b[0m\u001b[1;33m.\u001b[0m\u001b[0mcluster\u001b[0m \u001b[1;32mimport\u001b[0m \u001b[0mKMeans\u001b[0m\u001b[1;33m\u001b[0m\u001b[1;33m\u001b[0m\u001b[0m\n\u001b[0;32m      2\u001b[0m \u001b[0mkmeans\u001b[0m \u001b[1;33m=\u001b[0m \u001b[0mKMeans\u001b[0m\u001b[1;33m(\u001b[0m\u001b[0mn_clusters\u001b[0m\u001b[1;33m=\u001b[0m\u001b[1;36m2\u001b[0m\u001b[1;33m,\u001b[0m \u001b[0mrandom_state\u001b[0m\u001b[1;33m=\u001b[0m\u001b[1;36m0\u001b[0m\u001b[1;33m)\u001b[0m\u001b[1;33m\u001b[0m\u001b[1;33m\u001b[0m\u001b[0m\n\u001b[1;32m----> 3\u001b[1;33m \u001b[0mkmeans\u001b[0m\u001b[1;33m.\u001b[0m\u001b[0mfit\u001b[0m\u001b[1;33m(\u001b[0m\u001b[0mdf\u001b[0m\u001b[1;33m)\u001b[0m\u001b[1;33m\u001b[0m\u001b[1;33m\u001b[0m\u001b[0m\n\u001b[0m",
      "\u001b[1;32m~\\Anaconda3\\lib\\site-packages\\sklearn\\cluster\\k_means_.py\u001b[0m in \u001b[0;36mfit\u001b[1;34m(self, X, y, sample_weight)\u001b[0m\n\u001b[0;32m    969\u001b[0m                 \u001b[0mtol\u001b[0m\u001b[1;33m=\u001b[0m\u001b[0mself\u001b[0m\u001b[1;33m.\u001b[0m\u001b[0mtol\u001b[0m\u001b[1;33m,\u001b[0m \u001b[0mrandom_state\u001b[0m\u001b[1;33m=\u001b[0m\u001b[0mrandom_state\u001b[0m\u001b[1;33m,\u001b[0m \u001b[0mcopy_x\u001b[0m\u001b[1;33m=\u001b[0m\u001b[0mself\u001b[0m\u001b[1;33m.\u001b[0m\u001b[0mcopy_x\u001b[0m\u001b[1;33m,\u001b[0m\u001b[1;33m\u001b[0m\u001b[1;33m\u001b[0m\u001b[0m\n\u001b[0;32m    970\u001b[0m                 \u001b[0mn_jobs\u001b[0m\u001b[1;33m=\u001b[0m\u001b[0mself\u001b[0m\u001b[1;33m.\u001b[0m\u001b[0mn_jobs\u001b[0m\u001b[1;33m,\u001b[0m \u001b[0malgorithm\u001b[0m\u001b[1;33m=\u001b[0m\u001b[0mself\u001b[0m\u001b[1;33m.\u001b[0m\u001b[0malgorithm\u001b[0m\u001b[1;33m,\u001b[0m\u001b[1;33m\u001b[0m\u001b[1;33m\u001b[0m\u001b[0m\n\u001b[1;32m--> 971\u001b[1;33m                 return_n_iter=True)\n\u001b[0m\u001b[0;32m    972\u001b[0m         \u001b[1;32mreturn\u001b[0m \u001b[0mself\u001b[0m\u001b[1;33m\u001b[0m\u001b[1;33m\u001b[0m\u001b[0m\n\u001b[0;32m    973\u001b[0m \u001b[1;33m\u001b[0m\u001b[0m\n",
      "\u001b[1;32m~\\Anaconda3\\lib\\site-packages\\sklearn\\cluster\\k_means_.py\u001b[0m in \u001b[0;36mk_means\u001b[1;34m(X, n_clusters, sample_weight, init, precompute_distances, n_init, max_iter, verbose, tol, random_state, copy_x, n_jobs, algorithm, return_n_iter)\u001b[0m\n\u001b[0;32m    309\u001b[0m     \u001b[0morder\u001b[0m \u001b[1;33m=\u001b[0m \u001b[1;34m\"C\"\u001b[0m \u001b[1;32mif\u001b[0m \u001b[0mcopy_x\u001b[0m \u001b[1;32melse\u001b[0m \u001b[1;32mNone\u001b[0m\u001b[1;33m\u001b[0m\u001b[1;33m\u001b[0m\u001b[0m\n\u001b[0;32m    310\u001b[0m     X = check_array(X, accept_sparse='csr', dtype=[np.float64, np.float32],\n\u001b[1;32m--> 311\u001b[1;33m                     order=order, copy=copy_x)\n\u001b[0m\u001b[0;32m    312\u001b[0m     \u001b[1;31m# verify that the number of samples given is larger than k\u001b[0m\u001b[1;33m\u001b[0m\u001b[1;33m\u001b[0m\u001b[1;33m\u001b[0m\u001b[0m\n\u001b[0;32m    313\u001b[0m     \u001b[1;32mif\u001b[0m \u001b[0m_num_samples\u001b[0m\u001b[1;33m(\u001b[0m\u001b[0mX\u001b[0m\u001b[1;33m)\u001b[0m \u001b[1;33m<\u001b[0m \u001b[0mn_clusters\u001b[0m\u001b[1;33m:\u001b[0m\u001b[1;33m\u001b[0m\u001b[1;33m\u001b[0m\u001b[0m\n",
      "\u001b[1;32m~\\Anaconda3\\lib\\site-packages\\sklearn\\utils\\validation.py\u001b[0m in \u001b[0;36mcheck_array\u001b[1;34m(array, accept_sparse, accept_large_sparse, dtype, order, copy, force_all_finite, ensure_2d, allow_nd, ensure_min_samples, ensure_min_features, warn_on_dtype, estimator)\u001b[0m\n\u001b[0;32m    525\u001b[0m             \u001b[1;32mtry\u001b[0m\u001b[1;33m:\u001b[0m\u001b[1;33m\u001b[0m\u001b[1;33m\u001b[0m\u001b[0m\n\u001b[0;32m    526\u001b[0m                 \u001b[0mwarnings\u001b[0m\u001b[1;33m.\u001b[0m\u001b[0msimplefilter\u001b[0m\u001b[1;33m(\u001b[0m\u001b[1;34m'error'\u001b[0m\u001b[1;33m,\u001b[0m \u001b[0mComplexWarning\u001b[0m\u001b[1;33m)\u001b[0m\u001b[1;33m\u001b[0m\u001b[1;33m\u001b[0m\u001b[0m\n\u001b[1;32m--> 527\u001b[1;33m                 \u001b[0marray\u001b[0m \u001b[1;33m=\u001b[0m \u001b[0mnp\u001b[0m\u001b[1;33m.\u001b[0m\u001b[0masarray\u001b[0m\u001b[1;33m(\u001b[0m\u001b[0marray\u001b[0m\u001b[1;33m,\u001b[0m \u001b[0mdtype\u001b[0m\u001b[1;33m=\u001b[0m\u001b[0mdtype\u001b[0m\u001b[1;33m,\u001b[0m \u001b[0morder\u001b[0m\u001b[1;33m=\u001b[0m\u001b[0morder\u001b[0m\u001b[1;33m)\u001b[0m\u001b[1;33m\u001b[0m\u001b[1;33m\u001b[0m\u001b[0m\n\u001b[0m\u001b[0;32m    528\u001b[0m             \u001b[1;32mexcept\u001b[0m \u001b[0mComplexWarning\u001b[0m\u001b[1;33m:\u001b[0m\u001b[1;33m\u001b[0m\u001b[1;33m\u001b[0m\u001b[0m\n\u001b[0;32m    529\u001b[0m                 raise ValueError(\"Complex data not supported\\n\"\n",
      "\u001b[1;32m~\\Anaconda3\\lib\\site-packages\\numpy\\core\\numeric.py\u001b[0m in \u001b[0;36masarray\u001b[1;34m(a, dtype, order)\u001b[0m\n\u001b[0;32m    536\u001b[0m \u001b[1;33m\u001b[0m\u001b[0m\n\u001b[0;32m    537\u001b[0m     \"\"\"\n\u001b[1;32m--> 538\u001b[1;33m     \u001b[1;32mreturn\u001b[0m \u001b[0marray\u001b[0m\u001b[1;33m(\u001b[0m\u001b[0ma\u001b[0m\u001b[1;33m,\u001b[0m \u001b[0mdtype\u001b[0m\u001b[1;33m,\u001b[0m \u001b[0mcopy\u001b[0m\u001b[1;33m=\u001b[0m\u001b[1;32mFalse\u001b[0m\u001b[1;33m,\u001b[0m \u001b[0morder\u001b[0m\u001b[1;33m=\u001b[0m\u001b[0morder\u001b[0m\u001b[1;33m)\u001b[0m\u001b[1;33m\u001b[0m\u001b[1;33m\u001b[0m\u001b[0m\n\u001b[0m\u001b[0;32m    539\u001b[0m \u001b[1;33m\u001b[0m\u001b[0m\n\u001b[0;32m    540\u001b[0m \u001b[1;33m\u001b[0m\u001b[0m\n",
      "\u001b[1;31mValueError\u001b[0m: setting an array element with a sequence."
     ]
    }
   ],
   "source": [
    "from sklearn.cluster import KMeans\n",
    "kmeans = KMeans(n_clusters=2, random_state=0)\n",
    "kmeans.fit()"
   ]
  },
  {
   "cell_type": "code",
   "execution_count": 2,
   "metadata": {},
   "outputs": [
    {
     "name": "stdout",
     "output_type": "stream",
     "text": [
      "SSE:  165.0100320832071\n",
      "SSE:  95.53092121214726\n",
      "0      0\n",
      "1      1\n",
      "10     0\n",
      "100    4\n",
      "101    4\n",
      "102    2\n",
      "103    4\n",
      "104    4\n",
      "105    2\n",
      "106    4\n",
      "107    4\n",
      "108    3\n",
      "109    0\n",
      "11     1\n",
      "110    3\n",
      "111    0\n",
      "112    0\n",
      "113    0\n",
      "114    0\n",
      "115    0\n",
      "116    0\n",
      "117    0\n",
      "118    0\n",
      "119    0\n",
      "12     1\n",
      "120    0\n",
      "121    0\n",
      "122    0\n",
      "123    0\n",
      "124    0\n",
      "      ..\n",
      "72     3\n",
      "73     2\n",
      "74     2\n",
      "75     2\n",
      "76     4\n",
      "77     0\n",
      "78     2\n",
      "79     2\n",
      "8      1\n",
      "80     1\n",
      "81     2\n",
      "82     4\n",
      "83     4\n",
      "84     2\n",
      "85     4\n",
      "86     4\n",
      "87     4\n",
      "88     4\n",
      "89     4\n",
      "9      1\n",
      "90     4\n",
      "91     2\n",
      "92     2\n",
      "93     4\n",
      "94     4\n",
      "95     4\n",
      "96     4\n",
      "97     2\n",
      "98     4\n",
      "99     2\n",
      "Name: LabelWithoutPCA, Length: 179, dtype: int32\n",
      "For Label : 0\n",
      "[b'musical', b'treatment', b'capra', b'film', b'the', b'classic', b'film', b'it', b'a', b'wonderful', b'life', b'turned', b'musical', b'producer', b'controversial', b'hit', b'show', b'jerry', b'springer', b'the', b'opera', b'frank', b'capra', b'1946', b'movie', b'starring', b'james', b'stewart', b'turned', b'\\xc2\\xa37m', b'musical', b'producer', b'jon', b'thoday', b'he', b'working', b'steve', b'brown', b'wrote', b'awardwinning', b'musical', b'spend', b'spend', b'spend', b'a', b'spokeswoman', b'said', b'plans', b'early', b'stages']\n",
      "For Label : 1\n",
      "[b'spark', b'heads', b'world', b'booker', b'list', b'dame', b'muriel', b'spark', b'among', b'three', b'british', b'authors', b'made', b'shortlist', b'inaugural', b'international', b'booker', b'prize', b'doris', b'lessing', b'ian', b'mcewan', b'also', b'nominated', b'mcewan', b'margaret', b'atwood', b'nominees', b'previously', b'main', b'booker', b'prize', b'the', b'new', b'\\xc2\\xa360000', b'award', b'open', b'writers', b'nationalities', b'write', b'english', b'widely', b'translated', b'the', b'prize', b'commends', b'author', b'body', b'work', b'instead']\n",
      "For Label : 2\n",
      "[b'sprinter', b'walker', b'quits', b'athletics', b'former', b'european', b'200m', b'champion', b'dougie', b'walker', b'retire', b'athletics', b'series', b'six', b'operations', b'left', b'struggling', b'fitness', b'walker', b'hoped', b'compete', b'new', b'year', b'sprint', b'staged', b'musselburgh', b'racecourse', b'near', b'edinburgh', b'tuesday', b'wednesday', b'the', b'31yearold', b'scot', b'suspended', b'two', b'years', b'1998', b'testing', b'positive', b'nandrolone', b'i', b'intended', b'race', b'i', b'running', b'like', b'goon', b'said', b'walker']\n",
      "For Label : 3\n",
      "[b'hewitt', b'decries', b'career', b'sexism', b'plans', b'extend', b'paid', b'maternity', b'leave', b'beyond', b'six', b'months', b'prominent', b'labour', b'election', b'manifesto', b'trade', b'industry', b'secretary', b'said', b'patricia', b'hewitt', b'said', b'cost', b'proposals', b'evaluated', b'increasingly', b'high', b'priority', b'shared', b'goal', b'across', b'government', b'ms', b'hewitt', b'speaking', b'gender', b'productivity', b'seminar', b'organised', b'equal', b'opportunities', b'commission', b'eoc', b'mothers', b'currently', b'take', b'six', b'months', b'paid']\n",
      "For Label : 4\n",
      "[b'chepkemei', b'joins', b'edinburgh', b'lineup', b'susan', b'chepkemei', b'decided', b'fit', b'enough', b'run', b'next', b'month', b'great', b'edinburgh', b'international', b'cross', b'country', b'the', b'kenyan', b'initially', b'unsure', b'would', b'recovered', b'gruelling', b'tussle', b'paula', b'radcliffe', b'new', b'york', b'marathon', b'time', b'compete', b'but', b'declared', b'task', b'joins', b'field', b'headed', b'world', b'cross', b'country', b'champion', b'benita', b'johnson', b'race', b'director', b'matthew', b'turnbull', b'said', b'susan']\n",
      "For Label : 0\n",
      "[b'finding', b'new', b'homes', b'old', b'phones', b'reusing', b'old', b'mobile', b'phones', b'good']\n",
      "For Label : 1\n",
      "[b'musical', b'treatment', b'capra', b'film', b'the', b'classic', b'film', b'it', b'a', b'wonderful']\n",
      "For Label : 2\n",
      "[b'britons', b'fed', b'net', b'service', b'a', b'survey', b'conducted', b'pc', b'pro', b'magazine']\n",
      "For Label : 3\n",
      "[b'edwards', b'tips', b'idowu', b'euro', b'gold', b'world', b'outdoor', b'triple', b'jump', b'record']\n",
      "For Label : 4\n",
      "[b'collins', b'appeals', b'drugs', b'ban', b'sprinter', b'michelle', b'collins', b'lodged', b'appeal', b'eightyear']\n"
     ]
    }
   ],
   "source": [
    "import pandas as pd\n",
    "import numpy as np \n",
    "from sklearn.cluster import KMeans\n",
    "import matplotlib.pyplot as plt\n",
    "df=pd.read_json(r'C:\\Users\\hp\\Desktop\\edureka\\assignments\\training-NewsArticles\\NewsArticles.json')\n",
    "df.head()\n",
    "det=df['Vector']\n",
    "vectors=pd.DataFrame(list(det))\n",
    "vectors.shape\n",
    "#Kmeans without PCA\n",
    "model=KMeans(n_clusters=5)\n",
    "model.fit(vectors)\n",
    "print (\"SSE: \",model.inertia_)\n",
    "#Applying PCA \n",
    "from sklearn.decomposition import PCA\n",
    "pca = PCA(n_components=100)\n",
    "pca.fit(vectors.transpose())\n",
    "new_vectors=pd.DataFrame(pca.components_).transpose()\n",
    "new_vectors.shape\n",
    "#Kmeans after PCA\n",
    "model_afterPCA=KMeans(n_clusters=5)\n",
    "model_afterPCA.fit(new_vectors)\n",
    "print (\"SSE: \",model_afterPCA.inertia_)\n",
    "df['LabelWithoutPCA']=model.labels_\n",
    "print(df['LabelWithoutPCA'])\n",
    "df['LabelAfterPCA']=model_afterPCA.labels_\n",
    "for each,subset in df.groupby('LabelWithoutPCA'):\n",
    "    print(\"For Label :\",each)\n",
    "    \n",
    "    print( ' '.join(subset['Preprocessed-Article']).lower().encode('utf-8').split()[:50] ) \n",
    "for each,subset in df.groupby('LabelAfterPCA'):\n",
    "    print(\"For Label :\",each)\n",
    "    print( ' '.join(subset['Preprocessed-Article']).lower().encode('utf-8').split()[:10] ) \n",
    "    df['LabelWithoutPCA'].value_counts()\n",
    "df['LabelAfterPCA'].value_counts()\n",
    "\n",
    "#writing output to output.csv\n",
    "result=[164.37,95.68, 4, 48, 3,169, 'stages','paid']\n",
    "result=pd.DataFrame(result)\n",
    "#writing output to output.csv\n",
    "result.to_csv('output.csv', header=False, index=False)"
   ]
  },
  {
   "cell_type": "code",
   "execution_count": null,
   "metadata": {},
   "outputs": [],
   "source": []
  }
 ],
 "metadata": {
  "kernelspec": {
   "display_name": "Python 3",
   "language": "python",
   "name": "python3"
  },
  "language_info": {
   "codemirror_mode": {
    "name": "ipython",
    "version": 3
   },
   "file_extension": ".py",
   "mimetype": "text/x-python",
   "name": "python",
   "nbconvert_exporter": "python",
   "pygments_lexer": "ipython3",
   "version": "3.7.3"
  }
 },
 "nbformat": 4,
 "nbformat_minor": 2
}
