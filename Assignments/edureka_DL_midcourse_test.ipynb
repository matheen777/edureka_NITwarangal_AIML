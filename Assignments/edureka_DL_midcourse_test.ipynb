{
 "cells": [
  {
   "cell_type": "code",
   "execution_count": 1,
   "metadata": {
    "colab": {
     "base_uri": "https://localhost:8080/",
     "height": 80
    },
    "colab_type": "code",
    "id": "mnI4fpOcpoCG",
    "outputId": "cd8d1da4-0b1c-4c75-a351-8b708e7105e7"
   },
   "outputs": [
    {
     "name": "stderr",
     "output_type": "stream",
     "text": [
      "Using TensorFlow backend.\n"
     ]
    },
    {
     "data": {
      "text/html": [
       "<p style=\"color: red;\">\n",
       "The default version of TensorFlow in Colab will soon switch to TensorFlow 2.x.<br>\n",
       "We recommend you <a href=\"https://www.tensorflow.org/guide/migrate\" target=\"_blank\">upgrade</a> now \n",
       "or ensure your notebook will continue to use TensorFlow 1.x via the <code>%tensorflow_version 1.x</code> magic:\n",
       "<a href=\"https://colab.research.google.com/notebooks/tensorflow_version.ipynb\" target=\"_blank\">more info</a>.</p>\n"
      ],
      "text/plain": [
       "<IPython.core.display.HTML object>"
      ]
     },
     "metadata": {
      "tags": []
     },
     "output_type": "display_data"
    }
   ],
   "source": [
    "from keras.datasets import mnist\n",
    "from keras.utils import np_utils"
   ]
  },
  {
   "cell_type": "code",
   "execution_count": 2,
   "metadata": {
    "colab": {
     "base_uri": "https://localhost:8080/",
     "height": 51
    },
    "colab_type": "code",
    "id": "jriX_0ZwqLe8",
    "outputId": "baaa59ba-ae53-4073-95d7-191b57e91392"
   },
   "outputs": [
    {
     "name": "stdout",
     "output_type": "stream",
     "text": [
      "Downloading data from https://s3.amazonaws.com/img-datasets/mnist.npz\n",
      "11493376/11490434 [==============================] - 0s 0us/step\n"
     ]
    }
   ],
   "source": [
    "# the data, shuffled and split between train and test sets \n",
    "(x_train, y_train), (x_test, y_test) = mnist.load_data()"
   ]
  },
  {
   "cell_type": "code",
   "execution_count": 0,
   "metadata": {
    "colab": {
     "base_uri": "https://localhost:8080/",
     "height": 281
    },
    "colab_type": "code",
    "id": "MI5exC--q7ao",
    "outputId": "e033e513-b837-4002-c1d5-dbefc88a46d0"
   },
   "outputs": [
    {
     "data": {
      "image/png": "[encoded data removed]",
      "text/plain": [
       "<Figure size 432x288 with 1 Axes>"
      ]
     },
     "metadata": {
      "tags": []
     },
     "output_type": "display_data"
    }
   ],
   "source": [
    "#just to visualize the image in grayscale. \n",
    "%matplotlib inline\n",
    "import matplotlib.pyplot as plt\n",
    "for i in range(26):\n",
    "  plt.imshow(x_train[i], cmap='gray')\n",
    "  plt.title(y_train[i])"
   ]
  },
  {
   "cell_type": "code",
   "execution_count": 0,
   "metadata": {
    "colab": {
     "base_uri": "https://localhost:8080/",
     "height": 51
    },
    "colab_type": "code",
    "id": "p8WaRb3cqnqv",
    "outputId": "15e5429d-db6e-46be-efc6-188b97824a39"
   },
   "outputs": [
    {
     "name": "stdout",
     "output_type": "stream",
     "text": [
      "Number of training examples : 60000 and each image is of shape (28, 28)\n",
      "Number of training examples : 10000 and each image is of shape (28, 28)\n"
     ]
    }
   ],
   "source": [
    "print(\"Number of training examples :\", x_train.shape[0], \"and each image is of shape (%d, %d)\"%(x_train.shape[1], x_train.shape[2]))\n",
    "print(\"Number of training examples :\", x_test.shape[0], \"and each image is of shape (%d, %d)\"%(x_test.shape[1], x_test.shape[2]))"
   ]
  },
  {
   "cell_type": "code",
   "execution_count": 0,
   "metadata": {
    "colab": {},
    "colab_type": "code",
    "id": "yu-Z0KMIqvGZ"
   },
   "outputs": [],
   "source": [
    "# if you observe the input shape its 2 dimensional vector\n",
    "# for each image we have a (28*28) vector\n",
    "# we will convert the (28*28) vector into single dimensional vector of 1 * 784 \n",
    "\n",
    "x_train = x_train.reshape(x_train.shape[0], x_train.shape[1]*x_train.shape[2])\n",
    "x_test = x_test.reshape(x_test.shape[0], x_test.shape[1]*x_test.shape[2])"
   ]
  },
  {
   "cell_type": "code",
   "execution_count": 0,
   "metadata": {
    "colab": {
     "base_uri": "https://localhost:8080/",
     "height": 51
    },
    "colab_type": "code",
    "id": "PU5FCtNXySd1",
    "outputId": "9c7cce1b-d0f5-47de-a726-9098f9aa7988"
   },
   "outputs": [
    {
     "name": "stdout",
     "output_type": "stream",
     "text": [
      "Number of training examples : 60000 and each image is of shape (784)\n",
      "Number of testing examples : 10000 and each image is of shape (784)\n"
     ]
    }
   ],
   "source": [
    "# after converting the input images from 3d to 2d vectors\n",
    "\n",
    "print(\"Number of training examples :\", x_train.shape[0], \"and each image is of shape (%d)\"%(x_train.shape[1]))\n",
    "print(\"Number of testing examples :\", x_test.shape[0], \"and each image is of shape (%d)\"%(x_test.shape[1]))"
   ]
  },
  {
   "cell_type": "code",
   "execution_count": 0,
   "metadata": {
    "colab": {},
    "colab_type": "code",
    "id": "WGuR_Cbnycqs"
   },
   "outputs": [],
   "source": [
    "x_train = x_train.astype(\"float32\")\n",
    "x_test = x_test.astype(\"float32\")\n",
    "# if we observe the above matrix each cell is having a value between 0-255\n",
    "# before we move to apply machine learning algorithms lets try to normalize the data\n",
    "# X => (X - Xmin)/(Xmax-Xmin) = X/255\n",
    "\n",
    "x_train = x_train/255\n",
    "x_test = x_test/255"
   ]
  },
  {
   "cell_type": "code",
   "execution_count": 0,
   "metadata": {
    "colab": {
     "base_uri": "https://localhost:8080/",
     "height": 51
    },
    "colab_type": "code",
    "id": "LaUo_gCXygEm",
    "outputId": "41943dfb-3437-4e54-9620-2a04e7544d55"
   },
   "outputs": [
    {
     "name": "stdout",
     "output_type": "stream",
     "text": [
      "Class label of first image : 5\n",
      "After converting the output into a vector :  [0. 0. 0. 0. 0. 1. 0. 0. 0. 0.]\n"
     ]
    }
   ],
   "source": [
    "from keras.utils import np_utils\n",
    "# here we are having a class number for each image\n",
    "print(\"Class label of first image :\", y_train[0])\n",
    "\n",
    "# lets convert this into a 10 dimensional vector\n",
    "y_train = np_utils.to_categorical(y_train, 10) \n",
    "y_test = np_utils.to_categorical(y_test, 10)\n",
    "\n",
    "print(\"After converting the output into a vector : \",y_train[0])"
   ]
  },
  {
   "cell_type": "markdown",
   "metadata": {
    "colab_type": "text",
    "id": "C29G9Yj70gDR"
   },
   "source": [
    "A.Build basic Single Layer Perceptron on the MNIST Data. \n",
    "HINT:\n",
    "> 1.SingleDense 1024 Neurons\n",
    "> 2.InputShapeBeing784ActivationFunctionRelu.\n",
    "> 3.SoftmaxLayerWith10NeuronAsOutput\n",
    "> 4.Loss-Categorical_Crossentropy\n",
    "> 5.Optimizer-RMSPROP6.Batch_Size=5000,Epochs=507.\n",
    "PrintTheAccuracyAndLossOfSLPModelOutput(Architecture):-\n"
   ]
  },
  {
   "cell_type": "code",
   "execution_count": 0,
   "metadata": {
    "colab": {},
    "colab_type": "code",
    "id": "27537Rdoyjfn"
   },
   "outputs": [],
   "source": [
    "from keras.models import Sequential\n",
    "from keras.layers import Dense , Activation\n",
    "from keras.layers.normalization import BatchNormalization\n",
    "from keras.layers import Dropout\n",
    "from keras.initializers import RandomNormal\n",
    "from keras.utils.vis_utils import plot_model"
   ]
  },
  {
   "cell_type": "code",
   "execution_count": 0,
   "metadata": {
    "colab": {},
    "colab_type": "code",
    "id": "fkEQtHsK1ylh"
   },
   "outputs": [],
   "source": [
    "%matplotlib inline\n",
    "import matplotlib.pyplot as plt\n",
    "import numpy as np\n",
    "import time\n",
    "\n",
    "def plt_dynamic(x, vy, ty, ax, colors=['b']):\n",
    "    ax.plot(x, vy, 'b', label=\"Validation Loss\")\n",
    "    ax.plot(x, ty, 'r', label=\"Train Loss\")\n",
    "    plt.legend()\n",
    "    plt.grid()\n",
    "    fig.canvas.draw()\n",
    "    plt.show()"
   ]
  },
  {
   "cell_type": "code",
   "execution_count": 0,
   "metadata": {
    "colab": {},
    "colab_type": "code",
    "id": "ZYKGVAf2zXa3"
   },
   "outputs": [],
   "source": [
    "# some parameters\n",
    "batch_sizes = 5000\n",
    "nb_epochs = 50\n",
    "input_dim = 784\n",
    "output_dim = 10"
   ]
  },
  {
   "cell_type": "code",
   "execution_count": 0,
   "metadata": {
    "colab": {
     "base_uri": "https://localhost:8080/",
     "height": 1000
    },
    "colab_type": "code",
    "id": "I6dEQN29zt3R",
    "outputId": "fcec7c74-93d5-43e0-df2c-6690344ed9fe"
   },
   "outputs": [
    {
     "name": "stdout",
     "output_type": "stream",
     "text": [
      "Model: \"sequential_3\"\n",
      "_________________________________________________________________\n",
      "Layer (type)                 Output Shape              Param #   \n",
      "=================================================================\n",
      "dense_5 (Dense)              (None, 1024)              803840    \n",
      "_________________________________________________________________\n",
      "dense_6 (Dense)              (None, 10)                10250     \n",
      "=================================================================\n",
      "Total params: 814,090\n",
      "Trainable params: 814,090\n",
      "Non-trainable params: 0\n",
      "_________________________________________________________________\n",
      "None\n",
      "WARNING:tensorflow:From /usr/local/lib/python3.6/dist-packages/tensorflow_core/python/ops/math_grad.py:1424: where (from tensorflow.python.ops.array_ops) is deprecated and will be removed in a future version.\n",
      "Instructions for updating:\n",
      "Use tf.where in 2.0, which has the same broadcast rule as np.where\n",
      "WARNING:tensorflow:From /usr/local/lib/python3.6/dist-packages/keras/backend/tensorflow_backend.py:1033: The name tf.assign_add is deprecated. Please use tf.compat.v1.assign_add instead.\n",
      "\n",
      "WARNING:tensorflow:From /usr/local/lib/python3.6/dist-packages/keras/backend/tensorflow_backend.py:1020: The name tf.assign is deprecated. Please use tf.compat.v1.assign instead.\n",
      "\n",
      "WARNING:tensorflow:From /usr/local/lib/python3.6/dist-packages/keras/backend/tensorflow_backend.py:3005: The name tf.Session is deprecated. Please use tf.compat.v1.Session instead.\n",
      "\n",
      "Train on 60000 samples, validate on 10000 samples\n",
      "Epoch 1/50\n",
      "WARNING:tensorflow:From /usr/local/lib/python3.6/dist-packages/keras/backend/tensorflow_backend.py:190: The name tf.get_default_session is deprecated. Please use tf.compat.v1.get_default_session instead.\n",
      "\n",
      "WARNING:tensorflow:From /usr/local/lib/python3.6/dist-packages/keras/backend/tensorflow_backend.py:197: The name tf.ConfigProto is deprecated. Please use tf.compat.v1.ConfigProto instead.\n",
      "\n",
      "WARNING:tensorflow:From /usr/local/lib/python3.6/dist-packages/keras/backend/tensorflow_backend.py:207: The name tf.global_variables is deprecated. Please use tf.compat.v1.global_variables instead.\n",
      "\n",
      "WARNING:tensorflow:From /usr/local/lib/python3.6/dist-packages/keras/backend/tensorflow_backend.py:216: The name tf.is_variable_initialized is deprecated. Please use tf.compat.v1.is_variable_initialized instead.\n",
      "\n",
      "WARNING:tensorflow:From /usr/local/lib/python3.6/dist-packages/keras/backend/tensorflow_backend.py:223: The name tf.variables_initializer is deprecated. Please use tf.compat.v1.variables_initializer instead.\n",
      "\n",
      "60000/60000 [==============================] - 5s 79us/step - loss: 1.0129 - acc: 0.6986 - val_loss: 0.4931 - val_acc: 0.8677\n",
      "Epoch 2/50\n",
      "60000/60000 [==============================] - 4s 69us/step - loss: 0.4344 - acc: 0.8761 - val_loss: 0.3299 - val_acc: 0.9133\n",
      "Epoch 3/50\n",
      "60000/60000 [==============================] - 4s 69us/step - loss: 0.3395 - acc: 0.9035 - val_loss: 0.3159 - val_acc: 0.9075\n",
      "Epoch 4/50\n",
      "60000/60000 [==============================] - 4s 68us/step - loss: 0.2909 - acc: 0.9141 - val_loss: 0.2544 - val_acc: 0.9275\n",
      "Epoch 5/50\n",
      "60000/60000 [==============================] - 4s 68us/step - loss: 0.2528 - acc: 0.9270 - val_loss: 0.2209 - val_acc: 0.9360\n",
      "Epoch 6/50\n",
      "60000/60000 [==============================] - 4s 68us/step - loss: 0.2189 - acc: 0.9361 - val_loss: 0.2190 - val_acc: 0.9352\n",
      "Epoch 7/50\n",
      "60000/60000 [==============================] - 4s 69us/step - loss: 0.2023 - acc: 0.9406 - val_loss: 0.2267 - val_acc: 0.9283\n",
      "Epoch 8/50\n",
      "60000/60000 [==============================] - 4s 69us/step - loss: 0.1771 - acc: 0.9490 - val_loss: 0.2122 - val_acc: 0.9349\n",
      "Epoch 9/50\n",
      "60000/60000 [==============================] - 4s 70us/step - loss: 0.1651 - acc: 0.9526 - val_loss: 0.1748 - val_acc: 0.9481\n",
      "Epoch 10/50\n",
      "60000/60000 [==============================] - 4s 68us/step - loss: 0.1508 - acc: 0.9566 - val_loss: 0.1613 - val_acc: 0.9496\n",
      "Epoch 11/50\n",
      "60000/60000 [==============================] - 4s 69us/step - loss: 0.1388 - acc: 0.9593 - val_loss: 0.1782 - val_acc: 0.9447\n",
      "Epoch 12/50\n",
      "60000/60000 [==============================] - 4s 69us/step - loss: 0.1259 - acc: 0.9627 - val_loss: 0.1369 - val_acc: 0.9588\n",
      "Epoch 13/50\n",
      "60000/60000 [==============================] - 4s 69us/step - loss: 0.1160 - acc: 0.9663 - val_loss: 0.1230 - val_acc: 0.9618\n",
      "Epoch 14/50\n",
      "60000/60000 [==============================] - 4s 70us/step - loss: 0.1108 - acc: 0.9672 - val_loss: 0.1467 - val_acc: 0.9536\n",
      "Epoch 15/50\n",
      "60000/60000 [==============================] - 4s 70us/step - loss: 0.1014 - acc: 0.9705 - val_loss: 0.1068 - val_acc: 0.9683\n",
      "Epoch 16/50\n",
      "60000/60000 [==============================] - 4s 72us/step - loss: 0.0903 - acc: 0.9741 - val_loss: 0.1062 - val_acc: 0.9696\n",
      "Epoch 17/50\n",
      "60000/60000 [==============================] - 4s 71us/step - loss: 0.0825 - acc: 0.9770 - val_loss: 0.1130 - val_acc: 0.9655\n",
      "Epoch 18/50\n",
      "60000/60000 [==============================] - 4s 69us/step - loss: 0.0822 - acc: 0.9769 - val_loss: 0.1009 - val_acc: 0.9701\n",
      "Epoch 19/50\n",
      "60000/60000 [==============================] - 4s 69us/step - loss: 0.0761 - acc: 0.9783 - val_loss: 0.0910 - val_acc: 0.9728\n",
      "Epoch 20/50\n",
      "60000/60000 [==============================] - 4s 69us/step - loss: 0.0682 - acc: 0.9809 - val_loss: 0.0994 - val_acc: 0.9697\n",
      "Epoch 21/50\n",
      "60000/60000 [==============================] - 4s 70us/step - loss: 0.0679 - acc: 0.9800 - val_loss: 0.0910 - val_acc: 0.9706\n",
      "Epoch 22/50\n",
      "60000/60000 [==============================] - 4s 70us/step - loss: 0.0601 - acc: 0.9835 - val_loss: 0.1004 - val_acc: 0.9700\n",
      "Epoch 23/50\n",
      "60000/60000 [==============================] - 4s 69us/step - loss: 0.0531 - acc: 0.9853 - val_loss: 0.0966 - val_acc: 0.9705\n",
      "Epoch 24/50\n",
      "60000/60000 [==============================] - 4s 68us/step - loss: 0.0570 - acc: 0.9838 - val_loss: 0.0815 - val_acc: 0.9745\n",
      "Epoch 25/50\n",
      "60000/60000 [==============================] - 4s 68us/step - loss: 0.0478 - acc: 0.9869 - val_loss: 0.0760 - val_acc: 0.9763\n",
      "Epoch 26/50\n",
      "60000/60000 [==============================] - 4s 69us/step - loss: 0.0506 - acc: 0.9858 - val_loss: 0.0698 - val_acc: 0.9782\n",
      "Epoch 27/50\n",
      "60000/60000 [==============================] - 4s 69us/step - loss: 0.0465 - acc: 0.9870 - val_loss: 0.0696 - val_acc: 0.9781\n",
      "Epoch 28/50\n",
      "60000/60000 [==============================] - 4s 69us/step - loss: 0.0406 - acc: 0.9894 - val_loss: 0.0793 - val_acc: 0.9755\n",
      "Epoch 29/50\n",
      "60000/60000 [==============================] - 4s 69us/step - loss: 0.0341 - acc: 0.9918 - val_loss: 0.0920 - val_acc: 0.9700\n",
      "Epoch 30/50\n",
      "60000/60000 [==============================] - 4s 70us/step - loss: 0.0396 - acc: 0.9890 - val_loss: 0.0735 - val_acc: 0.9764\n",
      "Epoch 31/50\n",
      "60000/60000 [==============================] - 4s 69us/step - loss: 0.0378 - acc: 0.9897 - val_loss: 0.0711 - val_acc: 0.9778\n",
      "Epoch 32/50\n",
      "60000/60000 [==============================] - 4s 70us/step - loss: 0.0347 - acc: 0.9906 - val_loss: 0.0705 - val_acc: 0.9788\n",
      "Epoch 33/50\n",
      "60000/60000 [==============================] - 4s 68us/step - loss: 0.0299 - acc: 0.9926 - val_loss: 0.0818 - val_acc: 0.9749\n",
      "Epoch 34/50\n",
      "60000/60000 [==============================] - 4s 69us/step - loss: 0.0253 - acc: 0.9942 - val_loss: 0.0760 - val_acc: 0.9768\n",
      "Epoch 35/50\n",
      "60000/60000 [==============================] - 4s 69us/step - loss: 0.0299 - acc: 0.9921 - val_loss: 0.0651 - val_acc: 0.9795\n",
      "Epoch 36/50\n",
      "60000/60000 [==============================] - 4s 70us/step - loss: 0.0272 - acc: 0.9931 - val_loss: 0.0620 - val_acc: 0.9807\n",
      "Epoch 37/50\n",
      "60000/60000 [==============================] - 4s 69us/step - loss: 0.0223 - acc: 0.9950 - val_loss: 0.0909 - val_acc: 0.9705\n",
      "Epoch 38/50\n",
      "60000/60000 [==============================] - 4s 69us/step - loss: 0.0232 - acc: 0.9942 - val_loss: 0.0650 - val_acc: 0.9794\n",
      "Epoch 39/50\n",
      "60000/60000 [==============================] - 4s 69us/step - loss: 0.0216 - acc: 0.9947 - val_loss: 0.0605 - val_acc: 0.9816\n",
      "Epoch 40/50\n",
      "60000/60000 [==============================] - 4s 70us/step - loss: 0.0236 - acc: 0.9938 - val_loss: 0.0697 - val_acc: 0.9787\n",
      "Epoch 41/50\n",
      "60000/60000 [==============================] - 4s 69us/step - loss: 0.0166 - acc: 0.9966 - val_loss: 0.0681 - val_acc: 0.9786\n",
      "Epoch 42/50\n",
      "60000/60000 [==============================] - 4s 69us/step - loss: 0.0188 - acc: 0.9959 - val_loss: 0.0683 - val_acc: 0.9784\n",
      "Epoch 43/50\n",
      "60000/60000 [==============================] - 4s 70us/step - loss: 0.0172 - acc: 0.9961 - val_loss: 0.1071 - val_acc: 0.9680\n",
      "Epoch 44/50\n",
      "60000/60000 [==============================] - 4s 69us/step - loss: 0.0161 - acc: 0.9964 - val_loss: 0.0641 - val_acc: 0.9811\n",
      "Epoch 45/50\n",
      "60000/60000 [==============================] - 4s 70us/step - loss: 0.0175 - acc: 0.9959 - val_loss: 0.0587 - val_acc: 0.9824\n",
      "Epoch 46/50\n",
      "60000/60000 [==============================] - 4s 69us/step - loss: 0.0143 - acc: 0.9971 - val_loss: 0.1014 - val_acc: 0.9693\n",
      "Epoch 47/50\n",
      "60000/60000 [==============================] - 4s 69us/step - loss: 0.0144 - acc: 0.9970 - val_loss: 0.0655 - val_acc: 0.9790\n",
      "Epoch 48/50\n",
      "60000/60000 [==============================] - 4s 69us/step - loss: 0.0118 - acc: 0.9979 - val_loss: 0.0603 - val_acc: 0.9822\n",
      "Epoch 49/50\n",
      "60000/60000 [==============================] - 4s 69us/step - loss: 0.0178 - acc: 0.9952 - val_loss: 0.0584 - val_acc: 0.9821\n",
      "Epoch 50/50\n",
      "60000/60000 [==============================] - 4s 70us/step - loss: 0.0077 - acc: 0.9992 - val_loss: 0.0711 - val_acc: 0.9775\n",
      "Test score: 0.07106414675933774\n",
      "Test accuracy: 0.9775\n"
     ]
    },
    {
     "data": {
      "image/png": "[encoded data removed]",
      "text/plain": [
       "<Figure size 432x288 with 1 Axes>"
      ]
     },
     "metadata": {
      "tags": []
     },
     "output_type": "display_data"
    }
   ],
   "source": [
    "model = Sequential()\n",
    "model.add(Dense(1024, activation='relu', input_shape=(input_dim,), kernel_initializer=RandomNormal(mean=0.0, stddev=0.062, seed=None)))\n",
    "model.add(Dense(output_dim, activation='softmax'))\n",
    "plot_model(model, to_file='singlelayermodel_plot.png', show_shapes=True, show_layer_names=True)\n",
    "print(model.summary())\n",
    "\n",
    "model.compile(optimizer='RMSprop', loss='categorical_crossentropy', metrics=['accuracy'])\n",
    "history = model.fit(x_train, y_train, batch_size= batch_sizes, epochs=nb_epochs, verbose=1, validation_data=(x_test, y_test))\n",
    "\n",
    "score = model.evaluate(x_test, y_test, verbose=0) \n",
    "print('Test score:', score[0]) \n",
    "print('Test accuracy:', score[1])\n",
    "\n",
    "fig,ax = plt.subplots(1,1)\n",
    "ax.set_xlabel('epoch')\n",
    "ax.set_ylabel('Categorical Crossentropy Loss')\n",
    "\n",
    "# list of epoch numbers\n",
    "x = list(range(1,nb_epochs+1))\n",
    "vy = history.history['val_loss']\n",
    "ty = history.history['loss']\n",
    "plt_dynamic(x, vy, ty, ax)"
   ]
  },
  {
   "cell_type": "code",
   "execution_count": 0,
   "metadata": {
    "colab": {
     "base_uri": "https://localhost:8080/",
     "height": 34
    },
    "colab_type": "code",
    "id": "4IIjGqNB3cLH",
    "outputId": "53c17df1-96d7-4aa7-82e7-98bcf9667c61"
   },
   "outputs": [
    {
     "name": "stdout",
     "output_type": "stream",
     "text": [
      "sample_data  singlelayermodel_plot.png\n"
     ]
    }
   ],
   "source": [
    "!ls"
   ]
  },
  {
   "cell_type": "markdown",
   "metadata": {
    "colab_type": "text",
    "id": "ky1LQmim6QWq"
   },
   "source": [
    "# MLP"
   ]
  },
  {
   "cell_type": "code",
   "execution_count": 0,
   "metadata": {
    "colab": {},
    "colab_type": "code",
    "id": "kVPnAT5t6qqT"
   },
   "outputs": [],
   "source": [
    "from keras.initializers import TruncatedNormal, VarianceScaling, glorot_normal"
   ]
  },
  {
   "cell_type": "code",
   "execution_count": 0,
   "metadata": {
    "colab": {
     "base_uri": "https://localhost:8080/",
     "height": 1000
    },
    "colab_type": "code",
    "id": "scK4z7qU4gaB",
    "outputId": "08615652-f8fb-4056-af42-06107fb95ac6"
   },
   "outputs": [
    {
     "name": "stdout",
     "output_type": "stream",
     "text": [
      "Model: \"sequential_5\"\n",
      "_________________________________________________________________\n",
      "Layer (type)                 Output Shape              Param #   \n",
      "=================================================================\n",
      "dense_9 (Dense)              (None, 1024)              803840    \n",
      "_________________________________________________________________\n",
      "dense_10 (Dense)             (None, 512)               524800    \n",
      "_________________________________________________________________\n",
      "dense_11 (Dense)             (None, 512)               262656    \n",
      "_________________________________________________________________\n",
      "dense_12 (Dense)             (None, 10)                5130      \n",
      "=================================================================\n",
      "Total params: 1,596,426\n",
      "Trainable params: 1,596,426\n",
      "Non-trainable params: 0\n",
      "_________________________________________________________________\n",
      "None\n",
      "Train on 60000 samples, validate on 10000 samples\n",
      "Epoch 1/50\n",
      "60000/60000 [==============================] - 9s 156us/step - loss: 1.3293 - acc: 0.6394 - val_loss: 0.4565 - val_acc: 0.8700\n",
      "Epoch 2/50\n",
      "60000/60000 [==============================] - 9s 149us/step - loss: 0.3444 - acc: 0.8983 - val_loss: 0.2558 - val_acc: 0.9229\n",
      "Epoch 3/50\n",
      "60000/60000 [==============================] - 9s 150us/step - loss: 0.2195 - acc: 0.9354 - val_loss: 0.1910 - val_acc: 0.9430\n",
      "Epoch 4/50\n",
      "60000/60000 [==============================] - 9s 147us/step - loss: 0.1657 - acc: 0.9509 - val_loss: 0.1580 - val_acc: 0.9527\n",
      "Epoch 5/50\n",
      "60000/60000 [==============================] - 9s 149us/step - loss: 0.1305 - acc: 0.9622 - val_loss: 0.1383 - val_acc: 0.9582\n",
      "Epoch 6/50\n",
      "60000/60000 [==============================] - 9s 150us/step - loss: 0.1063 - acc: 0.9696 - val_loss: 0.1209 - val_acc: 0.9630\n",
      "Epoch 7/50\n",
      "60000/60000 [==============================] - 9s 148us/step - loss: 0.0873 - acc: 0.9755 - val_loss: 0.1102 - val_acc: 0.9660\n",
      "Epoch 8/50\n",
      "60000/60000 [==============================] - 9s 149us/step - loss: 0.0725 - acc: 0.9799 - val_loss: 0.1024 - val_acc: 0.9674\n",
      "Epoch 9/50\n",
      "60000/60000 [==============================] - 9s 149us/step - loss: 0.0596 - acc: 0.9841 - val_loss: 0.0946 - val_acc: 0.9697\n",
      "Epoch 10/50\n",
      "60000/60000 [==============================] - 9s 150us/step - loss: 0.0493 - acc: 0.9874 - val_loss: 0.0889 - val_acc: 0.9711\n",
      "Epoch 11/50\n",
      "60000/60000 [==============================] - 9s 147us/step - loss: 0.0404 - acc: 0.9901 - val_loss: 0.0836 - val_acc: 0.9737\n",
      "Epoch 12/50\n",
      "60000/60000 [==============================] - 9s 149us/step - loss: 0.0331 - acc: 0.9927 - val_loss: 0.0816 - val_acc: 0.9743\n",
      "Epoch 13/50\n",
      "60000/60000 [==============================] - 9s 151us/step - loss: 0.0273 - acc: 0.9947 - val_loss: 0.0802 - val_acc: 0.9745\n",
      "Epoch 14/50\n",
      "60000/60000 [==============================] - 9s 149us/step - loss: 0.0223 - acc: 0.9959 - val_loss: 0.0766 - val_acc: 0.9757\n",
      "Epoch 15/50\n",
      "60000/60000 [==============================] - 9s 149us/step - loss: 0.0184 - acc: 0.9974 - val_loss: 0.0755 - val_acc: 0.9759\n",
      "Epoch 16/50\n",
      "60000/60000 [==============================] - 9s 150us/step - loss: 0.0151 - acc: 0.9980 - val_loss: 0.0742 - val_acc: 0.9761\n",
      "Epoch 17/50\n",
      "60000/60000 [==============================] - 9s 149us/step - loss: 0.0127 - acc: 0.9985 - val_loss: 0.0741 - val_acc: 0.9766\n",
      "Epoch 18/50\n",
      "60000/60000 [==============================] - 9s 147us/step - loss: 0.0106 - acc: 0.9990 - val_loss: 0.0751 - val_acc: 0.9765\n",
      "Epoch 19/50\n",
      "60000/60000 [==============================] - 9s 150us/step - loss: 0.0087 - acc: 0.9994 - val_loss: 0.0728 - val_acc: 0.9763\n",
      "Epoch 20/50\n",
      "60000/60000 [==============================] - 9s 149us/step - loss: 0.0072 - acc: 0.9996 - val_loss: 0.0729 - val_acc: 0.9775\n",
      "Epoch 21/50\n",
      "60000/60000 [==============================] - 9s 149us/step - loss: 0.0060 - acc: 0.9998 - val_loss: 0.0724 - val_acc: 0.9778\n",
      "Epoch 22/50\n",
      "60000/60000 [==============================] - 9s 149us/step - loss: 0.0051 - acc: 0.9999 - val_loss: 0.0738 - val_acc: 0.9781\n",
      "Epoch 23/50\n",
      "60000/60000 [==============================] - 9s 150us/step - loss: 0.0044 - acc: 0.9999 - val_loss: 0.0724 - val_acc: 0.9783\n",
      "Epoch 24/50\n",
      "60000/60000 [==============================] - 9s 149us/step - loss: 0.0038 - acc: 1.0000 - val_loss: 0.0731 - val_acc: 0.9781\n",
      "Epoch 25/50\n",
      "60000/60000 [==============================] - 9s 148us/step - loss: 0.0033 - acc: 1.0000 - val_loss: 0.0733 - val_acc: 0.9784\n",
      "Epoch 26/50\n",
      "60000/60000 [==============================] - 9s 150us/step - loss: 0.0030 - acc: 1.0000 - val_loss: 0.0737 - val_acc: 0.9782\n",
      "Epoch 27/50\n",
      "60000/60000 [==============================] - 9s 149us/step - loss: 0.0026 - acc: 1.0000 - val_loss: 0.0744 - val_acc: 0.9784\n",
      "Epoch 28/50\n",
      "60000/60000 [==============================] - 9s 149us/step - loss: 0.0024 - acc: 1.0000 - val_loss: 0.0744 - val_acc: 0.9784\n",
      "Epoch 29/50\n",
      "60000/60000 [==============================] - 9s 149us/step - loss: 0.0021 - acc: 1.0000 - val_loss: 0.0740 - val_acc: 0.9787\n",
      "Epoch 30/50\n",
      "60000/60000 [==============================] - 9s 152us/step - loss: 0.0019 - acc: 1.0000 - val_loss: 0.0745 - val_acc: 0.9788\n",
      "Epoch 31/50\n",
      "60000/60000 [==============================] - 9s 148us/step - loss: 0.0017 - acc: 1.0000 - val_loss: 0.0748 - val_acc: 0.9788\n",
      "Epoch 32/50\n",
      "60000/60000 [==============================] - 9s 149us/step - loss: 0.0016 - acc: 1.0000 - val_loss: 0.0751 - val_acc: 0.9787\n",
      "Epoch 33/50\n",
      "60000/60000 [==============================] - 9s 150us/step - loss: 0.0014 - acc: 1.0000 - val_loss: 0.0749 - val_acc: 0.9790\n",
      "Epoch 34/50\n",
      "60000/60000 [==============================] - 9s 149us/step - loss: 0.0013 - acc: 1.0000 - val_loss: 0.0754 - val_acc: 0.9785\n",
      "Epoch 35/50\n",
      "60000/60000 [==============================] - 9s 149us/step - loss: 0.0012 - acc: 1.0000 - val_loss: 0.0760 - val_acc: 0.9789\n",
      "Epoch 36/50\n",
      "60000/60000 [==============================] - 9s 150us/step - loss: 0.0011 - acc: 1.0000 - val_loss: 0.0762 - val_acc: 0.9791\n",
      "Epoch 37/50\n",
      "60000/60000 [==============================] - 9s 149us/step - loss: 0.0010 - acc: 1.0000 - val_loss: 0.0762 - val_acc: 0.9792\n",
      "Epoch 38/50\n",
      "60000/60000 [==============================] - 9s 147us/step - loss: 9.7030e-04 - acc: 1.0000 - val_loss: 0.0768 - val_acc: 0.9790\n",
      "Epoch 39/50\n",
      "60000/60000 [==============================] - 9s 148us/step - loss: 9.0578e-04 - acc: 1.0000 - val_loss: 0.0770 - val_acc: 0.9790\n",
      "Epoch 40/50\n",
      "60000/60000 [==============================] - 9s 149us/step - loss: 8.4243e-04 - acc: 1.0000 - val_loss: 0.0774 - val_acc: 0.9791\n",
      "Epoch 41/50\n",
      "60000/60000 [==============================] - 9s 148us/step - loss: 7.9120e-04 - acc: 1.0000 - val_loss: 0.0775 - val_acc: 0.9792\n",
      "Epoch 42/50\n",
      "60000/60000 [==============================] - 9s 148us/step - loss: 7.4699e-04 - acc: 1.0000 - val_loss: 0.0780 - val_acc: 0.9794\n",
      "Epoch 43/50\n",
      "60000/60000 [==============================] - 9s 149us/step - loss: 6.9009e-04 - acc: 1.0000 - val_loss: 0.0780 - val_acc: 0.9793\n",
      "Epoch 44/50\n",
      "60000/60000 [==============================] - 9s 148us/step - loss: 6.5333e-04 - acc: 1.0000 - val_loss: 0.0785 - val_acc: 0.9792\n",
      "Epoch 45/50\n",
      "60000/60000 [==============================] - 9s 148us/step - loss: 6.1448e-04 - acc: 1.0000 - val_loss: 0.0788 - val_acc: 0.9792\n",
      "Epoch 46/50\n",
      "60000/60000 [==============================] - 9s 149us/step - loss: 5.7722e-04 - acc: 1.0000 - val_loss: 0.0791 - val_acc: 0.9793\n",
      "Epoch 47/50\n",
      "60000/60000 [==============================] - 9s 149us/step - loss: 5.5046e-04 - acc: 1.0000 - val_loss: 0.0793 - val_acc: 0.9794\n",
      "Epoch 48/50\n",
      "60000/60000 [==============================] - 9s 153us/step - loss: 5.1768e-04 - acc: 1.0000 - val_loss: 0.0800 - val_acc: 0.9789\n",
      "Epoch 49/50\n",
      "60000/60000 [==============================] - 9s 149us/step - loss: 4.9161e-04 - acc: 1.0000 - val_loss: 0.0802 - val_acc: 0.9792\n",
      "Epoch 50/50\n",
      "60000/60000 [==============================] - 9s 150us/step - loss: 4.6753e-04 - acc: 1.0000 - val_loss: 0.0802 - val_acc: 0.9791\n",
      "Test loss : 0.0801860311799459\n",
      "Test accuracy : 0.9791\n"
     ]
    },
    {
     "data": {
      "image/png": "[encoded data removed]",
      "text/plain": [
       "<Figure size 432x288 with 1 Axes>"
      ]
     },
     "metadata": {
      "tags": []
     },
     "output_type": "display_data"
    }
   ],
   "source": [
    "model1 = Sequential()\n",
    "model1.add(Dense(1024, activation='relu', input_shape=(input_dim,), kernel_initializer=RandomNormal(mean=0.0, stddev=0.062, seed=None)))\n",
    "model1.add(Dense(512, activation= 'relu', kernel_initializer=TruncatedNormal(mean=0.0, stddev=0.125, seed=None)))\n",
    "model1.add(Dense(512, activation= 'relu', kernel_initializer=TruncatedNormal(mean=0.0, stddev=0.125, seed=None)))\n",
    "model1.add(Dense(output_dim, activation='softmax'))\n",
    "plot_model(model1, to_file='multiplelayermodel_plot.png', show_shapes=True, show_layer_names=True)\n",
    "print(model1.summary())\n",
    "\n",
    "model1.compile(optimizer='adam', loss='categorical_crossentropy', metrics=['accuracy'])\n",
    "history = model1.fit(x_train, y_train, batch_size= batch_sizes, epochs=nb_epochs, verbose=1, validation_data=(x_test, y_test))\n",
    "\n",
    "score = model1.evaluate(x_test, y_test, verbose=0) \n",
    "print('Test loss :', score[0]) \n",
    "print('Test accuracy :', score[1])\n",
    "\n",
    "fig,ax = plt.subplots(1,1)\n",
    "ax.set_xlabel('epoch')\n",
    "ax.set_ylabel('Categorical Crossentropy Loss')\n",
    "\n",
    "# list of epoch numbers\n",
    "x = list(range(1,nb_epochs+1))\n",
    "vy = history.history['val_loss']\n",
    "ty = history.history['loss']\n",
    "plt_dynamic(x, vy, ty, ax)"
   ]
  },
  {
   "cell_type": "code",
   "execution_count": 0,
   "metadata": {
    "colab": {},
    "colab_type": "code",
    "id": "400d1Y0lC3hQ"
   },
   "outputs": [],
   "source": [
    "#from google.colab import files\n",
    "#files.download(\"multiplelayermodel_plot.png\")    "
   ]
  },
  {
   "cell_type": "markdown",
   "metadata": {
    "colab_type": "text",
    "id": "sasrH2QBD7aj"
   },
   "source": [
    "# CNN"
   ]
  },
  {
   "cell_type": "code",
   "execution_count": 0,
   "metadata": {
    "colab": {},
    "colab_type": "code",
    "id": "vdex3YrQC875"
   },
   "outputs": [],
   "source": [
    "from __future__ import print_function\n",
    "import keras\n",
    "from keras.layers import Dense, Dropout, Flatten\n",
    "from keras.layers import Conv2D, MaxPooling2D\n",
    "from keras import backend as K"
   ]
  },
  {
   "cell_type": "code",
   "execution_count": 4,
   "metadata": {
    "colab": {
     "base_uri": "https://localhost:8080/",
     "height": 68
    },
    "colab_type": "code",
    "id": "Lv-QSKfzB4fl",
    "outputId": "98474310-bbab-40b2-9b95-bd00fb46b179"
   },
   "outputs": [
    {
     "name": "stdout",
     "output_type": "stream",
     "text": [
      "x_train shape: (60000, 28, 28, 1)\n",
      "60000 train samples\n",
      "10000 test samples\n"
     ]
    }
   ],
   "source": [
    "batch_size = 128\n",
    "num_classes = 10\n",
    "epochs = 12\n",
    "\n",
    "# input image dimensions\n",
    "img_rows, img_cols = 28, 28\n",
    "\n",
    "# the data, split between train and test sets\n",
    "(x_train, y_train), (x_test, y_test) = mnist.load_data()\n",
    "\n",
    "if K.image_data_format() == 'channels_first':\n",
    "    x_train = x_train.reshape(x_train.shape[0], 1, img_rows, img_cols)\n",
    "    x_test = x_test.reshape(x_test.shape[0], 1, img_rows, img_cols)\n",
    "    input_shape = (1, img_rows, img_cols)\n",
    "else:\n",
    "    x_train = x_train.reshape(x_train.shape[0], img_rows, img_cols, 1)\n",
    "    x_test = x_test.reshape(x_test.shape[0], img_rows, img_cols, 1)\n",
    "    input_shape = (img_rows, img_cols, 1)\n",
    "\n",
    "x_train = x_train.astype('float32')\n",
    "x_test = x_test.astype('float32')\n",
    "x_train /= 255\n",
    "x_test /= 255\n",
    "print('x_train shape:', x_train.shape)\n",
    "print(x_train.shape[0], 'train samples')\n",
    "print(x_test.shape[0], 'test samples')\n",
    "\n",
    "# convert class vectors to binary class matrices\n",
    "y_train = keras.utils.to_categorical(y_train, num_classes)\n",
    "y_test = keras.utils.to_categorical(y_test, num_classes)"
   ]
  },
  {
   "cell_type": "code",
   "execution_count": 7,
   "metadata": {
    "colab": {
     "base_uri": "https://localhost:8080/",
     "height": 1000
    },
    "colab_type": "code",
    "id": "zCOCrxjgCFAy",
    "outputId": "af0f890c-1d63-4eeb-a3ee-15f59670700b"
   },
   "outputs": [
    {
     "name": "stdout",
     "output_type": "stream",
     "text": [
      "WARNING:tensorflow:From /usr/local/lib/python3.6/dist-packages/keras/backend/tensorflow_backend.py:66: The name tf.get_default_graph is deprecated. Please use tf.compat.v1.get_default_graph instead.\n",
      "\n",
      "WARNING:tensorflow:From /usr/local/lib/python3.6/dist-packages/keras/backend/tensorflow_backend.py:541: The name tf.placeholder is deprecated. Please use tf.compat.v1.placeholder instead.\n",
      "\n",
      "WARNING:tensorflow:From /usr/local/lib/python3.6/dist-packages/keras/backend/tensorflow_backend.py:4432: The name tf.random_uniform is deprecated. Please use tf.random.uniform instead.\n",
      "\n",
      "WARNING:tensorflow:From /usr/local/lib/python3.6/dist-packages/keras/backend/tensorflow_backend.py:4267: The name tf.nn.max_pool is deprecated. Please use tf.nn.max_pool2d instead.\n",
      "\n",
      "WARNING:tensorflow:From /usr/local/lib/python3.6/dist-packages/keras/backend/tensorflow_backend.py:148: The name tf.placeholder_with_default is deprecated. Please use tf.compat.v1.placeholder_with_default instead.\n",
      "\n",
      "WARNING:tensorflow:From /usr/local/lib/python3.6/dist-packages/keras/backend/tensorflow_backend.py:3733: calling dropout (from tensorflow.python.ops.nn_ops) with keep_prob is deprecated and will be removed in a future version.\n",
      "Instructions for updating:\n",
      "Please use `rate` instead of `keep_prob`. Rate should be set to `rate = 1 - keep_prob`.\n",
      "WARNING:tensorflow:From /usr/local/lib/python3.6/dist-packages/keras/optimizers.py:793: The name tf.train.Optimizer is deprecated. Please use tf.compat.v1.train.Optimizer instead.\n",
      "\n",
      "WARNING:tensorflow:From /usr/local/lib/python3.6/dist-packages/keras/backend/tensorflow_backend.py:3576: The name tf.log is deprecated. Please use tf.math.log instead.\n",
      "\n",
      "WARNING:tensorflow:From /usr/local/lib/python3.6/dist-packages/tensorflow_core/python/ops/math_grad.py:1424: where (from tensorflow.python.ops.array_ops) is deprecated and will be removed in a future version.\n",
      "Instructions for updating:\n",
      "Use tf.where in 2.0, which has the same broadcast rule as np.where\n",
      "WARNING:tensorflow:From /usr/local/lib/python3.6/dist-packages/keras/backend/tensorflow_backend.py:1033: The name tf.assign_add is deprecated. Please use tf.compat.v1.assign_add instead.\n",
      "\n",
      "WARNING:tensorflow:From /usr/local/lib/python3.6/dist-packages/keras/backend/tensorflow_backend.py:1020: The name tf.assign is deprecated. Please use tf.compat.v1.assign instead.\n",
      "\n",
      "WARNING:tensorflow:From /usr/local/lib/python3.6/dist-packages/keras/backend/tensorflow_backend.py:3005: The name tf.Session is deprecated. Please use tf.compat.v1.Session instead.\n",
      "\n",
      "Train on 60000 samples, validate on 10000 samples\n",
      "Epoch 1/12\n",
      "WARNING:tensorflow:From /usr/local/lib/python3.6/dist-packages/keras/backend/tensorflow_backend.py:190: The name tf.get_default_session is deprecated. Please use tf.compat.v1.get_default_session instead.\n",
      "\n",
      "WARNING:tensorflow:From /usr/local/lib/python3.6/dist-packages/keras/backend/tensorflow_backend.py:197: The name tf.ConfigProto is deprecated. Please use tf.compat.v1.ConfigProto instead.\n",
      "\n",
      "WARNING:tensorflow:From /usr/local/lib/python3.6/dist-packages/keras/backend/tensorflow_backend.py:207: The name tf.global_variables is deprecated. Please use tf.compat.v1.global_variables instead.\n",
      "\n",
      "WARNING:tensorflow:From /usr/local/lib/python3.6/dist-packages/keras/backend/tensorflow_backend.py:216: The name tf.is_variable_initialized is deprecated. Please use tf.compat.v1.is_variable_initialized instead.\n",
      "\n",
      "WARNING:tensorflow:From /usr/local/lib/python3.6/dist-packages/keras/backend/tensorflow_backend.py:223: The name tf.variables_initializer is deprecated. Please use tf.compat.v1.variables_initializer instead.\n",
      "\n",
      "60000/60000 [==============================] - 35s 575us/step - loss: 0.2753 - acc: 0.9158 - val_loss: 0.0928 - val_acc: 0.9719\n",
      "Epoch 2/12\n",
      "60000/60000 [==============================] - 34s 563us/step - loss: 0.0870 - acc: 0.9740 - val_loss: 0.0563 - val_acc: 0.9818\n",
      "Epoch 3/12\n",
      "60000/60000 [==============================] - 33s 558us/step - loss: 0.0612 - acc: 0.9811 - val_loss: 0.0514 - val_acc: 0.9834\n",
      "Epoch 4/12\n",
      "60000/60000 [==============================] - 33s 558us/step - loss: 0.0488 - acc: 0.9853 - val_loss: 0.0450 - val_acc: 0.9857\n",
      "Epoch 5/12\n",
      "60000/60000 [==============================] - 33s 555us/step - loss: 0.0395 - acc: 0.9878 - val_loss: 0.0404 - val_acc: 0.9860\n",
      "Epoch 6/12\n",
      "60000/60000 [==============================] - 33s 558us/step - loss: 0.0338 - acc: 0.9894 - val_loss: 0.0446 - val_acc: 0.9863\n",
      "Epoch 7/12\n",
      "60000/60000 [==============================] - 34s 561us/step - loss: 0.0279 - acc: 0.9912 - val_loss: 0.0412 - val_acc: 0.9860\n",
      "Epoch 8/12\n",
      "60000/60000 [==============================] - 34s 561us/step - loss: 0.0252 - acc: 0.9926 - val_loss: 0.0367 - val_acc: 0.9866\n",
      "Epoch 9/12\n",
      "60000/60000 [==============================] - 34s 562us/step - loss: 0.0210 - acc: 0.9935 - val_loss: 0.0334 - val_acc: 0.9882\n",
      "Epoch 10/12\n",
      "60000/60000 [==============================] - 34s 562us/step - loss: 0.0189 - acc: 0.9944 - val_loss: 0.0378 - val_acc: 0.9875\n",
      "Epoch 11/12\n",
      "60000/60000 [==============================] - 33s 556us/step - loss: 0.0160 - acc: 0.9952 - val_loss: 0.0343 - val_acc: 0.9881\n",
      "Epoch 12/12\n",
      "60000/60000 [==============================] - 33s 557us/step - loss: 0.0141 - acc: 0.9958 - val_loss: 0.0361 - val_acc: 0.9886\n",
      "Test loss: 0.03607567184206782\n",
      "Test accuracy: 0.9886\n"
     ]
    },
    {
     "data": {
      "image/png": "[encoded data removed]",
      "text/plain": [
       "<Figure size 432x288 with 1 Axes>"
      ]
     },
     "metadata": {
      "tags": []
     },
     "output_type": "display_data"
    }
   ],
   "source": [
    "model = Sequential()\n",
    "model.add(Conv2D(32, kernel_size=(3, 3),strides=(1, 1),activation='relu',input_shape=input_shape))\n",
    "model.add(MaxPooling2D(pool_size=(2, 2)))\n",
    "model.add(Dropout(0.25))\n",
    "model.add(Flatten())\n",
    "model.add(Dense(128, activation='relu'))\n",
    "model.add(Dense(num_classes, activation='softmax'))\n",
    "plot_model(model, to_file='CNNlayermodel_plot.png', show_shapes=True, show_layer_names=True)\n",
    "model.compile(loss=keras.losses.categorical_crossentropy,\\\n",
    "              optimizer=keras.optimizers.Adadelta(),\\\n",
    "              metrics=['accuracy'])\n",
    "history=model.fit(x_train, y_train,batch_size=batch_size,epochs=epochs,verbose=1,validation_data=(x_test, y_test))\n",
    "score = model.evaluate(x_test, y_test, verbose=0)\n",
    "print('Test loss:', score[0])\n",
    "print('Test accuracy:', score[1])\n",
    "\n",
    "fig,ax = plt.subplots(1,1)\n",
    "ax.set_xlabel('epoch') \n",
    "ax.set_ylabel('Categorical Crossentropy Loss')\n",
    "\n",
    "# list of epoch numbers\n",
    "x = list(range(1,epochs+1))\n",
    "vy = history.history['val_loss']\n",
    "ty = history.history['loss']\n",
    "plt_dynamic(x, vy, ty, ax)"
   ]
  },
  {
   "cell_type": "code",
   "execution_count": 10,
   "metadata": {
    "colab": {
     "base_uri": "https://localhost:8080/",
     "height": 374
    },
    "colab_type": "code",
    "id": "bhAhl4OIoawA",
    "outputId": "4c46e00d-3c17-4c16-9cb2-b9e3ca86623d"
   },
   "outputs": [
    {
     "name": "stdout",
     "output_type": "stream",
     "text": [
      "Model: \"sequential_1\"\n",
      "_________________________________________________________________\n",
      "Layer (type)                 Output Shape              Param #   \n",
      "=================================================================\n",
      "conv2d_1 (Conv2D)            (None, 26, 26, 32)        320       \n",
      "_________________________________________________________________\n",
      "max_pooling2d_1 (MaxPooling2 (None, 13, 13, 32)        0         \n",
      "_________________________________________________________________\n",
      "dropout_1 (Dropout)          (None, 13, 13, 32)        0         \n",
      "_________________________________________________________________\n",
      "flatten_1 (Flatten)          (None, 5408)              0         \n",
      "_________________________________________________________________\n",
      "dense_1 (Dense)              (None, 128)               692352    \n",
      "_________________________________________________________________\n",
      "dense_2 (Dense)              (None, 10)                1290      \n",
      "=================================================================\n",
      "Total params: 693,962\n",
      "Trainable params: 693,962\n",
      "Non-trainable params: 0\n",
      "_________________________________________________________________\n",
      "None\n"
     ]
    }
   ],
   "source": [
    "print(model.summary())"
   ]
  },
  {
   "cell_type": "code",
   "execution_count": 0,
   "metadata": {
    "colab": {},
    "colab_type": "code",
    "id": "ZdtFQmn5lexF"
   },
   "outputs": [],
   "source": [
    "from google.colab import files\n",
    "files.download(\"CNNlayermodel_plot.png\")    "
   ]
  },
  {
   "cell_type": "code",
   "execution_count": 11,
   "metadata": {
    "colab": {
     "base_uri": "https://localhost:8080/",
     "height": 51
    },
    "colab_type": "code",
    "id": "hihSuZGBIxij",
    "outputId": "f6722a3d-8750-46fc-d5a8-c8413fe7dbdb"
   },
   "outputs": [
    {
     "name": "stdout",
     "output_type": "stream",
     "text": [
      "thus the model has saved its architecture\n",
      "thus the model have saved the weights\n"
     ]
    }
   ],
   "source": [
    "import json\n",
    "\n",
    "model_json = model.to_json()\n",
    "with open('model.json', 'w') as json_file:\n",
    "  json_file.write(model_json)\n",
    "print(\"thus the model has saved its architecture\")\n",
    "\n",
    "model.save_weights(\"CNN_MNITmodelweights.h5\")\n",
    "print(\"thus the model have saved the weights\")"
   ]
  },
  {
   "cell_type": "code",
   "execution_count": 0,
   "metadata": {
    "colab": {},
    "colab_type": "code",
    "id": "hVsB1ygqMGIj"
   },
   "outputs": [],
   "source": [
    "from google.colab import files\n",
    "files.download(\"model.json\")"
   ]
  },
  {
   "cell_type": "code",
   "execution_count": 16,
   "metadata": {
    "colab": {
     "base_uri": "https://localhost:8080/",
     "height": 34
    },
    "colab_type": "code",
    "id": "d1D8OLUptC_5",
    "outputId": "37e3aacb-338c-46c4-f40b-25287120778f"
   },
   "outputs": [
    {
     "name": "stdout",
     "output_type": "stream",
     "text": [
      "Loaded model from disk\n"
     ]
    }
   ],
   "source": [
    "from keras.models import model_from_json\n",
    "from keras.models import load_model\n",
    "from keras.preprocessing import image\n",
    "import numpy as np\n",
    "\n",
    "# dimensions of our images\n",
    "img_width, img_height = 28, 28\n",
    "\n",
    "# load json and create model\n",
    "json_file = open('model.json', 'r')\n",
    "loaded_model_json = json_file.read()\n",
    "json_file.close()\n",
    "loaded_model = model_from_json(loaded_model_json)\n",
    "# load weights into new model\n",
    "loaded_model.load_weights(\"CNN_MNITmodelweights.h5\")\n",
    "plot_model(loaded_model, to_file='loaded_CNNlayermodel_plot.png', show_shapes=True, show_layer_names=True)\n",
    "print(\"Loaded model from disk\")"
   ]
  },
  {
   "cell_type": "code",
   "execution_count": 17,
   "metadata": {
    "colab": {
     "base_uri": "https://localhost:8080/",
     "height": 51
    },
    "colab_type": "code",
    "id": "S9oTy8moxavf",
    "outputId": "b8a04dba-4fd4-469e-a305-c726b676f879"
   },
   "outputs": [
    {
     "name": "stdout",
     "output_type": "stream",
     "text": [
      "CNNlayermodel_plot.png\t loaded_CNNlayermodel_plot.png\tsample_data\n",
      "CNN_MNITmodelweights.h5  model.json\n"
     ]
    }
   ],
   "source": [
    "!ls"
   ]
  },
  {
   "cell_type": "code",
   "execution_count": 0,
   "metadata": {
    "colab": {},
    "colab_type": "code",
    "id": "OnXfp_LaxiuT"
   },
   "outputs": [],
   "source": [
    "from google.colab import files\n",
    "files.download(\"loaded_CNNlayermodel_plot.png\")"
   ]
  },
  {
   "cell_type": "code",
   "execution_count": 0,
   "metadata": {
    "colab": {},
    "colab_type": "code",
    "id": "LpUCS_V8yEsI"
   },
   "outputs": [],
   "source": []
  }
 ],
 "metadata": {
  "accelerator": "TPU",
  "colab": {
   "collapsed_sections": [],
   "name": "edureka_DL_midcourse_test.ipynb",
   "provenance": []
  },
  "kernelspec": {
   "display_name": "Python 3",
   "language": "python",
   "name": "python3"
  },
  "language_info": {
   "codemirror_mode": {
    "name": "ipython",
    "version": 3
   },
   "file_extension": ".py",
   "mimetype": "text/x-python",
   "name": "python",
   "nbconvert_exporter": "python",
   "pygments_lexer": "ipython3",
   "version": "3.7.3"
  }
 },
 "nbformat": 4,
 "nbformat_minor": 1
}
