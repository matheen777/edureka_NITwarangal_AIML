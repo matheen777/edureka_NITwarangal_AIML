{
 "cells": [
  {
   "cell_type": "code",
   "execution_count": 1,
   "metadata": {},
   "outputs": [
    {
     "name": "stdout",
     "output_type": "stream",
     "text": [
      "0\n",
      "1\n",
      "2\n",
      "3\n",
      "4\n",
      "5\n",
      "6\n",
      "7\n",
      "8\n",
      "9\n",
      "10\n",
      "11\n",
      "12\n",
      "13\n",
      "14\n",
      "15\n",
      "16\n",
      "17\n",
      "18\n",
      "19\n"
     ]
    }
   ],
   "source": [
    "for i in range(20):\n",
    "    print(i)"
   ]
  },
  {
   "cell_type": "code",
   "execution_count": null,
   "metadata": {},
   "outputs": [],
   "source": []
  },
  {
   "cell_type": "code",
   "execution_count": null,
   "metadata": {},
   "outputs": [],
   "source": []
  },
  {
   "cell_type": "code",
   "execution_count": null,
   "metadata": {},
   "outputs": [],
   "source": []
  },
  {
   "cell_type": "code",
   "execution_count": null,
   "metadata": {},
   "outputs": [],
   "source": []
  },
  {
   "cell_type": "code",
   "execution_count": null,
   "metadata": {},
   "outputs": [],
   "source": []
  },
  {
   "cell_type": "code",
   "execution_count": 0,
   "metadata": {
    "colab": {},
    "colab_type": "code",
    "id": "nWZ-sk4M5nO6"
   },
   "outputs": [],
   "source": [
    "%tensorflow_version 1.x\n",
    "import tensorflow as tf"
   ]
  },
  {
   "cell_type": "code",
   "execution_count": 2,
   "metadata": {
    "colab": {
     "base_uri": "https://localhost:8080/",
     "height": 34
    },
    "colab_type": "code",
    "id": "91oyfSVL6E7K",
    "outputId": "cb2398c0-870c-4a44-baaf-b6116dd3173a"
   },
   "outputs": [
    {
     "name": "stderr",
     "output_type": "stream",
     "text": [
      "Using TensorFlow backend.\n"
     ]
    }
   ],
   "source": [
    "from keras.preprocessing.image import ImageDataGenerator\n",
    "from keras.models import Sequential\n",
    "from keras.layers import Conv1D , MaxPool2D\n",
    "from keras.layers import Activation , Dense , Flatten , Dropout\n",
    "from keras.preprocessing import image"
   ]
  },
  {
   "cell_type": "code",
   "execution_count": 3,
   "metadata": {
    "colab": {
     "base_uri": "https://localhost:8080/",
     "height": 170
    },
    "colab_type": "code",
    "id": "7VOpbgwHUO13",
    "outputId": "754c7e54-de4c-4861-feae-65825b32c43b"
   },
   "outputs": [
    {
     "name": "stdout",
     "output_type": "stream",
     "text": [
      "Downloading data from https://storage.googleapis.com/tensorflow/tf-keras-datasets/train-labels-idx1-ubyte.gz\n",
      "32768/29515 [=================================] - 0s 0us/step\n",
      "Downloading data from https://storage.googleapis.com/tensorflow/tf-keras-datasets/train-images-idx3-ubyte.gz\n",
      "26427392/26421880 [==============================] - 0s 0us/step\n",
      "Downloading data from https://storage.googleapis.com/tensorflow/tf-keras-datasets/t10k-labels-idx1-ubyte.gz\n",
      "8192/5148 [===============================================] - 0s 0us/step\n",
      "Downloading data from https://storage.googleapis.com/tensorflow/tf-keras-datasets/t10k-images-idx3-ubyte.gz\n",
      "4423680/4422102 [==============================] - 0s 0us/step\n"
     ]
    },
    {
     "data": {
      "text/plain": [
       "(60000, 28, 28)"
      ]
     },
     "execution_count": 3,
     "metadata": {
      "tags": []
     },
     "output_type": "execute_result"
    }
   ],
   "source": [
    "(x_train,y_train),(x_test,y_test) = tf.keras.datasets.fashion_mnist.load_data()\n",
    "x_train.shape"
   ]
  },
  {
   "cell_type": "code",
   "execution_count": 4,
   "metadata": {
    "colab": {
     "base_uri": "https://localhost:8080/",
     "height": 51
    },
    "colab_type": "code",
    "id": "_NwTthREUqgO",
    "outputId": "703f158b-ae88-44c9-cf42-f35b6d3b3d17"
   },
   "outputs": [
    {
     "name": "stdout",
     "output_type": "stream",
     "text": [
      "Number of training examples : 60000 and each image is of shape (28, 28)\n",
      "Number of testing examples : 10000 and each image is of shape (28, 28)\n"
     ]
    }
   ],
   "source": [
    "print(\"Number of training examples :\", x_train.shape[0], \"and each image is of shape (%d, %d)\"%(x_train.shape[1], x_train.shape[2]))\n",
    "print(\"Number of testing examples :\", x_test.shape[0], \"and each image is of shape (%d, %d)\"%(x_test.shape[1], x_test.shape[2]))"
   ]
  },
  {
   "cell_type": "code",
   "execution_count": 5,
   "metadata": {
    "colab": {
     "base_uri": "https://localhost:8080/",
     "height": 298
    },
    "colab_type": "code",
    "id": "k0XPGjQtVT3L",
    "outputId": "214892cf-739c-426f-b9da-649cff7a2c20"
   },
   "outputs": [
    {
     "data": {
      "text/plain": [
       "Text(0.5, 1.0, '9')"
      ]
     },
     "execution_count": 5,
     "metadata": {
      "tags": []
     },
     "output_type": "execute_result"
    },
    {
     "data": {
      "image/png": "[encoded data removed]",
      "text/plain": [
       "<Figure size 432x288 with 1 Axes>"
      ]
     },
     "metadata": {
      "tags": []
     },
     "output_type": "display_data"
    }
   ],
   "source": [
    "#just to visualize the image in grayscale. \n",
    "%matplotlib inline\n",
    "import matplotlib.pyplot as plt\n",
    "plt.imshow(x_train[0], cmap='gray')\n",
    "plt.title(y_train[0])"
   ]
  },
  {
   "cell_type": "code",
   "execution_count": 0,
   "metadata": {
    "colab": {},
    "colab_type": "code",
    "id": "WEEWWgPKVgW1"
   },
   "outputs": [],
   "source": [
    "# if you observe the input shape its 2 dimensional vector\n",
    "# for each image we have a (28*28) vector\n",
    "# we will convert the (28*28) vector into single dimensional vector of 1 * 784 \n",
    "\n",
    "x_train = x_train.reshape(x_train.shape[0], x_train.shape[1]*x_train.shape[2])\n",
    "x_test = x_test.reshape(x_test.shape[0], x_test.shape[1]*x_test.shape[2])"
   ]
  },
  {
   "cell_type": "code",
   "execution_count": 7,
   "metadata": {
    "colab": {
     "base_uri": "https://localhost:8080/",
     "height": 51
    },
    "colab_type": "code",
    "id": "fDZPEFC6W8DF",
    "outputId": "2ea8674e-07d9-4095-df08-a51babd6560d"
   },
   "outputs": [
    {
     "name": "stdout",
     "output_type": "stream",
     "text": [
      "Number of training examples : 60000 and each image is of shape (784)\n",
      "Number of testing examples : 10000 and each image is of shape (784)\n"
     ]
    }
   ],
   "source": [
    "# after converting the input images from 3d to 2d vectors\n",
    "\n",
    "print(\"Number of training examples :\", x_train.shape[0], \"and each image is of shape (%d)\"%(x_train.shape[1]))\n",
    "print(\"Number of testing examples :\", x_test.shape[0], \"and each image is of shape (%d)\"%(x_test.shape[1]))"
   ]
  },
  {
   "cell_type": "code",
   "execution_count": 0,
   "metadata": {
    "colab": {},
    "colab_type": "code",
    "id": "97294vGRXHZ4"
   },
   "outputs": [],
   "source": [
    "x_train = x_train.astype(\"float32\")\n",
    "x_test = x_test.astype(\"float32\")\n",
    "# if we observe the above matrix each cell is having a value between 0-255\n",
    "# before we move to apply machine learning algorithms lets try to normalize the data\n",
    "# X => (X - Xmin)/(Xmax-Xmin) = X/255\n",
    "\n",
    "x_train = x_train/255\n",
    "x_test = x_test/255"
   ]
  },
  {
   "cell_type": "code",
   "execution_count": 9,
   "metadata": {
    "colab": {
     "base_uri": "https://localhost:8080/",
     "height": 51
    },
    "colab_type": "code",
    "id": "bZ7rvbImXPlx",
    "outputId": "2a529e8d-351b-4834-8609-205c0387c01f"
   },
   "outputs": [
    {
     "name": "stdout",
     "output_type": "stream",
     "text": [
      "Class label of first image : 9\n",
      "After converting the output into a vector :  [0. 0. 0. 0. 0. 0. 0. 0. 0. 1.]\n"
     ]
    }
   ],
   "source": [
    "from keras.utils import np_utils\n",
    "# here we are having a class number for each image\n",
    "print(\"Class label of first image :\", y_train[0])\n",
    "\n",
    "# lets convert this into a 10 dimensional vector\n",
    "y_train = np_utils.to_categorical(y_train, 10) \n",
    "y_test = np_utils.to_categorical(y_test, 10)\n",
    "\n",
    "print(\"After converting the output into a vector : \",y_train[0])"
   ]
  },
  {
   "cell_type": "code",
   "execution_count": 0,
   "metadata": {
    "colab": {},
    "colab_type": "code",
    "id": "GgbbqoebXX9Y"
   },
   "outputs": [],
   "source": [
    "#lets define the important parameters and variables to work with the tensors\n",
    "import numpy as np\n",
    "learning_rate = 0.001\n",
    "training_epochs = 2000\n",
    "cost_history = np.empty(shape=[1],dtype = float)\n",
    "n_input = x_train.shape[1] #784\n",
    "n_classes = 10\n",
    "\n",
    "#define the number of hidden layers and number of neurons for each layer\n",
    "n_hidden_1 = 256\n",
    "n_hidden_2 = 256\n",
    "n_hidden_3 = 256\n",
    "n_hidden_4 = 256\n",
    " \n",
    "Xs = tf.placeholder(tf.float32 , [None,n_input])\n",
    "Ws = tf.Variable(tf.zeros([n_input,n_classes]))\n",
    "Bs = tf.Variable(tf.zeros([n_classes]))\n",
    "Ys = tf.placeholder(tf.float32, [None,n_classes])"
   ]
  },
  {
   "cell_type": "code",
   "execution_count": 18,
   "metadata": {
    "colab": {
     "base_uri": "https://localhost:8080/",
     "height": 700
    },
    "colab_type": "code",
    "id": "0o9b9avLbYSh",
    "outputId": "f66a0b08-d3d1-48c7-ca81-80fc34829d7c"
   },
   "outputs": [
    {
     "name": "stdout",
     "output_type": "stream",
     "text": [
      "Epoch: 0000 - cost= 1001.224121094 - Accuracy= 0.1146\n",
      "Epoch: 0200 - cost= 59.249965668 - Accuracy= 0.6665\n",
      "Epoch: 0400 - cost= 43.016357422 - Accuracy= 0.6901\n",
      "Epoch: 0600 - cost= 35.888729095 - Accuracy= 0.7009\n",
      "Epoch: 0800 - cost= 30.630254745 - Accuracy= 0.7093\n",
      "Epoch: 1000 - cost= 27.809658051 - Accuracy= 0.7139\n",
      "Epoch: 1200 - cost= 24.480613708 - Accuracy= 0.7221\n",
      "Epoch: 1400 - cost= 22.799232483 - Accuracy= 0.7203\n",
      "Epoch: 1600 - cost= 20.509565353 - Accuracy= 0.7274\n",
      "Epoch: 1800 - cost= 19.481237411 - Accuracy= 0.7264\n",
      "Optimization Finished!\n"
     ]
    },
    {
     "data": {
      "image/png": "[encoded data removed]",
      "text/plain": [
       "<Figure size 432x288 with 1 Axes>"
      ]
     },
     "metadata": {
      "tags": []
     },
     "output_type": "display_data"
    },
    {
     "data": {
      "image/png": "[encoded data removed]",
      "text/plain": [
       "<Figure size 432x288 with 1 Axes>"
      ]
     },
     "metadata": {
      "tags": []
     },
     "output_type": "display_data"
    }
   ],
   "source": [
    "# Create model\n",
    "def multilayer_perceptron(x, weights, biases):\n",
    "    # Hidden layer with RELU activation\n",
    "    layer_1 = tf.add(tf.matmul(x, weights['h1']), biases['b1'])\n",
    "    layer_1 = tf.nn.sigmoid(layer_1)\n",
    "    # Hidden layer with RELU activation\n",
    "    layer_2 = tf.add(tf.matmul(layer_1, weights['h2']), biases['b2'])\n",
    "    layer_2 = tf.nn.sigmoid(layer_2)\n",
    "    # Hidden layer with RELU activation\n",
    "    layer_3 = tf.add(tf.matmul(layer_2, weights['h3']), biases['b3'])\n",
    "    layer_3 = tf.nn.relu(layer_3)\n",
    "    # Hidden layer with RELU activation\n",
    "    layer_4 = tf.add(tf.matmul(layer_3, weights['h4']), biases['b4'])\n",
    "    layer_4 = tf.nn.relu(layer_4)\n",
    "    # Output layer with linear activation\n",
    "    out_layer = tf.matmul(layer_4, weights['out']) + biases['out']\n",
    "    return out_layer\n",
    "\n",
    "# Store layers weight & bias\n",
    "weights = {\n",
    "    'h1': tf.Variable(tf.truncated_normal([n_input, n_hidden_1])),\n",
    "    'h2': tf.Variable(tf.truncated_normal([n_hidden_1, n_hidden_2])),\n",
    "    'h3': tf.Variable(tf.truncated_normal([n_hidden_2, n_hidden_3])),\n",
    "    'h4': tf.Variable(tf.truncated_normal([n_hidden_3, n_hidden_4])),\n",
    "    'out': tf.Variable(tf.truncated_normal([n_hidden_4, n_classes]))\n",
    "}\n",
    "biases = {\n",
    "    'b1': tf.Variable(tf.truncated_normal([n_hidden_1])),\n",
    "    'b2': tf.Variable(tf.truncated_normal([n_hidden_2])),\n",
    "    'b3': tf.Variable(tf.truncated_normal([n_hidden_3])),\n",
    "    'b4': tf.Variable(tf.truncated_normal([n_hidden_4])),\n",
    "    'out': tf.Variable(tf.truncated_normal([n_classes]))\n",
    "}\n",
    "\n",
    "# Construct model\n",
    "pred = multilayer_perceptron(Xs, weights, biases)\n",
    "\n",
    "# Define loss and optimizer\n",
    "cost_function = tf.reduce_mean(tf.nn.softmax_cross_entropy_with_logits(logits=pred, labels=Ys))\n",
    "optimizer = tf.train.GradientDescentOptimizer(learning_rate=learning_rate)\n",
    "train_step = optimizer.minimize(cost_function)\n",
    "\n",
    "# Initializing the variables\n",
    "init = tf.global_variables_initializer()\n",
    "#create an empty list to store the cost history and accuracy history\n",
    "cost_history = []\n",
    "accuracy_history = []\n",
    "\n",
    "# Launch the graph\n",
    "sess = tf.Session()\n",
    "sess.run(init)\n",
    "\n",
    "# Training cycle\n",
    "for epoch in range(training_epochs):\n",
    "  sess.run(train_step, feed_dict = {Xs:x_train, Ys:y_train})\n",
    "  cost = sess.run(cost_function, feed_dict = {Xs:x_train, Ys:y_train})\n",
    "  cost_history = np.append(cost_history, cost)\n",
    "  correct_prediction = tf.equal(tf.argmax(pred,1), tf.argmax(Ys,1))\n",
    "  accuracy = tf.reduce_mean(tf.cast(correct_prediction, tf.float32))\n",
    "  accuracy = (sess.run(accuracy, feed_dict={Xs: x_test, Ys:y_test}))\n",
    "  accuracy_history = np.append(accuracy_history, accuracy)\n",
    "  if epoch % 200 ==0:\n",
    "    print(\"Epoch:\", '%04d' % (epoch), \"- cost=\", \"{:.9f}\".format(cost), \"- Accuracy=\",accuracy)\n",
    "\n",
    "\n",
    "print(\"Optimization Finished!\")\n",
    "#plot the cost history\n",
    "plt.plot(cost_history)\n",
    "plt.show()\n",
    "#plot the accuracy history\n",
    "plt.plot(accuracy_history)\n",
    "plt.show()\n",
    "# Test model\n",
    "#correct_prediction = tf.equal(tf.argmax(pred, 1), tf.argmax(Ys, 1))\n",
    "# Calculate accuracy\n",
    "#accuracy = tf.reduce_mean(tf.cast(correct_prediction, \"float32\"))\n",
    "#print(\"Accuracy:\", accuracy.eval({Xs : x_test, Ys : y_test}))"
   ]
  },
  {
   "cell_type": "markdown",
   "metadata": {
    "colab_type": "text",
    "id": "IadAo_ugFADA"
   },
   "source": [
    "## Question 2"
   ]
  },
  {
   "cell_type": "markdown",
   "metadata": {
    "colab_type": "text",
    "id": "FTVggZUBFFoA"
   },
   "source": [
    "Similarlylike MLP, define a function that can create single layer network called perceptron on Fashion MNIST.\n",
    "**Learning rate: 0.0001**\n",
    "**Epochs: 5000**"
   ]
  },
  {
   "cell_type": "code",
   "execution_count": 19,
   "metadata": {
    "colab": {
     "base_uri": "https://localhost:8080/",
     "height": 955
    },
    "colab_type": "code",
    "id": "ngwKWFBM20QE",
    "outputId": "216782f5-ffb9-471c-d0cb-1dc59ceb5f9f"
   },
   "outputs": [
    {
     "name": "stdout",
     "output_type": "stream",
     "text": [
      "Epoch: 0000 - cost= 10.326580048 - Accuracy= 0.1664\n",
      "Epoch: 0200 - cost= 9.935637474 - Accuracy= 0.1652\n",
      "Epoch: 0400 - cost= 9.574850082 - Accuracy= 0.1664\n",
      "Epoch: 0600 - cost= 9.241118431 - Accuracy= 0.1649\n",
      "Epoch: 0800 - cost= 8.932060242 - Accuracy= 0.1645\n",
      "Epoch: 1000 - cost= 8.645762444 - Accuracy= 0.1622\n",
      "Epoch: 1200 - cost= 8.380648613 - Accuracy= 0.1621\n",
      "Epoch: 1400 - cost= 8.135352135 - Accuracy= 0.1625\n",
      "Epoch: 1600 - cost= 7.908519268 - Accuracy= 0.1628\n",
      "Epoch: 1800 - cost= 7.698872089 - Accuracy= 0.1625\n",
      "Epoch: 2000 - cost= 7.505153179 - Accuracy= 0.1619\n",
      "Epoch: 2200 - cost= 7.326100826 - Accuracy= 0.1623\n",
      "Epoch: 2400 - cost= 7.160502434 - Accuracy= 0.1629\n",
      "Epoch: 2600 - cost= 7.007173538 - Accuracy= 0.1622\n",
      "Epoch: 2800 - cost= 6.864968777 - Accuracy= 0.1625\n",
      "Epoch: 3000 - cost= 6.732851028 - Accuracy= 0.1626\n",
      "Epoch: 3200 - cost= 6.609814644 - Accuracy= 0.1637\n",
      "Epoch: 3400 - cost= 6.494946957 - Accuracy= 0.1631\n",
      "Epoch: 3600 - cost= 6.387459278 - Accuracy= 0.164\n",
      "Epoch: 3800 - cost= 6.286609173 - Accuracy= 0.1632\n",
      "Epoch: 4000 - cost= 6.191749096 - Accuracy= 0.1642\n",
      "Epoch: 4200 - cost= 6.102296352 - Accuracy= 0.1661\n",
      "Epoch: 4400 - cost= 6.017760754 - Accuracy= 0.1683\n",
      "Epoch: 4600 - cost= 5.937710285 - Accuracy= 0.1694\n",
      "Epoch: 4800 - cost= 5.861752987 - Accuracy= 0.1716\n",
      "Optimization Finished!\n"
     ]
    },
    {
     "data": {
      "image/png": "[encoded data removed]",
      "text/plain": [
       "<Figure size 432x288 with 1 Axes>"
      ]
     },
     "metadata": {
      "tags": []
     },
     "output_type": "display_data"
    },
    {
     "data": {
      "image/png": "[encoded data removed]",
      "text/plain": [
       "<Figure size 432x288 with 1 Axes>"
      ]
     },
     "metadata": {
      "tags": []
     },
     "output_type": "display_data"
    }
   ],
   "source": [
    "import numpy as np\n",
    "learning_rate = 0.0001\n",
    "training_epochs = 5000\n",
    "cost_history = np.empty(shape=[1],dtype = float)\n",
    "n_input = x_train.shape[1] #784\n",
    "n_classes = 10\n",
    "\n",
    "#define the number of hidden layers and number of neurons for each layer\n",
    "n_hidden_1 = 256\n",
    " \n",
    "Xs = tf.placeholder(tf.float32 , [None,n_input])\n",
    "Ws = tf.Variable(tf.zeros([n_input,n_classes]))\n",
    "Bs = tf.Variable(tf.zeros([n_classes]))\n",
    "Ys = tf.placeholder(tf.float32, [None,n_classes])\n",
    "\n",
    "def multilayer_perceptron(x, weights, biases):\n",
    "    # Hidden layer with RELU activation\n",
    "    layer_1 = tf.add(tf.matmul(x, weights['h1']), biases['b1'])\n",
    "    layer_1 = tf.nn.sigmoid(layer_1)\n",
    "    # Output layer with linear activation\n",
    "    out_layer = tf.matmul(layer_1, weights['out']) + biases['out']\n",
    "    return out_layer\n",
    "\n",
    "# Store layers weight & bias\n",
    "weights = {\n",
    "    'h1': tf.Variable(tf.truncated_normal([n_input, n_hidden_1])),\n",
    "    'out': tf.Variable(tf.truncated_normal([n_hidden_1, n_classes]))\n",
    "}\n",
    "\n",
    "biases = {\n",
    "    'b1': tf.Variable(tf.truncated_normal([n_hidden_1])),\n",
    "    'out': tf.Variable(tf.truncated_normal([n_classes]))\n",
    "}\n",
    "\n",
    "# Construct model\n",
    "pred = multilayer_perceptron(Xs, weights, biases)\n",
    "\n",
    "# Define loss and optimizer\n",
    "cost_function = tf.reduce_mean(tf.nn.softmax_cross_entropy_with_logits(logits=pred, labels=Ys))\n",
    "optimizer = tf.train.GradientDescentOptimizer(learning_rate=learning_rate)\n",
    "train_step = optimizer.minimize(cost_function)\n",
    "\n",
    "# Initializing the variables\n",
    "init = tf.global_variables_initializer()\n",
    "#create an empty list to store the cost history and accuracy history\n",
    "cost_history = []\n",
    "accuracy_history = []\n",
    "\n",
    "# Launch the graph\n",
    "sess = tf.Session()\n",
    "sess.run(init)\n",
    "\n",
    "# Training cycle\n",
    "for epoch in range(training_epochs):\n",
    "  sess.run(train_step, feed_dict = {Xs:x_train, Ys:y_train})\n",
    "  cost = sess.run(cost_function, feed_dict = {Xs:x_train, Ys:y_train})\n",
    "  cost_history = np.append(cost_history, cost)\n",
    "  correct_prediction = tf.equal(tf.argmax(pred,1), tf.argmax(Ys,1))\n",
    "  accuracy = tf.reduce_mean(tf.cast(correct_prediction, tf.float32))\n",
    "  accuracy = (sess.run(accuracy, feed_dict={Xs: x_test, Ys: y_test}))\n",
    "  accuracy_history = np.append(accuracy_history, accuracy)\n",
    "  if epoch % 200 ==0:\n",
    "    print(\"Epoch:\", '%04d' % (epoch), \"- cost=\", \"{:.9f}\".format(cost), \"- Accuracy=\",accuracy)\n",
    "\n",
    "\n",
    "print(\"Optimization Finished!\")\n",
    "#plot the cost history\n",
    "plt.plot(cost_history)\n",
    "plt.show()\n",
    "#plot the accuracy history\n",
    "plt.plot(accuracy_history)\n",
    "plt.show()"
   ]
  },
  {
   "cell_type": "code",
   "execution_count": 0,
   "metadata": {
    "colab": {},
    "colab_type": "code",
    "id": "b7ljDEQFDRB7"
   },
   "outputs": [],
   "source": []
  },
  {
   "cell_type": "markdown",
   "metadata": {
    "colab_type": "text",
    "id": "wOFtdD7rEwce"
   },
   "source": [
    "## question4:"
   ]
  },
  {
   "cell_type": "markdown",
   "metadata": {
    "colab_type": "text",
    "id": "6gTHk58xEjY_"
   },
   "source": [
    "Now, initialize variables, cost function and optimizer to initiate the training.\n",
    "**Adam Optimizer**"
   ]
  },
  {
   "cell_type": "markdown",
   "metadata": {
    "colab_type": "text",
    "id": "KVmf89kgWVRT"
   },
   "source": [
    "**with Sindle layer perceptron**"
   ]
  },
  {
   "cell_type": "code",
   "execution_count": 11,
   "metadata": {
    "colab": {
     "base_uri": "https://localhost:8080/",
     "height": 955
    },
    "colab_type": "code",
    "id": "FhPunzeA8Wr2",
    "outputId": "1aa3060d-a5a4-4693-fcaf-b436271104a8"
   },
   "outputs": [
    {
     "name": "stdout",
     "output_type": "stream",
     "text": [
      "Epoch: 0000 - cost= 17.118431091 - Accuracy= 0.0765\n",
      "Epoch: 0200 - cost= 4.167418003 - Accuracy= 0.3408\n",
      "Epoch: 0400 - cost= 2.048495293 - Accuracy= 0.5378\n",
      "Epoch: 0600 - cost= 1.531478882 - Accuracy= 0.6275\n",
      "Epoch: 0800 - cost= 1.266046047 - Accuracy= 0.6753\n",
      "Epoch: 1000 - cost= 1.099820256 - Accuracy= 0.7039\n",
      "Epoch: 1200 - cost= 0.983404815 - Accuracy= 0.723\n",
      "Epoch: 1400 - cost= 0.896669030 - Accuracy= 0.7361\n",
      "Epoch: 1600 - cost= 0.828834653 - Accuracy= 0.7498\n",
      "Epoch: 1800 - cost= 0.774219811 - Accuracy= 0.7603\n",
      "Epoch: 2000 - cost= 0.728991687 - Accuracy= 0.7685\n",
      "Epoch: 2200 - cost= 0.690399110 - Accuracy= 0.7763\n",
      "Epoch: 2400 - cost= 0.656477988 - Accuracy= 0.7845\n",
      "Epoch: 2600 - cost= 0.626160622 - Accuracy= 0.791\n",
      "Epoch: 2800 - cost= 0.598775387 - Accuracy= 0.7955\n",
      "Epoch: 3000 - cost= 0.573818147 - Accuracy= 0.8014\n",
      "Epoch: 3200 - cost= 0.550769687 - Accuracy= 0.8063\n",
      "Epoch: 3400 - cost= 0.529287636 - Accuracy= 0.8105\n",
      "Epoch: 3600 - cost= 0.509129047 - Accuracy= 0.8149\n",
      "Epoch: 3800 - cost= 0.490115553 - Accuracy= 0.82\n",
      "Epoch: 4000 - cost= 0.472189188 - Accuracy= 0.8228\n",
      "Epoch: 4200 - cost= 0.455270648 - Accuracy= 0.8264\n",
      "Epoch: 4400 - cost= 0.439236730 - Accuracy= 0.8289\n",
      "Epoch: 4600 - cost= 0.423960268 - Accuracy= 0.8323\n",
      "Epoch: 4800 - cost= 0.409339637 - Accuracy= 0.8346\n",
      "Optimization Finished!\n"
     ]
    },
    {
     "data": {
      "image/png": "[encoded data removed]",
      "text/plain": [
       "<Figure size 432x288 with 1 Axes>"
      ]
     },
     "metadata": {
      "tags": []
     },
     "output_type": "display_data"
    },
    {
     "data": {
      "image/png": "[encoded data removed]",
      "text/plain": [
       "<Figure size 432x288 with 1 Axes>"
      ]
     },
     "metadata": {
      "tags": []
     },
     "output_type": "display_data"
    }
   ],
   "source": [
    "import numpy as np\n",
    "learning_rate = 0.0001\n",
    "training_epochs = 5000\n",
    "cost_history = np.empty(shape=[1],dtype = float)\n",
    "n_input = x_train.shape[1] #784\n",
    "n_classes = 10\n",
    "\n",
    "#define the number of hidden layers and number of neurons for each layer\n",
    "n_hidden_1 = 256\n",
    " \n",
    "Xs = tf.placeholder(tf.float32 , [None,n_input])\n",
    "Ws = tf.Variable(tf.zeros([n_input,n_classes]))\n",
    "Bs = tf.Variable(tf.zeros([n_classes]))\n",
    "Ys = tf.placeholder(tf.float32, [None,n_classes])\n",
    "\n",
    "def multilayer_perceptron(x, weights, biases):\n",
    "    # Hidden layer with RELU activation\n",
    "    layer_1 = tf.add(tf.matmul(x, weights['h1']), biases['b1'])\n",
    "    layer_1 = tf.nn.sigmoid(layer_1)\n",
    "    # Output layer with linear activation\n",
    "    out_layer = tf.matmul(layer_1, weights['out']) + biases['out']\n",
    "    return out_layer\n",
    "\n",
    "# Store layers weight & bias\n",
    "weights = {\n",
    "    'h1': tf.Variable(tf.truncated_normal([n_input, n_hidden_1])),\n",
    "    'out': tf.Variable(tf.truncated_normal([n_hidden_1, n_classes]))\n",
    "}\n",
    "\n",
    "biases = {\n",
    "    'b1': tf.Variable(tf.truncated_normal([n_hidden_1])),\n",
    "    'out': tf.Variable(tf.truncated_normal([n_classes]))\n",
    "}\n",
    "\n",
    "# Construct model\n",
    "pred = multilayer_perceptron(Xs, weights, biases)\n",
    "\n",
    "# Define loss and optimizer\n",
    "cost_function = tf.reduce_mean(tf.nn.softmax_cross_entropy_with_logits(logits=pred, labels=Ys))\n",
    "optimizer = tf.train.AdamOptimizer(learning_rate=learning_rate)\n",
    "train_step = optimizer.minimize(cost_function)\n",
    "\n",
    "# Initializing the variables\n",
    "init = tf.global_variables_initializer()\n",
    "#create an empty list to store the cost history and accuracy history\n",
    "cost_history = []\n",
    "accuracy_history = []\n",
    "\n",
    "# Launch the graph\n",
    "sess = tf.Session()\n",
    "sess.run(init)\n",
    "\n",
    "# Training cycle\n",
    "for epoch in range(training_epochs):\n",
    "  sess.run(train_step, feed_dict = {Xs:x_train, Ys:y_train})\n",
    "  cost = sess.run(cost_function, feed_dict = {Xs:x_train, Ys:y_train})\n",
    "  cost_history = np.append(cost_history, cost)\n",
    "  correct_prediction = tf.equal(tf.argmax(pred,1), tf.argmax(Ys,1))\n",
    "  accuracy = tf.reduce_mean(tf.cast(correct_prediction, tf.float32))\n",
    "  accuracy = (sess.run(accuracy, feed_dict={Xs: x_test, Ys: y_test}))\n",
    "  accuracy_history = np.append(accuracy_history, accuracy)\n",
    "  if epoch % 200 ==0:\n",
    "    print(\"Epoch:\", '%04d' % (epoch), \"- cost=\", \"{:.9f}\".format(cost), \"- Accuracy=\",accuracy)\n",
    "\n",
    "\n",
    "print(\"Optimization Finished!\")\n",
    "#plot the cost history\n",
    "plt.plot(cost_history)\n",
    "plt.show()\n",
    "#plot the accuracy history\n",
    "plt.plot(accuracy_history)\n",
    "plt.show()"
   ]
  },
  {
   "cell_type": "markdown",
   "metadata": {
    "colab_type": "text",
    "id": "Vdma3lulWe2X"
   },
   "source": [
    "**With Multi layer perceptron**"
   ]
  },
  {
   "cell_type": "code",
   "execution_count": 10,
   "metadata": {
    "colab": {
     "base_uri": "https://localhost:8080/",
     "height": 1000
    },
    "colab_type": "code",
    "id": "5o5RiTXVDTsv",
    "outputId": "1f0f2768-2b56-4ec2-baf9-29aac59f3e3c"
   },
   "outputs": [
    {
     "name": "stdout",
     "output_type": "stream",
     "text": [
      "WARNING:tensorflow:From <ipython-input-10-93f8427882de>:57: softmax_cross_entropy_with_logits (from tensorflow.python.ops.nn_ops) is deprecated and will be removed in a future version.\n",
      "Instructions for updating:\n",
      "\n",
      "Future major versions of TensorFlow will allow gradients to flow\n",
      "into the labels input on backprop by default.\n",
      "\n",
      "See `tf.nn.softmax_cross_entropy_with_logits_v2`.\n",
      "\n",
      "Epoch: 0000 - cost= 1615.436279297 - Accuracy= 0.1014\n",
      "Epoch: 0200 - cost= 133.281677246 - Accuracy= 0.5037\n",
      "Epoch: 0400 - cost= 77.670913696 - Accuracy= 0.6305\n",
      "Epoch: 0600 - cost= 56.206306458 - Accuracy= 0.6791\n",
      "Epoch: 0800 - cost= 44.491424561 - Accuracy= 0.7036\n",
      "Epoch: 1000 - cost= 36.737583160 - Accuracy= 0.7174\n",
      "Epoch: 1200 - cost= 30.904825211 - Accuracy= 0.725\n",
      "Epoch: 1400 - cost= 26.255853653 - Accuracy= 0.7343\n",
      "Epoch: 1600 - cost= 22.415241241 - Accuracy= 0.7406\n",
      "Epoch: 1800 - cost= 19.255388260 - Accuracy= 0.744\n",
      "Epoch: 2000 - cost= 16.626661301 - Accuracy= 0.7423\n",
      "Epoch: 2200 - cost= 14.447650909 - Accuracy= 0.743\n",
      "Epoch: 2400 - cost= 12.627860069 - Accuracy= 0.7462\n",
      "Epoch: 2600 - cost= 11.084720612 - Accuracy= 0.7477\n",
      "Epoch: 2800 - cost= 9.760410309 - Accuracy= 0.7503\n",
      "Epoch: 3000 - cost= 8.610432625 - Accuracy= 0.7484\n",
      "Epoch: 3200 - cost= 7.609816074 - Accuracy= 0.749\n",
      "Epoch: 3400 - cost= 6.729547024 - Accuracy= 0.7479\n",
      "Epoch: 3600 - cost= 5.960904121 - Accuracy= 0.7456\n",
      "Epoch: 3800 - cost= 5.280421257 - Accuracy= 0.7474\n",
      "Epoch: 4000 - cost= 4.677576065 - Accuracy= 0.7463\n",
      "Epoch: 4200 - cost= 4.149377346 - Accuracy= 0.7479\n",
      "Epoch: 4400 - cost= 3.698367357 - Accuracy= 0.7481\n",
      "Epoch: 4600 - cost= 3.302488089 - Accuracy= 0.7502\n",
      "Epoch: 4800 - cost= 2.964424133 - Accuracy= 0.7498\n",
      "Optimization Finished!\n"
     ]
    },
    {
     "data": {
      "image/png": "[encoded data removed]",
      "text/plain": [
       "<Figure size 432x288 with 1 Axes>"
      ]
     },
     "metadata": {
      "tags": []
     },
     "output_type": "display_data"
    },
    {
     "data": {
      "image/png": "[encoded data removed]",
      "text/plain": [
       "<Figure size 432x288 with 1 Axes>"
      ]
     },
     "metadata": {
      "tags": []
     },
     "output_type": "display_data"
    }
   ],
   "source": [
    "#lets define the important parameters and variables to work with the tensors\n",
    "import numpy as np\n",
    "learning_rate = 0.0001\n",
    "training_epochs = 5000\n",
    "cost_history = np.empty(shape=[1],dtype = float)\n",
    "n_input = x_train.shape[1] #784\n",
    "n_classes = 10\n",
    "\n",
    "#define the number of hidden layers and number of neurons for each layer\n",
    "n_hidden_1 = 256\n",
    "n_hidden_2 = 256\n",
    "n_hidden_3 = 256\n",
    "n_hidden_4 = 256\n",
    " \n",
    "Xs = tf.placeholder(tf.float32 , [None,n_input])\n",
    "Ws = tf.Variable(tf.zeros([n_input,n_classes]))\n",
    "Bs = tf.Variable(tf.zeros([n_classes]))\n",
    "Ys = tf.placeholder(tf.float32, [None,n_classes])\n",
    "\n",
    "# Create model\n",
    "def multilayer_perceptron(x, weights, biases):\n",
    "    # Hidden layer with RELU activation\n",
    "    layer_1 = tf.add(tf.matmul(x, weights['h1']), biases['b1'])\n",
    "    layer_1 = tf.nn.sigmoid(layer_1)\n",
    "    # Hidden layer with RELU activation\n",
    "    layer_2 = tf.add(tf.matmul(layer_1, weights['h2']), biases['b2'])\n",
    "    layer_2 = tf.nn.sigmoid(layer_2)\n",
    "    # Hidden layer with RELU activation\n",
    "    layer_3 = tf.add(tf.matmul(layer_2, weights['h3']), biases['b3'])\n",
    "    layer_3 = tf.nn.relu(layer_3)\n",
    "    # Hidden layer with RELU activation\n",
    "    layer_4 = tf.add(tf.matmul(layer_3, weights['h4']), biases['b4'])\n",
    "    layer_4 = tf.nn.relu(layer_4)\n",
    "    # Output layer with linear activation\n",
    "    out_layer = tf.matmul(layer_4, weights['out']) + biases['out']\n",
    "    return out_layer\n",
    "\n",
    "# Store layers weight & bias\n",
    "weights = {\n",
    "    'h1': tf.Variable(tf.truncated_normal([n_input, n_hidden_1])),\n",
    "    'h2': tf.Variable(tf.truncated_normal([n_hidden_1, n_hidden_2])),\n",
    "    'h3': tf.Variable(tf.truncated_normal([n_hidden_2, n_hidden_3])),\n",
    "    'h4': tf.Variable(tf.truncated_normal([n_hidden_3, n_hidden_4])),\n",
    "    'out': tf.Variable(tf.truncated_normal([n_hidden_4, n_classes]))\n",
    "}\n",
    "biases = {\n",
    "    'b1': tf.Variable(tf.truncated_normal([n_hidden_1])),\n",
    "    'b2': tf.Variable(tf.truncated_normal([n_hidden_2])),\n",
    "    'b3': tf.Variable(tf.truncated_normal([n_hidden_3])),\n",
    "    'b4': tf.Variable(tf.truncated_normal([n_hidden_4])),\n",
    "    'out': tf.Variable(tf.truncated_normal([n_classes]))\n",
    "}\n",
    "\n",
    "# Construct model\n",
    "pred = multilayer_perceptron(Xs, weights, biases)\n",
    "\n",
    "# Define loss and optimizer\n",
    "cost_function = tf.reduce_mean(tf.nn.softmax_cross_entropy_with_logits(logits=pred, labels=Ys))\n",
    "optimizer = tf.train.AdamOptimizer(learning_rate=learning_rate)\n",
    "train_step = optimizer.minimize(cost_function)\n",
    "\n",
    "# Initializing the variables\n",
    "init = tf.global_variables_initializer()\n",
    "#create an empty list to store the cost history and accuracy history\n",
    "cost_history = []\n",
    "accuracy_history = []\n",
    "\n",
    "# Launch the graph\n",
    "sess = tf.Session()\n",
    "sess.run(init)\n",
    "\n",
    "# Training cycle\n",
    "for epoch in range(training_epochs):\n",
    "  sess.run(train_step, feed_dict = {Xs:x_train, Ys:y_train})\n",
    "  cost = sess.run(cost_function, feed_dict = {Xs:x_train, Ys:y_train})\n",
    "  cost_history = np.append(cost_history, cost)\n",
    "  correct_prediction = tf.equal(tf.argmax(pred,1), tf.argmax(Ys,1))\n",
    "  accuracy = tf.reduce_mean(tf.cast(correct_prediction, tf.float32))\n",
    "  accuracy = (sess.run(accuracy, feed_dict={Xs: x_test, Ys:y_test}))\n",
    "  accuracy_history = np.append(accuracy_history, accuracy)\n",
    "  if epoch % 200 ==0:\n",
    "    print(\"Epoch:\", '%04d' % (epoch), \"- cost=\", \"{:.9f}\".format(cost), \"- Accuracy=\",accuracy)\n",
    "\n",
    "\n",
    "print(\"Optimization Finished!\")\n",
    "#plot the cost history\n",
    "plt.plot(cost_history)\n",
    "plt.show()\n",
    "#plot the accuracy history\n",
    "plt.plot(accuracy_history)\n",
    "plt.show()"
   ]
  },
  {
   "cell_type": "code",
   "execution_count": 0,
   "metadata": {
    "colab": {},
    "colab_type": "code",
    "id": "YRYDj4hvJX1g"
   },
   "outputs": [],
   "source": []
  }
 ],
 "metadata": {
  "accelerator": "TPU",
  "colab": {
   "collapsed_sections": [],
   "name": "edureka_fashionMNIST_assignment1.ipynb",
   "provenance": []
  },
  "kernelspec": {
   "display_name": "Python 3",
   "language": "python",
   "name": "python3"
  },
  "language_info": {
   "codemirror_mode": {
    "name": "ipython",
    "version": 3
   },
   "file_extension": ".py",
   "mimetype": "text/x-python",
   "name": "python",
   "nbconvert_exporter": "python",
   "pygments_lexer": "ipython3",
   "version": "3.7.3"
  }
 },
 "nbformat": 4,
 "nbformat_minor": 1
}
